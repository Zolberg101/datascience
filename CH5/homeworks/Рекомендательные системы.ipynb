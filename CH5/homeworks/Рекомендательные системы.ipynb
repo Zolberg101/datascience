{
 "cells": [
  {
   "cell_type": "markdown",
   "metadata": {},
   "source": [
    "## Рекомендательные системы"
   ]
  },
  {
   "cell_type": "markdown",
   "metadata": {},
   "source": [
    "##### Входные данные\n",
    "\n",
    "Вам дается две выборки с пользовательскими сессиями - id-шниками просмотренных и id-шниками купленных товаров. Одна выборка будет использоваться для обучения (оценки популярностей товаров), а другая - для теста.\n",
    "\n",
    "В файлах записаны сессии по одной в каждой строке. Формат сессии: id просмотренных товаров через , затем идёт ; после чего следуют id купленных товаров (если такие имеются), разделённые запятой. Например, 1,2,3,4; или 1,2,3,4;5,6.\n",
    "\n",
    "Гарантируется, что среди id купленных товаров все различные."
   ]
  },
  {
   "cell_type": "code",
   "execution_count": 1,
   "metadata": {
    "collapsed": false
   },
   "outputs": [
    {
     "name": "stdout",
     "output_type": "stream",
     "text": [
      "Populating the interactive namespace from numpy and matplotlib\n"
     ]
    }
   ],
   "source": [
    "%pylab inline\n",
    "import pandas as pd"
   ]
  },
  {
   "cell_type": "code",
   "execution_count": 2,
   "metadata": {
    "collapsed": true
   },
   "outputs": [],
   "source": [
    "sessions = pd.read_csv('./coursera_sessions_train.txt',delimiter=';', header=None,names=['viewed','bought'])"
   ]
  },
  {
   "cell_type": "code",
   "execution_count": 3,
   "metadata": {
    "collapsed": false
   },
   "outputs": [
    {
     "name": "stdout",
     "output_type": "stream",
     "text": [
      "<class 'pandas.core.frame.DataFrame'>\n",
      "RangeIndex: 50000 entries, 0 to 49999\n",
      "Data columns (total 2 columns):\n",
      "viewed    50000 non-null object\n",
      "bought    3608 non-null object\n",
      "dtypes: object(2)\n",
      "memory usage: 781.3+ KB\n"
     ]
    },
    {
     "data": {
      "text/html": [
       "<div>\n",
       "<table border=\"1\" class=\"dataframe\">\n",
       "  <thead>\n",
       "    <tr style=\"text-align: right;\">\n",
       "      <th></th>\n",
       "      <th>viewed</th>\n",
       "      <th>bought</th>\n",
       "    </tr>\n",
       "  </thead>\n",
       "  <tbody>\n",
       "    <tr>\n",
       "      <th>0</th>\n",
       "      <td>0,1,2,3,4,5</td>\n",
       "      <td>NaN</td>\n",
       "    </tr>\n",
       "    <tr>\n",
       "      <th>1</th>\n",
       "      <td>9,10,11,9,11,12,9,11</td>\n",
       "      <td>NaN</td>\n",
       "    </tr>\n",
       "    <tr>\n",
       "      <th>2</th>\n",
       "      <td>16,17,18,19,20,21</td>\n",
       "      <td>NaN</td>\n",
       "    </tr>\n",
       "    <tr>\n",
       "      <th>3</th>\n",
       "      <td>24,25,26,27,24</td>\n",
       "      <td>NaN</td>\n",
       "    </tr>\n",
       "    <tr>\n",
       "      <th>4</th>\n",
       "      <td>34,35,36,34,37,35,36,37,38,39,38,39</td>\n",
       "      <td>NaN</td>\n",
       "    </tr>\n",
       "    <tr>\n",
       "      <th>5</th>\n",
       "      <td>42</td>\n",
       "      <td>NaN</td>\n",
       "    </tr>\n",
       "    <tr>\n",
       "      <th>6</th>\n",
       "      <td>47,48,49</td>\n",
       "      <td>NaN</td>\n",
       "    </tr>\n",
       "    <tr>\n",
       "      <th>7</th>\n",
       "      <td>59,60,61,62,60,63,64,65,66,61,67,68,67</td>\n",
       "      <td>67,60,63</td>\n",
       "    </tr>\n",
       "    <tr>\n",
       "      <th>8</th>\n",
       "      <td>71,72,73,74</td>\n",
       "      <td>NaN</td>\n",
       "    </tr>\n",
       "    <tr>\n",
       "      <th>9</th>\n",
       "      <td>76,77,78</td>\n",
       "      <td>NaN</td>\n",
       "    </tr>\n",
       "  </tbody>\n",
       "</table>\n",
       "</div>"
      ],
      "text/plain": [
       "                                   viewed    bought\n",
       "0                             0,1,2,3,4,5       NaN\n",
       "1                    9,10,11,9,11,12,9,11       NaN\n",
       "2                       16,17,18,19,20,21       NaN\n",
       "3                          24,25,26,27,24       NaN\n",
       "4     34,35,36,34,37,35,36,37,38,39,38,39       NaN\n",
       "5                                      42       NaN\n",
       "6                                47,48,49       NaN\n",
       "7  59,60,61,62,60,63,64,65,66,61,67,68,67  67,60,63\n",
       "8                             71,72,73,74       NaN\n",
       "9                                76,77,78       NaN"
      ]
     },
     "execution_count": 3,
     "metadata": {},
     "output_type": "execute_result"
    }
   ],
   "source": [
    "sessions.info()\n",
    "sessions.head(10)"
   ]
  },
  {
   "cell_type": "markdown",
   "metadata": {},
   "source": [
    "##### Важно:\n",
    "\n",
    "    Сессии, в которых пользователь ничего не купил, исключаем из оценки качества.\n",
    "    Если товар не встречался в обучающей выборке, его популярность равна 0.\n",
    "    Рекомендуем разные товары. И их число должно быть не больше, чем количество различных просмотренных пользователем товаров.\n",
    "    Рекомендаций всегда не больше, чем минимум из двух чисел: количество просмотренных пользователем товаров и k в recall@k / precision@k.\n",
    "\n",
    "##### Задание\n",
    "\n",
    "    На обучении постройте частоты появления id в просмотренных и в купленных (id может несколько раз появляться в просмотренных, все появления надо учитывать)\n",
    "    Реализуйте два алгоритма рекомендаций:\n",
    "\n",
    "    сортировка просмотренных id по популярности (частота появления в просмотренных),\n",
    "    сортировка просмотренных id по покупаемости (частота появления в покупках)."
   ]
  },
  {
   "cell_type": "code",
   "execution_count": 4,
   "metadata": {
    "collapsed": true
   },
   "outputs": [],
   "source": [
    "import collections"
   ]
  },
  {
   "cell_type": "code",
   "execution_count": 5,
   "metadata": {
    "collapsed": false
   },
   "outputs": [],
   "source": [
    "viewed = sessions.viewed.values\n",
    "bought = sessions.bought.fillna(-1).values"
   ]
  },
  {
   "cell_type": "code",
   "execution_count": 6,
   "metadata": {
    "collapsed": true
   },
   "outputs": [],
   "source": [
    "from collections import Counter"
   ]
  },
  {
   "cell_type": "code",
   "execution_count": 7,
   "metadata": {
    "collapsed": false
   },
   "outputs": [],
   "source": [
    "viewed_dic = []\n",
    "bought_dic = []\n",
    "viewed_cnt = []\n",
    "bought_cnt = []\n",
    "\n",
    "viewed_dic_all = []\n",
    "bought_dic_all = []\n",
    "for idx, item  in enumerate(viewed):\n",
    "    # инициализируем упорядоченные словари\n",
    "    viewed_dic.append(collections.OrderedDict())\n",
    "    viewed_cnt.append(collections.Counter())\n",
    "    # парсим айдишники сессии как строки\n",
    "    viewed[idx] = viewed[idx].split(\",\")\n",
    "    # заполняем словарь и считаем количество вхождений\n",
    "    viewed_dic_all += viewed[idx]\n",
    "    for n,i in enumerate(viewed[idx]):\n",
    "        try:\n",
    "            count = viewed_dic[idx][i]\n",
    "            viewed_dic[idx].update({i:count + 1})\n",
    "        except KeyError:\n",
    "            viewed_dic[idx].update({i:1})"
   ]
  },
  {
   "cell_type": "code",
   "execution_count": 8,
   "metadata": {
    "collapsed": false
   },
   "outputs": [
    {
     "data": {
      "text/plain": [
       "OrderedDict([('59', 1),\n",
       "             ('60', 2),\n",
       "             ('61', 2),\n",
       "             ('62', 1),\n",
       "             ('63', 1),\n",
       "             ('64', 1),\n",
       "             ('65', 1),\n",
       "             ('66', 1),\n",
       "             ('67', 2),\n",
       "             ('68', 1)])"
      ]
     },
     "execution_count": 8,
     "metadata": {},
     "output_type": "execute_result"
    }
   ],
   "source": [
    "viewed_dic[7]"
   ]
  },
  {
   "cell_type": "code",
   "execution_count": 9,
   "metadata": {
    "collapsed": false
   },
   "outputs": [],
   "source": [
    "for idx, item  in enumerate(bought):\n",
    "    bought_dic.append(collections.OrderedDict())\n",
    "    bought_cnt.append(collections.Counter())\n",
    "    if(bought[idx] != -1):\n",
    "        bought[idx] = bought[idx].split(\",\")\n",
    "        bought_dic_all += bought[idx]\n",
    "        for n,i in enumerate(bought[idx]):\n",
    "            if(bought[idx] != -1):   \n",
    "                try:\n",
    "                    count = bought_dic[idx][i]\n",
    "                    bought_dic[idx].update({i:count + 1})\n",
    "                except KeyError:\n",
    "                    bought_dic[idx].update({i:1})\n",
    "            else:\n",
    "                bought_dic[idx].update({-1:0})\n",
    "    else:\n",
    "        bought_dic[idx].update({-1:0})\n",
    "        bought_dic_all += ['-1']\n",
    "        continue"
   ]
  },
  {
   "cell_type": "code",
   "execution_count": 10,
   "metadata": {
    "collapsed": false
   },
   "outputs": [
    {
     "data": {
      "text/plain": [
       "OrderedDict([('67', 1), ('60', 1), ('63', 1)])"
      ]
     },
     "execution_count": 10,
     "metadata": {},
     "output_type": "execute_result"
    }
   ],
   "source": [
    "bought_dic[7]"
   ]
  },
  {
   "cell_type": "code",
   "execution_count": 11,
   "metadata": {
    "collapsed": false
   },
   "outputs": [],
   "source": [
    "viewed_dic_all = collections.Counter(viewed_dic_all)\n",
    "bought_dic_all = collections.Counter(bought_dic_all)"
   ]
  },
  {
   "cell_type": "code",
   "execution_count": 12,
   "metadata": {
    "collapsed": false
   },
   "outputs": [
    {
     "name": "stdout",
     "output_type": "stream",
     "text": [
      "[('73', 677), ('158', 641), ('204', 396), ('262', 387), ('162', 318)]\n",
      "[('-1', 46392), ('158', 14), ('204', 12), ('3324', 11), ('73', 11)]\n"
     ]
    }
   ],
   "source": [
    "print(viewed_dic_all.most_common(5))\n",
    "print(bought_dic_all.most_common(5))"
   ]
  },
  {
   "cell_type": "code",
   "execution_count": 13,
   "metadata": {
    "collapsed": false
   },
   "outputs": [],
   "source": [
    "k1_viewed = []\n",
    "for idx, item  in enumerate(viewed_dic):\n",
    "    # заполняем частотами из словаря\n",
    "    for key, value in viewed_dic[idx].items():\n",
    "        viewed_dic[idx][key] = viewed_dic_all[key]   \n",
    "    # получаем значение для топ-1 по просмотрам    \n",
    "    val_t1_v = collections.Counter(viewed_dic[idx]).most_common(1)[0][1]\n",
    "    #присваиваем для k1\n",
    "    for key, value in viewed_dic[idx].items():\n",
    "        if(value == val_t1_v):\n",
    "            k1_viewed.append(key)\n",
    "            break"
   ]
  },
  {
   "cell_type": "code",
   "execution_count": 14,
   "metadata": {
    "collapsed": false
   },
   "outputs": [
    {
     "name": "stdout",
     "output_type": "stream",
     "text": [
      "OrderedDict([('59', 1), ('60', 2), ('61', 2), ('62', 1), ('63', 6), ('64', 3), ('65', 2), ('66', 2), ('67', 2), ('68', 2)])\n",
      "63\n",
      "OrderedDict([('67', 1), ('60', 1), ('63', 1)])\n",
      "OrderedDict([(-1, 0)])\n"
     ]
    }
   ],
   "source": [
    "print(viewed_dic[7])\n",
    "print(k1_viewed[7])\n",
    "print(bought_dic[7])\n",
    "print(bought_dic[1])"
   ]
  },
  {
   "cell_type": "code",
   "execution_count": 15,
   "metadata": {
    "collapsed": false
   },
   "outputs": [],
   "source": [
    "k1_bought = []\n",
    "for idx, item  in enumerate(bought_dic):\n",
    "    for key, value in bought_dic[idx].items():\n",
    "        if(key != -1):\n",
    "            bought_dic[idx][key] = bought_dic_all[key]\n",
    "        else:\n",
    "            bought_dic[idx][key] = 0\n",
    "    # получаем значение для топ-1 по покупкам\n",
    "        val_t1_b = collections.Counter(bought_dic[idx]).most_common(1)[0][1]\n",
    "    for key, value in bought_dic[idx].items():\n",
    "        if(value == val_t1_b):\n",
    "            k1_bought.append(key)\n",
    "            break"
   ]
  },
  {
   "cell_type": "code",
   "execution_count": 16,
   "metadata": {
    "collapsed": false
   },
   "outputs": [
    {
     "name": "stdout",
     "output_type": "stream",
     "text": [
      "OrderedDict([('59', 1), ('60', 2), ('61', 2), ('62', 1), ('63', 6), ('64', 3), ('65', 2), ('66', 2), ('67', 2), ('68', 2)])\n"
     ]
    },
    {
     "data": {
      "text/plain": [
       "OrderedDict([('67', 1), ('60', 1), ('63', 1)])"
      ]
     },
     "execution_count": 16,
     "metadata": {},
     "output_type": "execute_result"
    }
   ],
   "source": [
    "print(viewed_dic[7])\n",
    "bought_dic[7]"
   ]
  },
  {
   "cell_type": "code",
   "execution_count": 17,
   "metadata": {
    "collapsed": false
   },
   "outputs": [
    {
     "name": "stdout",
     "output_type": "stream",
     "text": [
      "[('63', 6), ('64', 3), ('60', 2), ('67', 2), ('61', 2)]\n"
     ]
    }
   ],
   "source": [
    "print(collections.Counter(viewed_dic[7]).most_common(5))"
   ]
  },
  {
   "cell_type": "code",
   "execution_count": 18,
   "metadata": {
    "collapsed": false
   },
   "outputs": [],
   "source": [
    "k5_viewed = []\n",
    "k5_bought = []\n",
    "for idx, item  in enumerate(viewed_dic):\n",
    "    if(idx != 300000):\n",
    "        # получаем значение топ-5 по просмотрам\n",
    "        val_t5_v = collections.Counter(viewed_dic[idx]).most_common(10)\n",
    "        a = []\n",
    "        i = 0; z = 0\n",
    "        while i < 10:\n",
    "            try:\n",
    "                #if(idx == 7):\n",
    "                #    print(\"t5=\",val_t5_v[z],\"i=\",i)\n",
    "                temp = val_t5_v[z]\n",
    "                #присваиваем для k5\n",
    "                for key, value in viewed_dic[idx].items():        \n",
    "                    if(value == temp[1]):\n",
    "                        if(len(a) !=5):\n",
    "                            try:\n",
    "                                a.index(key)\n",
    "                                #if(idx == 7):  \n",
    "                                    #print(key,value)\n",
    "                                    #print(len(a))\n",
    "                                continue\n",
    "                            except ValueError:\n",
    "                                #if(idx == 7):\n",
    "                                #    print(\"i =\",i,\"; val_t5_v = \",temp[0])\n",
    "                                a.append(key)\n",
    "                                z +=1\n",
    "                                i = 0\n",
    "                            break\n",
    "                        else:\n",
    "                            break\n",
    "            except IndexError:\n",
    "                break\n",
    "            i += 1\n",
    "        k5_viewed.append(a)\n",
    "        #if(idx == 7):\n",
    "        #    print(k5_viewed)\n",
    "    else:\n",
    "        break"
   ]
  },
  {
   "cell_type": "code",
   "execution_count": 19,
   "metadata": {
    "collapsed": false
   },
   "outputs": [],
   "source": [
    "for idx, item  in enumerate(bought_dic):\n",
    "    if(idx != 3000000):\n",
    "        # получаем значение топ-5 по просмотрам\n",
    "        val_t5_b = collections.Counter(bought_dic[idx]).most_common(10)\n",
    "        a = []\n",
    "        i = 0; z = 0\n",
    "        while i < 10:\n",
    "            try:\n",
    "                #if(idx == 7):\n",
    "                #    print(\"t5=\",val_t5_v[z],\"i=\",i)\n",
    "                temp = val_t5_b[z]\n",
    "                #присваиваем для k5\n",
    "                for key, value in bought_dic[idx].items():        \n",
    "                    if(value == temp[1]):\n",
    "                        if(len(a) !=5):\n",
    "                            try:\n",
    "                                a.index(key)\n",
    "                                #if(idx == 7):  \n",
    "                                    #print(key,value)\n",
    "                                    #print(len(a))\n",
    "                                continue\n",
    "                            except ValueError:\n",
    "                                #if(idx == 7):\n",
    "                                #    print(\"i =\",i,\"; val_t5_v = \",temp[0])\n",
    "                                a.append(key)\n",
    "                                z +=1\n",
    "                                i = 0\n",
    "                            break\n",
    "                        else:\n",
    "                            break\n",
    "            except IndexError:\n",
    "                break\n",
    "            i += 1\n",
    "        k5_bought.append(a)\n",
    "        #if(idx == 7):\n",
    "        #    print(k5_viewed)\n",
    "    else:\n",
    "        break"
   ]
  },
  {
   "cell_type": "code",
   "execution_count": 20,
   "metadata": {
    "collapsed": false
   },
   "outputs": [
    {
     "name": "stdout",
     "output_type": "stream",
     "text": [
      "OrderedDict([('206', 14), ('207', 37)]) \n",
      "k1= 207 \n",
      "k5= ['207', '206']\n",
      "OrderedDict([(-1, 0)]) \n",
      "k1= -1 \n",
      "k5= [-1]\n"
     ]
    },
    {
     "data": {
      "text/plain": [
       "OrderedDict([('0', 6), ('1', 6), ('2', 9), ('3', 7), ('4', 11), ('5', 4)])"
      ]
     },
     "execution_count": 20,
     "metadata": {},
     "output_type": "execute_result"
    }
   ],
   "source": [
    "def print_f(i):\n",
    "    print(viewed_dic[i], '\\nk1=',k1_viewed[i],'\\nk5=', k5_viewed[i])\n",
    "    print(bought_dic[i], '\\nk1=',k1_bought[i],'\\nk5=', k5_bought[i])\n",
    "print_f(20)\n",
    "viewed_dic[0]"
   ]
  },
  {
   "cell_type": "markdown",
   "metadata": {},
   "source": [
    "Прохожусь циклом по купленным из обучающей выборки и выбираю только те, где не пустая строка(т.е. есть хотя бы одна покупка) и получаю лист из всех купленных товаров для каждой сессии. "
   ]
  },
  {
   "cell_type": "markdown",
   "metadata": {},
   "source": [
    "Для каждого листа из предыдущего шаг считаю num = len(np.intersect1d(array, train_v)), где array количество купленных товаров в сессии и train_v - топ1 или топ 5 полученный выше. Далее получаю precision = num/len(top), где top это топ1 или топ5. И для recall = num/len(array)"
   ]
  },
  {
   "cell_type": "markdown",
   "metadata": {},
   "source": [
    "#### AverageRecall@1, AveragePrecision@1, AverageRecall@5, AveragePrecision@5"
   ]
  },
  {
   "cell_type": "markdown",
   "metadata": {},
   "source": [
    "$$Recal@k = {\\frac{({Купленное-из-рекомендованного}  \\cap  {top-k})}{Количество-рекомендаций(top-k)}}$$"
   ]
  },
  {
   "cell_type": "markdown",
   "metadata": {},
   "source": [
    "$$Precision@k = \\frac{({Купленное-из-рекомендованного}  \\cap  {top-k})}{{количество-покупок}}$$"
   ]
  },
  {
   "cell_type": "markdown",
   "metadata": {
    "collapsed": true
   },
   "source": [
    "    Precision@k - Какая доля отрекомендаций покупается.\n",
    "    Recal@k - Какая доля от того, что пользователи покупает в среднем рекомендуется нами и оказывается в покупках."
   ]
  },
  {
   "cell_type": "markdown",
   "metadata": {},
   "source": [
    "bought - количество товаров."
   ]
  },
  {
   "cell_type": "code",
   "execution_count": 21,
   "metadata": {
    "collapsed": true
   },
   "outputs": [],
   "source": [
    "bought_cnt = []\n",
    "tmp = []\n",
    "k1_viewed_f = []\n",
    "k5_viewed_f = []\n",
    "k1_bought_f = []\n",
    "k5_bought_f = []\n",
    "for i,v in enumerate(bought):\n",
    "    if(v != -1):\n",
    "        k1_viewed_f.append([k1_viewed[i]])\n",
    "        k5_viewed_f.append(k5_viewed[i])\n",
    "        k1_bought_f.append([k1_bought[i]])\n",
    "        k5_bought_f.append(k5_bought[i])\n",
    "        tmp +=[bought[i]]\n",
    "        bought_cnt += [len(v)]\n",
    "bought = tmp"
   ]
  },
  {
   "cell_type": "markdown",
   "metadata": {},
   "source": [
    "    Рекомендации по частоте просмотров товаров - качество на обучающей выборке:\n",
    "    Рекомендации по частоте просмотров товаров - качество на тестовой выборке:\n",
    "    Рекомендации по частоте покупок - качество на обучающей выборке:\n",
    "    Рекомендации по частоте покупок - качество на тестовой выборке выборке:"
   ]
  },
  {
   "cell_type": "markdown",
   "metadata": {},
   "source": [
    "### Рекомендации по частоте просмотров товаров - качество на обучающей выборке:\n"
   ]
  },
  {
   "cell_type": "code",
   "execution_count": 22,
   "metadata": {
    "collapsed": false
   },
   "outputs": [],
   "source": [
    "RecalA1v_train,PrecisionA1v_train,RecalA5v_train,PrecisionA5v_train = [], [], [], []"
   ]
  },
  {
   "cell_type": "code",
   "execution_count": 23,
   "metadata": {
    "collapsed": false
   },
   "outputs": [],
   "source": [
    "num = 0\n",
    "for i,v in enumerate(bought):\n",
    "    num_1 = len(np.intersect1d(np.array(bought[i]),np.array(k1_viewed_f[i]))) + 0.0\n",
    "    RecalA1v_train.append((num_1/(len(bought[i]))))\n",
    "    PrecisionA1v_train.append(num_1/1)\n",
    "   \n",
    "\n",
    "    num_5 = len(np.intersect1d(np.array(bought[i]),np.array(k5_viewed_f[i]))) + 0.0\n",
    "    RecalA5v_train.append(num_5/(len(bought[i])))\n",
    "    PrecisionA5v_train.append(num_5/5)\n",
    "    \n",
    "       "
   ]
  },
  {
   "cell_type": "code",
   "execution_count": 24,
   "metadata": {
    "collapsed": true
   },
   "outputs": [],
   "source": [
    "def write_answer_string_to_file(answer, filename):\n",
    "    with open(filename, 'w') as f_out:\n",
    "        f_out.write(answer)"
   ]
  },
  {
   "cell_type": "code",
   "execution_count": 25,
   "metadata": {
    "collapsed": false
   },
   "outputs": [
    {
     "name": "stdout",
     "output_type": "stream",
     "text": [
      "0.44 0.51 0.82 0.21\n"
     ]
    }
   ],
   "source": [
    "print(round(mean(RecalA1v_train),2),\n",
    "      round(mean(PrecisionA1v_train),2),\n",
    "      round(mean(RecalA5v_train),2),\n",
    "      round(mean(PrecisionA5v_train),2))"
   ]
  },
  {
   "cell_type": "code",
   "execution_count": 26,
   "metadata": {
    "collapsed": true
   },
   "outputs": [],
   "source": [
    "write_answer_string_to_file('0.44, 0.51, 0.82, 0.45','recomend_1.txt')"
   ]
  },
  {
   "cell_type": "markdown",
   "metadata": {},
   "source": [
    "### Рекомендации по частоте покупок - качество на обучающей выборке:"
   ]
  },
  {
   "cell_type": "code",
   "execution_count": 27,
   "metadata": {
    "collapsed": true
   },
   "outputs": [],
   "source": [
    "RecalA1b_train,PrecisionA1b_train,RecalA5b_train,PrecisionA5b_train = [], [], [], []"
   ]
  },
  {
   "cell_type": "code",
   "execution_count": 28,
   "metadata": {
    "collapsed": true
   },
   "outputs": [],
   "source": [
    "num = 0\n",
    "for i,v in enumerate(bought):\n",
    "    num_1 = len(np.intersect1d(np.array(bought[i]),np.array(k1_bought_f[i]))) + 0.0\n",
    "    PrecisionA1b_train.append(num_1/1)\n",
    "    RecalA1b_train.append((num_1/(len(bought[i]))))\n",
    "\n",
    "    num_5 = len(np.intersect1d(np.array(bought[i]),np.array(k5_bought_f[i]))) + 0.0\n",
    "    PrecisionA5b_train.append(num_5/(len(k5_bought_f[i])))\n",
    "    RecalA5b_train.append(num_5/5)"
   ]
  },
  {
   "cell_type": "code",
   "execution_count": 29,
   "metadata": {
    "collapsed": false
   },
   "outputs": [
    {
     "name": "stdout",
     "output_type": "stream",
     "text": [
      "0.85 1.0 0.29 1.0\n"
     ]
    }
   ],
   "source": [
    "print(round(mean(RecalA1b_train),2),\n",
    "      round(mean(PrecisionA1b_train),2),\n",
    "      round(mean(RecalA5b_train),2),\n",
    "      round(mean(PrecisionA5b_train),2))"
   ]
  },
  {
   "cell_type": "code",
   "execution_count": 30,
   "metadata": {
    "collapsed": true
   },
   "outputs": [],
   "source": [
    "write_answer_string_to_file('0.85, 1.0, 1.0, 1.0','recomend_3.txt')"
   ]
  },
  {
   "cell_type": "code",
   "execution_count": null,
   "metadata": {
    "collapsed": true
   },
   "outputs": [],
   "source": []
  }
 ],
 "metadata": {
  "anaconda-cloud": {},
  "kernelspec": {
   "display_name": "Python [python3]",
   "language": "python",
   "name": "Python [python3]"
  },
  "language_info": {
   "codemirror_mode": {
    "name": "ipython",
    "version": 3
   },
   "file_extension": ".py",
   "mimetype": "text/x-python",
   "name": "python",
   "nbconvert_exporter": "python",
   "pygments_lexer": "ipython3",
   "version": "3.5.2"
  }
 },
 "nbformat": 4,
 "nbformat_minor": 0
}

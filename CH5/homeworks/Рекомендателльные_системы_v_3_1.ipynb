{
 "cells": [
  {
   "cell_type": "markdown",
   "metadata": {},
   "source": [
    "## Рекомендательные системы"
   ]
  },
  {
   "cell_type": "markdown",
   "metadata": {},
   "source": [
    "##### Входные данные\n",
    "\n",
    "Вам дается две выборки с пользовательскими сессиями - id-шниками просмотренных и id-шниками купленных товаров. Одна выборка будет использоваться для обучения (оценки популярностей товаров), а другая - для теста.\n",
    "\n",
    "В файлах записаны сессии по одной в каждой строке. Формат сессии: id просмотренных товаров через , затем идёт ; после чего следуют id купленных товаров (если такие имеются), разделённые запятой. Например, 1,2,3,4; или 1,2,3,4;5,6.\n",
    "\n",
    "Гарантируется, что среди id купленных товаров все различные."
   ]
  },
  {
   "cell_type": "code",
   "execution_count": 1,
   "metadata": {
    "collapsed": false
   },
   "outputs": [
    {
     "name": "stdout",
     "output_type": "stream",
     "text": [
      "Populating the interactive namespace from numpy and matplotlib\n"
     ]
    }
   ],
   "source": [
    "%pylab inline\n",
    "import pandas as pd\n",
    "import copy\n",
    "from collections import Counter"
   ]
  },
  {
   "cell_type": "code",
   "execution_count": 2,
   "metadata": {
    "collapsed": true
   },
   "outputs": [],
   "source": [
    "sessions = pd.read_csv('./coursera_sessions_train.txt',delimiter=';', header=None,names=['viewed','bought'])"
   ]
  },
  {
   "cell_type": "code",
   "execution_count": 3,
   "metadata": {
    "collapsed": false
   },
   "outputs": [
    {
     "name": "stdout",
     "output_type": "stream",
     "text": [
      "<class 'pandas.core.frame.DataFrame'>\n",
      "RangeIndex: 50000 entries, 0 to 49999\n",
      "Data columns (total 2 columns):\n",
      "viewed    50000 non-null object\n",
      "bought    3608 non-null object\n",
      "dtypes: object(2)\n",
      "memory usage: 781.3+ KB\n"
     ]
    },
    {
     "data": {
      "text/html": [
       "<div>\n",
       "<table border=\"1\" class=\"dataframe\">\n",
       "  <thead>\n",
       "    <tr style=\"text-align: right;\">\n",
       "      <th></th>\n",
       "      <th>viewed</th>\n",
       "      <th>bought</th>\n",
       "    </tr>\n",
       "  </thead>\n",
       "  <tbody>\n",
       "    <tr>\n",
       "      <th>0</th>\n",
       "      <td>0,1,2,3,4,5</td>\n",
       "      <td>NaN</td>\n",
       "    </tr>\n",
       "    <tr>\n",
       "      <th>1</th>\n",
       "      <td>9,10,11,9,11,12,9,11</td>\n",
       "      <td>NaN</td>\n",
       "    </tr>\n",
       "    <tr>\n",
       "      <th>2</th>\n",
       "      <td>16,17,18,19,20,21</td>\n",
       "      <td>NaN</td>\n",
       "    </tr>\n",
       "    <tr>\n",
       "      <th>3</th>\n",
       "      <td>24,25,26,27,24</td>\n",
       "      <td>NaN</td>\n",
       "    </tr>\n",
       "    <tr>\n",
       "      <th>4</th>\n",
       "      <td>34,35,36,34,37,35,36,37,38,39,38,39</td>\n",
       "      <td>NaN</td>\n",
       "    </tr>\n",
       "    <tr>\n",
       "      <th>5</th>\n",
       "      <td>42</td>\n",
       "      <td>NaN</td>\n",
       "    </tr>\n",
       "    <tr>\n",
       "      <th>6</th>\n",
       "      <td>47,48,49</td>\n",
       "      <td>NaN</td>\n",
       "    </tr>\n",
       "    <tr>\n",
       "      <th>7</th>\n",
       "      <td>59,60,61,62,60,63,64,65,66,61,67,68,67</td>\n",
       "      <td>67,60,63</td>\n",
       "    </tr>\n",
       "    <tr>\n",
       "      <th>8</th>\n",
       "      <td>71,72,73,74</td>\n",
       "      <td>NaN</td>\n",
       "    </tr>\n",
       "    <tr>\n",
       "      <th>9</th>\n",
       "      <td>76,77,78</td>\n",
       "      <td>NaN</td>\n",
       "    </tr>\n",
       "  </tbody>\n",
       "</table>\n",
       "</div>"
      ],
      "text/plain": [
       "                                   viewed    bought\n",
       "0                             0,1,2,3,4,5       NaN\n",
       "1                    9,10,11,9,11,12,9,11       NaN\n",
       "2                       16,17,18,19,20,21       NaN\n",
       "3                          24,25,26,27,24       NaN\n",
       "4     34,35,36,34,37,35,36,37,38,39,38,39       NaN\n",
       "5                                      42       NaN\n",
       "6                                47,48,49       NaN\n",
       "7  59,60,61,62,60,63,64,65,66,61,67,68,67  67,60,63\n",
       "8                             71,72,73,74       NaN\n",
       "9                                76,77,78       NaN"
      ]
     },
     "execution_count": 3,
     "metadata": {},
     "output_type": "execute_result"
    }
   ],
   "source": [
    "sessions.info()\n",
    "sessions.head(10)"
   ]
  },
  {
   "cell_type": "markdown",
   "metadata": {},
   "source": [
    "##### Важно:\n",
    "\n",
    "    Сессии, в которых пользователь ничего не купил, исключаем из оценки качества.\n",
    "    Если товар не встречался в обучающей выборке, его популярность равна 0.\n",
    "    Рекомендуем разные товары. И их число должно быть не больше, чем количество различных просмотренных пользователем товаров.\n",
    "    Рекомендаций всегда не больше, чем минимум из двух чисел: количество просмотренных пользователем товаров и k в recall@k / precision@k.\n",
    "\n",
    "##### Задание\n",
    "\n",
    "    На обучении постройте частоты появления id в просмотренных и в купленных (id может несколько раз появляться в просмотренных, все появления надо учитывать)\n",
    "    Реализуйте два алгоритма рекомендаций:\n",
    "\n",
    "    сортировка просмотренных id по популярности (частота появления в просмотренных),\n",
    "    сортировка просмотренных id по покупаемости (частота появления в покупках)."
   ]
  },
  {
   "cell_type": "markdown",
   "metadata": {},
   "source": [
    "### Создаем словари частот, парсим в строки элементы сессии, уникализируем эти элементы"
   ]
  },
  {
   "cell_type": "code",
   "execution_count": 4,
   "metadata": {
    "collapsed": false
   },
   "outputs": [],
   "source": [
    "viewed = copy.copy(sessions.viewed.values)\n",
    "bought = copy.copy(sessions.bought.fillna(-1).values)\n",
    "viewed_dic = []\n",
    "bought_dic = []\n",
    "for idx, item  in enumerate(viewed):\n",
    "    viewed[idx] = viewed[idx].split(\",\")\n",
    "    viewed_dic  += viewed[idx]\n",
    "    viewed[idx] = pd.unique(viewed[idx])\n",
    "viewed_dic = Counter(viewed_dic)\n",
    "\n",
    "for idx, item  in enumerate(bought):\n",
    "        if(bought[idx] != -1):\n",
    "            bought[idx] = bought[idx].split(\",\")\n",
    "            bought_dic  += bought[idx]\n",
    "            bought[idx] = pd.unique(bought[idx])\n",
    "bought_dic = Counter(bought_dic)\n"
   ]
  },
  {
   "cell_type": "markdown",
   "metadata": {},
   "source": [
    "### Получаем рекомендации по переданным словарям и сессиям"
   ]
  },
  {
   "cell_type": "code",
   "execution_count": 5,
   "metadata": {
    "collapsed": false
   },
   "outputs": [
    {
     "name": "stdout",
     "output_type": "stream",
     "text": [
      "312 ['59' '60' '61' '62' '63' '64' '65' '66' '67' '68'] 2 ['67' '60' '63']\n"
     ]
    }
   ],
   "source": [
    "def recommend_t(viewed_dic, viewed, bought_dic = 0, bought = 0,i=0):\n",
    "    print(viewed_dic[str(i)],viewed[i],bought_dic[str(i)],bought[i])\n",
    "    \n",
    "    k1_v,k1_b,k5_v,k5_b = [],[],[],[]\n",
    "    sorted_viewed, sorted_bought = [],[]\n",
    "    \n",
    "    for idx,item in enumerate(viewed):\n",
    "        sorted_viewed.append(sorted(list(viewed[idx]), key=lambda x: viewed_dic[x], reverse=True))\n",
    "        sorted_bought.append(sorted(list(viewed[idx]), key=lambda x: bought_dic[x], reverse=True))\n",
    "        \n",
    "        k1_v.append(sorted_viewed[idx][0])\n",
    "        k5_v.append(sorted_viewed[idx][:5])\n",
    "        k1_b.append(sorted_bought[idx][0])\n",
    "        k5_b.append(sorted_bought[idx][:5])\n",
    "    \n",
    "    \n",
    "    return {'k1_v':k1_v,'k5_v':k5_v,'sorted_viewed':sorted_viewed,\n",
    "            'k1_b':k1_b,'k5_b':k5_b,'sorted_bought':sorted_bought}\n",
    "    \n",
    "a = recommend_t(viewed_dic, viewed, bought_dic,bought,7)"
   ]
  },
  {
   "cell_type": "code",
   "execution_count": 6,
   "metadata": {
    "collapsed": false
   },
   "outputs": [],
   "source": [
    "def recommend(dic,viewed,k=5):\n",
    "    rec = []\n",
    "    sorting = []\n",
    "    \n",
    "    for idx,item in enumerate(viewed):\n",
    "        sorting.append(sorted(list(viewed[idx]), key=lambda x: dic[x], reverse=True))\n",
    "        rec.append(sorting[idx][:k])\n",
    "        \n",
    "    return {'rec':rec,'sorted':sorting,'k':k,'list':'rec - list of recommendation; sorted - sorted list; k - top k'}"
   ]
  },
  {
   "cell_type": "code",
   "execution_count": 7,
   "metadata": {
    "collapsed": false
   },
   "outputs": [],
   "source": [
    "t1_v = recommend(viewed_dic, viewed,1)['rec']\n",
    "t5_v = recommend(viewed_dic, viewed,5)['rec']\n",
    "t1_b = recommend(bought_dic, viewed,1)['rec']\n",
    "t5_b = recommend(bought_dic, viewed,5)['rec']\n"
   ]
  },
  {
   "cell_type": "markdown",
   "metadata": {},
   "source": [
    "### Расчет метрик"
   ]
  },
  {
   "cell_type": "markdown",
   "metadata": {},
   "source": [
    "$$Recal@k = {\\frac{({Купленное-из-рекомендованного}  \\cap  {top-k})}{Количество-рекомендаций(top-k)}}$$"
   ]
  },
  {
   "cell_type": "markdown",
   "metadata": {},
   "source": [
    "$$Precision@k = \\frac{({Купленное-из-рекомендованного}  \\cap  {top-k})}{{количество-покупок}}$$"
   ]
  },
  {
   "cell_type": "markdown",
   "metadata": {},
   "source": [
    "#### AverageRecall@1, AveragePrecision@1, AverageRecall@5, AveragePrecision@5\n",
    "    Precision@k - Какая доля отрекомендаций покупается.\n",
    "    Recal@k - Какая доля от того, что пользователи покупает в среднем рекомендуется нами и оказывается в покупках."
   ]
  },
  {
   "cell_type": "code",
   "execution_count": 8,
   "metadata": {
    "collapsed": true
   },
   "outputs": [],
   "source": [
    "#0.44 0.51 0.82 0.21"
   ]
  },
  {
   "cell_type": "code",
   "execution_count": 9,
   "metadata": {
    "collapsed": false
   },
   "outputs": [],
   "source": [
    "def recommend_metrics(bought,top_list,rounded = 2):\n",
    "    # max items in top-list\n",
    "    k = len(max(top_list,key=len))\n",
    "    \n",
    "    recal, precision = [],[]\n",
    "    for idx,item in enumerate(bought):\n",
    "            if(type(item) != int):\n",
    "                num = len(np.intersect1d(np.array(bought[idx]),np.array(top_list[idx]))) + 0.0\n",
    "                recal.append((num/(len(bought[idx]))))\n",
    "                precision.append(num/k)\n",
    "    average_rec = (round(mean(recal),rounded))\n",
    "    aver_prec = (round(mean(precision),rounded))\n",
    "    return {'recal': recal, 'precision':precision,'k':k,\n",
    "            'average_recal':average_rec,'average_precision':aver_prec}   "
   ]
  },
  {
   "cell_type": "code",
   "execution_count": 10,
   "metadata": {
    "collapsed": true
   },
   "outputs": [],
   "source": [
    "def write_answer_string_to_file(answer, filename):\n",
    "    with open(filename, 'w') as f_out:\n",
    "        f_out.write(answer)"
   ]
  },
  {
   "cell_type": "markdown",
   "metadata": {},
   "source": [
    "### Рекомендации по частоте просмотров товаров - качество на обучающей выборке"
   ]
  },
  {
   "cell_type": "code",
   "execution_count": 11,
   "metadata": {
    "collapsed": false
   },
   "outputs": [],
   "source": [
    "AverageRecall_1 = recommend_metrics(bought,t1_v)['average_recal']\n",
    "AveragePrecision_1 = recommend_metrics(bought,t1_v)['average_precision']\n",
    "AverageRecall_5 = recommend_metrics(bought,t5_v)['average_recal']\n",
    "AveragePrecision_5 = recommend_metrics(bought,t5_v)['average_precision']"
   ]
  },
  {
   "cell_type": "code",
   "execution_count": 12,
   "metadata": {
    "collapsed": false
   },
   "outputs": [
    {
     "name": "stdout",
     "output_type": "stream",
     "text": [
      "0.44 0.51 0.82 0.21\n"
     ]
    }
   ],
   "source": [
    "print(AverageRecall_1,AveragePrecision_1,AverageRecall_5,AveragePrecision_5)"
   ]
  },
  {
   "cell_type": "code",
   "execution_count": 13,
   "metadata": {
    "collapsed": true
   },
   "outputs": [],
   "source": [
    "write_answer_string_to_file('0.44 0.51 0.82 0.21','recomend_1.txt')"
   ]
  },
  {
   "cell_type": "markdown",
   "metadata": {},
   "source": [
    "### Рекомендации по частоте покупок - качество на обучающей выборке:"
   ]
  },
  {
   "cell_type": "code",
   "execution_count": 14,
   "metadata": {
    "collapsed": true
   },
   "outputs": [],
   "source": [
    "AverageRecall_1 = recommend_metrics(bought,t1_b)['average_recal']\n",
    "AveragePrecision_1 = recommend_metrics(bought,t1_b)['average_precision']\n",
    "AverageRecall_5 = recommend_metrics(bought,t5_b)['average_recal']\n",
    "AveragePrecision_5 = recommend_metrics(bought,t5_b)['average_precision']"
   ]
  },
  {
   "cell_type": "code",
   "execution_count": 15,
   "metadata": {
    "collapsed": false
   },
   "outputs": [
    {
     "name": "stdout",
     "output_type": "stream",
     "text": [
      "0.69 0.8 0.93 0.25\n"
     ]
    }
   ],
   "source": [
    "print(AverageRecall_1,AveragePrecision_1,AverageRecall_5,AveragePrecision_5)"
   ]
  },
  {
   "cell_type": "code",
   "execution_count": 16,
   "metadata": {
    "collapsed": true
   },
   "outputs": [],
   "source": [
    "write_answer_string_to_file('0.69 0.8 0.93 0.25','recomend_3.txt')"
   ]
  },
  {
   "cell_type": "code",
   "execution_count": 17,
   "metadata": {
    "collapsed": false
   },
   "outputs": [
    {
     "name": "stdout",
     "output_type": "stream",
     "text": [
      "<class 'pandas.core.frame.DataFrame'>\n",
      "RangeIndex: 50000 entries, 0 to 49999\n",
      "Data columns (total 2 columns):\n",
      "viewed    50000 non-null object\n",
      "bought    3608 non-null object\n",
      "dtypes: object(2)\n",
      "memory usage: 781.3+ KB\n"
     ]
    },
    {
     "data": {
      "text/html": [
       "<div>\n",
       "<table border=\"1\" class=\"dataframe\">\n",
       "  <thead>\n",
       "    <tr style=\"text-align: right;\">\n",
       "      <th></th>\n",
       "      <th>viewed</th>\n",
       "      <th>bought</th>\n",
       "    </tr>\n",
       "  </thead>\n",
       "  <tbody>\n",
       "    <tr>\n",
       "      <th>0</th>\n",
       "      <td>6,7,8</td>\n",
       "      <td>NaN</td>\n",
       "    </tr>\n",
       "    <tr>\n",
       "      <th>1</th>\n",
       "      <td>13,14,15</td>\n",
       "      <td>NaN</td>\n",
       "    </tr>\n",
       "    <tr>\n",
       "      <th>2</th>\n",
       "      <td>22,23</td>\n",
       "      <td>NaN</td>\n",
       "    </tr>\n",
       "    <tr>\n",
       "      <th>3</th>\n",
       "      <td>28,29,30,31,32,33</td>\n",
       "      <td>NaN</td>\n",
       "    </tr>\n",
       "    <tr>\n",
       "      <th>4</th>\n",
       "      <td>40,41</td>\n",
       "      <td>NaN</td>\n",
       "    </tr>\n",
       "    <tr>\n",
       "      <th>5</th>\n",
       "      <td>43,44,43,45,43,45,43,46</td>\n",
       "      <td>NaN</td>\n",
       "    </tr>\n",
       "    <tr>\n",
       "      <th>6</th>\n",
       "      <td>50,51,47,52,49,53,54,55,56,57,58</td>\n",
       "      <td>NaN</td>\n",
       "    </tr>\n",
       "    <tr>\n",
       "      <th>7</th>\n",
       "      <td>63,68,69,70,66,61,59,61,66,68</td>\n",
       "      <td>66,63</td>\n",
       "    </tr>\n",
       "    <tr>\n",
       "      <th>8</th>\n",
       "      <td>75</td>\n",
       "      <td>NaN</td>\n",
       "    </tr>\n",
       "    <tr>\n",
       "      <th>9</th>\n",
       "      <td>79,80,81,82,83</td>\n",
       "      <td>NaN</td>\n",
       "    </tr>\n",
       "  </tbody>\n",
       "</table>\n",
       "</div>"
      ],
      "text/plain": [
       "                             viewed bought\n",
       "0                             6,7,8    NaN\n",
       "1                          13,14,15    NaN\n",
       "2                             22,23    NaN\n",
       "3                 28,29,30,31,32,33    NaN\n",
       "4                             40,41    NaN\n",
       "5           43,44,43,45,43,45,43,46    NaN\n",
       "6  50,51,47,52,49,53,54,55,56,57,58    NaN\n",
       "7     63,68,69,70,66,61,59,61,66,68  66,63\n",
       "8                                75    NaN\n",
       "9                    79,80,81,82,83    NaN"
      ]
     },
     "execution_count": 17,
     "metadata": {},
     "output_type": "execute_result"
    }
   ],
   "source": [
    "test = pd.read_csv('./coursera_sessions_test.txt',delimiter=';', header=None, names=['viewed','bought'])\n",
    "sessions.info()\n",
    "test.head(10)"
   ]
  },
  {
   "cell_type": "code",
   "execution_count": 18,
   "metadata": {
    "collapsed": false
   },
   "outputs": [],
   "source": [
    "viewed = copy.copy(test.viewed)\n",
    "bought = copy.copy(test.bought.fillna(-1).values)\n",
    "for idx, item  in enumerate(viewed):\n",
    "    viewed[idx] = pd.unique(viewed[idx].split(\",\"))\n",
    "    \n",
    "for idx, item  in enumerate(bought):\n",
    "    if(bought[idx] != -1):\n",
    "        bought[idx] = pd.unique(bought[idx].split(\",\"))"
   ]
  },
  {
   "cell_type": "code",
   "execution_count": 19,
   "metadata": {
    "collapsed": false
   },
   "outputs": [],
   "source": [
    "t1_v = recommend(viewed_dic, viewed,1)['rec']\n",
    "t5_v = recommend(viewed_dic, viewed,5)['rec']\n",
    "t1_b = recommend(bought_dic, viewed,1)['rec']\n",
    "t5_b = recommend(bought_dic, viewed,5)['rec']"
   ]
  },
  {
   "cell_type": "markdown",
   "metadata": {},
   "source": [
    "### Рекомендации по частоте просмотров товаров - качество на тестовой выборке:"
   ]
  },
  {
   "cell_type": "code",
   "execution_count": 20,
   "metadata": {
    "collapsed": false
   },
   "outputs": [
    {
     "name": "stdout",
     "output_type": "stream",
     "text": [
      "0.42 0.48 0.8 0.2\n"
     ]
    }
   ],
   "source": [
    "AverageRecall_1 = recommend_metrics(bought,t1_v)['average_recal']\n",
    "AveragePrecision_1 = recommend_metrics(bought,t1_v)['average_precision']\n",
    "AverageRecall_5 = recommend_metrics(bought,t5_v)['average_recal']\n",
    "AveragePrecision_5 = recommend_metrics(bought,t5_v)['average_precision']\n",
    "print(AverageRecall_1,AveragePrecision_1,AverageRecall_5,AveragePrecision_5)"
   ]
  },
  {
   "cell_type": "code",
   "execution_count": 24,
   "metadata": {
    "collapsed": true
   },
   "outputs": [],
   "source": [
    "write_answer_string_to_file('0.42 0.48 0.8 0.2','recomend_2.txt')"
   ]
  },
  {
   "cell_type": "markdown",
   "metadata": {},
   "source": [
    "### Рекомендации по частоте покупок - качество на тестовой выборке выборке:"
   ]
  },
  {
   "cell_type": "code",
   "execution_count": 22,
   "metadata": {
    "collapsed": false
   },
   "outputs": [
    {
     "name": "stdout",
     "output_type": "stream",
     "text": [
      "0.46 0.53 0.82 0.21\n"
     ]
    }
   ],
   "source": [
    "AverageRecall_1 = recommend_metrics(bought,t1_b)['average_recal']\n",
    "AveragePrecision_1 = recommend_metrics(bought,t1_b)['average_precision']\n",
    "AverageRecall_5 = recommend_metrics(bought,t5_b)['average_recal']\n",
    "AveragePrecision_5 = recommend_metrics(bought,t5_b)['average_precision']\n",
    "print(AverageRecall_1,AveragePrecision_1,AverageRecall_5,AveragePrecision_5)"
   ]
  },
  {
   "cell_type": "code",
   "execution_count": 25,
   "metadata": {
    "collapsed": true
   },
   "outputs": [],
   "source": [
    "write_answer_string_to_file('0.46 0.53 0.82 0.21','recomend_4.txt')"
   ]
  },
  {
   "cell_type": "code",
   "execution_count": null,
   "metadata": {
    "collapsed": true
   },
   "outputs": [],
   "source": []
  }
 ],
 "metadata": {
  "anaconda-cloud": {},
  "kernelspec": {
   "display_name": "Python 2",
   "language": "python",
   "name": "python2"
  },
  "language_info": {
   "codemirror_mode": {
    "name": "ipython",
    "version": 2
   },
   "file_extension": ".py",
   "mimetype": "text/x-python",
   "name": "python",
   "nbconvert_exporter": "python",
   "pygments_lexer": "ipython2",
   "version": "2.7.13"
  }
 },
 "nbformat": 4,
 "nbformat_minor": 0
}

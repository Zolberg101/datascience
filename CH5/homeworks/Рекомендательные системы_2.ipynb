{
 "cells": [
  {
   "cell_type": "markdown",
   "metadata": {},
   "source": [
    "## Рекомендательные системы"
   ]
  },
  {
   "cell_type": "markdown",
   "metadata": {},
   "source": [
    "##### Входные данные\n",
    "\n",
    "Вам дается две выборки с пользовательскими сессиями - id-шниками просмотренных и id-шниками купленных товаров. Одна выборка будет использоваться для обучения (оценки популярностей товаров), а другая - для теста.\n",
    "\n",
    "В файлах записаны сессии по одной в каждой строке. Формат сессии: id просмотренных товаров через , затем идёт ; после чего следуют id купленных товаров (если такие имеются), разделённые запятой. Например, 1,2,3,4; или 1,2,3,4;5,6.\n",
    "\n",
    "Гарантируется, что среди id купленных товаров все различные."
   ]
  },
  {
   "cell_type": "code",
   "execution_count": 1,
   "metadata": {
    "collapsed": false
   },
   "outputs": [
    {
     "name": "stdout",
     "output_type": "stream",
     "text": [
      "Populating the interactive namespace from numpy and matplotlib\n"
     ]
    }
   ],
   "source": [
    "%pylab inline\n",
    "import pandas as pd"
   ]
  },
  {
   "cell_type": "code",
   "execution_count": 2,
   "metadata": {
    "collapsed": true
   },
   "outputs": [],
   "source": [
    "sessions = pd.read_csv('./coursera_sessions_train.txt',delimiter=';', header=None,names=['viewed','bought'])"
   ]
  },
  {
   "cell_type": "code",
   "execution_count": 3,
   "metadata": {
    "collapsed": false
   },
   "outputs": [
    {
     "name": "stdout",
     "output_type": "stream",
     "text": [
      "<class 'pandas.core.frame.DataFrame'>\n",
      "RangeIndex: 50000 entries, 0 to 49999\n",
      "Data columns (total 2 columns):\n",
      "viewed    50000 non-null object\n",
      "bought    3608 non-null object\n",
      "dtypes: object(2)\n",
      "memory usage: 781.3+ KB\n"
     ]
    },
    {
     "data": {
      "text/html": [
       "<div>\n",
       "<table border=\"1\" class=\"dataframe\">\n",
       "  <thead>\n",
       "    <tr style=\"text-align: right;\">\n",
       "      <th></th>\n",
       "      <th>viewed</th>\n",
       "      <th>bought</th>\n",
       "    </tr>\n",
       "  </thead>\n",
       "  <tbody>\n",
       "    <tr>\n",
       "      <th>0</th>\n",
       "      <td>0,1,2,3,4,5</td>\n",
       "      <td>NaN</td>\n",
       "    </tr>\n",
       "    <tr>\n",
       "      <th>1</th>\n",
       "      <td>9,10,11,9,11,12,9,11</td>\n",
       "      <td>NaN</td>\n",
       "    </tr>\n",
       "    <tr>\n",
       "      <th>2</th>\n",
       "      <td>16,17,18,19,20,21</td>\n",
       "      <td>NaN</td>\n",
       "    </tr>\n",
       "    <tr>\n",
       "      <th>3</th>\n",
       "      <td>24,25,26,27,24</td>\n",
       "      <td>NaN</td>\n",
       "    </tr>\n",
       "    <tr>\n",
       "      <th>4</th>\n",
       "      <td>34,35,36,34,37,35,36,37,38,39,38,39</td>\n",
       "      <td>NaN</td>\n",
       "    </tr>\n",
       "    <tr>\n",
       "      <th>5</th>\n",
       "      <td>42</td>\n",
       "      <td>NaN</td>\n",
       "    </tr>\n",
       "    <tr>\n",
       "      <th>6</th>\n",
       "      <td>47,48,49</td>\n",
       "      <td>NaN</td>\n",
       "    </tr>\n",
       "    <tr>\n",
       "      <th>7</th>\n",
       "      <td>59,60,61,62,60,63,64,65,66,61,67,68,67</td>\n",
       "      <td>67,60,63</td>\n",
       "    </tr>\n",
       "    <tr>\n",
       "      <th>8</th>\n",
       "      <td>71,72,73,74</td>\n",
       "      <td>NaN</td>\n",
       "    </tr>\n",
       "    <tr>\n",
       "      <th>9</th>\n",
       "      <td>76,77,78</td>\n",
       "      <td>NaN</td>\n",
       "    </tr>\n",
       "  </tbody>\n",
       "</table>\n",
       "</div>"
      ],
      "text/plain": [
       "                                   viewed    bought\n",
       "0                             0,1,2,3,4,5       NaN\n",
       "1                    9,10,11,9,11,12,9,11       NaN\n",
       "2                       16,17,18,19,20,21       NaN\n",
       "3                          24,25,26,27,24       NaN\n",
       "4     34,35,36,34,37,35,36,37,38,39,38,39       NaN\n",
       "5                                      42       NaN\n",
       "6                                47,48,49       NaN\n",
       "7  59,60,61,62,60,63,64,65,66,61,67,68,67  67,60,63\n",
       "8                             71,72,73,74       NaN\n",
       "9                                76,77,78       NaN"
      ]
     },
     "execution_count": 3,
     "metadata": {},
     "output_type": "execute_result"
    }
   ],
   "source": [
    "sessions.info()\n",
    "sessions.head(10)"
   ]
  },
  {
   "cell_type": "markdown",
   "metadata": {},
   "source": [
    "##### Важно:\n",
    "\n",
    "    Сессии, в которых пользователь ничего не купил, исключаем из оценки качества.\n",
    "    Если товар не встречался в обучающей выборке, его популярность равна 0.\n",
    "    Рекомендуем разные товары. И их число должно быть не больше, чем количество различных просмотренных пользователем товаров.\n",
    "    Рекомендаций всегда не больше, чем минимум из двух чисел: количество просмотренных пользователем товаров и k в recall@k / precision@k.\n",
    "\n",
    "##### Задание\n",
    "\n",
    "    На обучении постройте частоты появления id в просмотренных и в купленных (id может несколько раз появляться в просмотренных, все появления надо учитывать)\n",
    "    Реализуйте два алгоритма рекомендаций:\n",
    "\n",
    "    сортировка просмотренных id по популярности (частота появления в просмотренных),\n",
    "    сортировка просмотренных id по покупаемости (частота появления в покупках)."
   ]
  },
  {
   "cell_type": "code",
   "execution_count": 4,
   "metadata": {
    "collapsed": true
   },
   "outputs": [],
   "source": [
    "import collections"
   ]
  },
  {
   "cell_type": "code",
   "execution_count": 5,
   "metadata": {
    "collapsed": false
   },
   "outputs": [],
   "source": [
    "viewed = sessions.viewed.values\n",
    "bought = sessions.bought.fillna(-1).values"
   ]
  },
  {
   "cell_type": "code",
   "execution_count": 6,
   "metadata": {
    "collapsed": true
   },
   "outputs": [],
   "source": [
    "from collections import Counter"
   ]
  },
  {
   "cell_type": "code",
   "execution_count": 7,
   "metadata": {
    "collapsed": false
   },
   "outputs": [],
   "source": [
    "viewed_dic = []\n",
    "bought_dic = []\n",
    "viewed_cnt = []\n",
    "bought_cnt = []\n",
    "\n",
    "viewed_dic_all = []\n",
    "bought_dic_all = []\n",
    "for idx, item  in enumerate(viewed):\n",
    "    # инициализируем упорядоченные словари\n",
    "    viewed_dic.append(collections.OrderedDict())\n",
    "    viewed_cnt.append(collections.Counter())\n",
    "    # парсим айдишники сессии как строки\n",
    "    viewed[idx] = viewed[idx].split(\",\")\n",
    "    # заполняем словарь и считаем количество вхождений\n",
    "    viewed_dic_all += viewed[idx]\n",
    "    for n,i in enumerate(viewed[idx]):\n",
    "        try:\n",
    "            count = viewed_dic[idx][i]\n",
    "            viewed_dic[idx].update({i:count + 1})\n",
    "        except KeyError:\n",
    "            viewed_dic[idx].update({i:1})"
   ]
  },
  {
   "cell_type": "code",
   "execution_count": 8,
   "metadata": {
    "collapsed": false
   },
   "outputs": [
    {
     "data": {
      "text/plain": [
       "OrderedDict([('59', 1),\n",
       "             ('60', 2),\n",
       "             ('61', 2),\n",
       "             ('62', 1),\n",
       "             ('63', 1),\n",
       "             ('64', 1),\n",
       "             ('65', 1),\n",
       "             ('66', 1),\n",
       "             ('67', 2),\n",
       "             ('68', 1)])"
      ]
     },
     "execution_count": 8,
     "metadata": {},
     "output_type": "execute_result"
    }
   ],
   "source": [
    "viewed_dic[7]"
   ]
  },
  {
   "cell_type": "code",
   "execution_count": 9,
   "metadata": {
    "collapsed": false
   },
   "outputs": [],
   "source": [
    "for idx, item  in enumerate(bought):\n",
    "    bought_dic.append(collections.OrderedDict())\n",
    "    bought_cnt.append(collections.Counter())\n",
    "    if(bought[idx] != -1):\n",
    "        bought[idx] = bought[idx].split(\",\")\n",
    "        bought_dic_all += bought[idx]\n",
    "        for n,i in enumerate(bought[idx]):\n",
    "            if(bought[idx] != -1):    \n",
    "                try:\n",
    "                    count = bought_dic[idx][i]\n",
    "                    bought_dic[idx].update({i:count + 1})\n",
    "                except KeyError:\n",
    "                    bought_dic[idx].update({i:1})\n",
    "            else:\n",
    "                bought_dic[idx].update({-1:0})\n",
    "    else:\n",
    "        bought_dic[idx].update({-1:0})\n",
    "        bought_dic_all += ['-1']\n",
    "        continue"
   ]
  },
  {
   "cell_type": "code",
   "execution_count": 10,
   "metadata": {
    "collapsed": false
   },
   "outputs": [
    {
     "data": {
      "text/plain": [
       "OrderedDict([('67', 1), ('60', 1), ('63', 1)])"
      ]
     },
     "execution_count": 10,
     "metadata": {},
     "output_type": "execute_result"
    }
   ],
   "source": [
    "bought_dic[7]"
   ]
  },
  {
   "cell_type": "code",
   "execution_count": 11,
   "metadata": {
    "collapsed": false
   },
   "outputs": [],
   "source": [
    "viewed_dic_all = collections.Counter(viewed_dic_all)\n",
    "bought_dic_all = collections.Counter(bought_dic_all)"
   ]
  },
  {
   "cell_type": "code",
   "execution_count": 12,
   "metadata": {
    "collapsed": false
   },
   "outputs": [
    {
     "name": "stdout",
     "output_type": "stream",
     "text": [
      "[('73', 677), ('158', 641), ('204', 396), ('262', 387), ('162', 318)]\n",
      "[('-1', 46392), ('158', 14), ('204', 12), ('3324', 11), ('73', 11)]\n"
     ]
    }
   ],
   "source": [
    "print(viewed_dic_all.most_common(5))\n",
    "print(bought_dic_all.most_common(5))"
   ]
  },
  {
   "cell_type": "code",
   "execution_count": 13,
   "metadata": {
    "collapsed": false
   },
   "outputs": [],
   "source": [
    "k1_viewed = []\n",
    "k1_bought = []\n",
    "\n",
    "for idx, item  in enumerate(viewed_dic):\n",
    "    # заполняем частотами из словаря\n",
    "    for key, value in viewed_dic[idx].items():\n",
    "        viewed_dic[idx][key] = viewed_dic_all[key]   \n",
    "    # получаем значение для топ-1 по просмотрам    \n",
    "    val_t1_v = collections.Counter(viewed_dic[idx]).most_common(1)[0][1]\n",
    "    #присваиваем для k1\n",
    "    for key, value in viewed_dic[idx].items():\n",
    "        if(value == val_t1_v):\n",
    "            k1_viewed.append(key)\n",
    "            break"
   ]
  },
  {
   "cell_type": "code",
   "execution_count": 14,
   "metadata": {
    "collapsed": false
   },
   "outputs": [
    {
     "name": "stdout",
     "output_type": "stream",
     "text": [
      "OrderedDict([('59', 1), ('60', 2), ('61', 2), ('62', 1), ('63', 6), ('64', 3), ('65', 2), ('66', 2), ('67', 2), ('68', 2)])\n",
      "63\n",
      "OrderedDict([('67', 1), ('60', 1), ('63', 1)])\n",
      "OrderedDict([(-1, 0)])\n"
     ]
    }
   ],
   "source": [
    "print(viewed_dic[7])\n",
    "print(k1_viewed[7])\n",
    "print(bought_dic[7])\n",
    "print(bought_dic[1])"
   ]
  },
  {
   "cell_type": "code",
   "execution_count": 15,
   "metadata": {
    "collapsed": false
   },
   "outputs": [],
   "source": [
    "for idx, item  in enumerate(bought_dic):\n",
    "    for key, value in bought_dic[idx].items():\n",
    "        if(key != -1):\n",
    "            bought_dic[idx][key] = bought_dic_all[key]\n",
    "        else:\n",
    "            bought_dic[idx][key] = 0\n",
    "    # получаем значение для топ-1 по покупкам\n",
    "        val_t1_b = collections.Counter(bought_dic[idx]).most_common(1)[0][1]\n",
    "    for key, value in bought_dic[idx].items():\n",
    "        if(value == val_t1_b):\n",
    "            k1_bought.append(key)\n",
    "            break"
   ]
  },
  {
   "cell_type": "code",
   "execution_count": 43,
   "metadata": {
    "collapsed": false
   },
   "outputs": [
    {
     "name": "stdout",
     "output_type": "stream",
     "text": [
      "OrderedDict([('59', 1), ('60', 2), ('61', 2), ('62', 1), ('63', 6), ('64', 3), ('65', 2), ('66', 2), ('67', 2), ('68', 2)])\n",
      "OrderedDict([('67', 1), ('60', 1), ('63', 1)])\n"
     ]
    }
   ],
   "source": [
    "print(viewed_dic[7])\n",
    "print(bought_dic[7])"
   ]
  },
  {
   "cell_type": "code",
   "execution_count": 46,
   "metadata": {
    "collapsed": false
   },
   "outputs": [
    {
     "name": "stdout",
     "output_type": "stream",
     "text": [
      "[('63', 6), ('64', 3), ('67', 2), ('60', 2), ('61', 2), ('68', 2), ('66', 2), ('65', 2), ('62', 1), ('59', 1)]\n"
     ]
    }
   ],
   "source": [
    "print(collections.Counter(viewed_dic[7]).most_common(10))"
   ]
  },
  {
   "cell_type": "code",
   "execution_count": 51,
   "metadata": {
    "collapsed": false
   },
   "outputs": [],
   "source": [
    "k5_viewed = []\n",
    "k5_bought = []\n",
    "for idx, item  in enumerate(viewed_dic):\n",
    "    if(idx != 30):\n",
    "        # получаем значение топ-5 по просмотрам\n",
    "        val_t5_v = collections.Counter(viewed_dic[idx]).most_common(10)\n",
    "        a = []\n",
    "        i = 0; z = 0\n",
    "        while i < 10:\n",
    "            try:\n",
    "                #if(idx == 7):\n",
    "                #    print(\"t5=\",val_t5_v[z],\"i=\",i)\n",
    "                temp = val_t5_v[z]\n",
    "                #присваиваем для k5\n",
    "                for key, value in viewed_dic[idx].items():        \n",
    "                    if(value == temp[1]):\n",
    "                        if(len(a) !=5):\n",
    "                            try:\n",
    "                                a.index(key)\n",
    "                                #if(idx == 7):  \n",
    "                                    #print(key,value)\n",
    "                                    #print(len(a))\n",
    "                                continue\n",
    "                            except ValueError:\n",
    "                                #if(idx == 7):\n",
    "                                #    print(\"i =\",i,\"; val_t5_v = \",temp[0])\n",
    "                                a.append(key)\n",
    "                                z +=1\n",
    "                                i = 0\n",
    "                            break\n",
    "                        else:\n",
    "                            break\n",
    "            except IndexError:\n",
    "                break\n",
    "            i += 1\n",
    "        k5_viewed.append(a)\n",
    "        #if(idx == 7):\n",
    "        #    print(k5_viewed)\n",
    "    else:\n",
    "        break"
   ]
  },
  {
   "cell_type": "code",
   "execution_count": 23,
   "metadata": {
    "collapsed": false
   },
   "outputs": [],
   "source": [
    "for idx, item  in enumerate(bought_dic):\n",
    "    if(idx != 30):\n",
    "        if(bought_dic[idx] != -1):\n",
    "            val_t5_b = collections.Counter(bought_dic[idx]).most_common(5)\n",
    "            a = []\n",
    "            for i in range(0,5):\n",
    "                try:\n",
    "                    temp = val_t5_b[i]\n",
    "                    #присваиваем для k5\n",
    "                    for key, value in bought_dic[idx].items():\n",
    "                        if(key == temp[0]):\n",
    "                            a.append(key)\n",
    "                            break\n",
    "                except IndexError:\n",
    "                    break    \n",
    "            k5_bought.append(a)\n",
    "        else:\n",
    "            break\n",
    "    else:\n",
    "        break\n",
    "# не учтен приоритет с одинаковыми значениями"
   ]
  },
  {
   "cell_type": "code",
   "execution_count": 24,
   "metadata": {
    "collapsed": false
   },
   "outputs": [
    {
     "name": "stdout",
     "output_type": "stream",
     "text": [
      "OrderedDict([('59', 1), ('60', 2), ('61', 2), ('62', 1), ('63', 6), ('64', 3), ('65', 2), ('66', 2), ('67', 2), ('68', 2)]) \n",
      "k1= 63 \n",
      "k5= ['63', '64', '66', '68', '67']\n",
      "OrderedDict([('67', 1), ('60', 1), ('63', 1)]) \n",
      "k1= OrderedDict([('67', 1), ('60', 1), ('63', 1)]) \n",
      "k5= OrderedDict([('67', 1), ('60', 1), ('63', 1)])\n"
     ]
    }
   ],
   "source": [
    "def print_f(i):\n",
    "    print(viewed_dic[i], '\\nk1=',k1_viewed[i],'\\nk5=', k5_viewed[i])\n",
    "    print(bought_dic[i], '\\nk1=',bought_dic[i],'\\nk5=', bought_dic[i])\n",
    "print_f(7)"
   ]
  },
  {
   "cell_type": "code",
   "execution_count": 34,
   "metadata": {
    "collapsed": false
   },
   "outputs": [
    {
     "data": {
      "text/plain": [
       "[1, 2, 2, 1, 6, 3, 2, 2, 2, 2]"
      ]
     },
     "execution_count": 34,
     "metadata": {},
     "output_type": "execute_result"
    }
   ],
   "source": [
    "list(viewed_dic[7].values())"
   ]
  },
  {
   "cell_type": "code",
   "execution_count": 35,
   "metadata": {
    "collapsed": false
   },
   "outputs": [
    {
     "name": "stdout",
     "output_type": "stream",
     "text": [
      "OrderedDict([('59', 1), ('60', 2), ('61', 2), ('62', 1), ('63', 6), ('64', 3), ('65', 2), ('66', 2), ('67', 2), ('68', 2)])\n",
      "{'65': 2, '62': 1, '67': 2, '59': 1, '64': 3, '61': 2, '60': 2, '68': 2, '66': 2, '63': 6}\n"
     ]
    }
   ],
   "source": [
    "print(viewed_dic[7])\n",
    "print(dict(viewed_dic[7]))\n",
    "#for k,v in sorted(viewed_dic[7].items()):\n",
    "#    print(k,v)"
   ]
  },
  {
   "cell_type": "code",
   "execution_count": 36,
   "metadata": {
    "collapsed": false
   },
   "outputs": [
    {
     "data": {
      "text/plain": [
       "['9', '10', '11', '12']"
      ]
     },
     "execution_count": 36,
     "metadata": {},
     "output_type": "execute_result"
    }
   ],
   "source": [
    "list(viewed_dic[1].keys())"
   ]
  },
  {
   "cell_type": "code",
   "execution_count": 23,
   "metadata": {
    "collapsed": false
   },
   "outputs": [
    {
     "data": {
      "text/plain": [
       "17"
      ]
     },
     "execution_count": 23,
     "metadata": {},
     "output_type": "execute_result"
    }
   ],
   "source": [
    "collections.Counter(viewed_dic[1]).most_common(1)[0][1]"
   ]
  },
  {
   "cell_type": "code",
   "execution_count": 24,
   "metadata": {
    "collapsed": false
   },
   "outputs": [],
   "source": [
    "c = []\n",
    "k1 = []\n",
    "for idx, item  in enumerate(viewed_dic):\n",
    "    # сортировка по @к = 1\n",
    "    val = collections.Counter(viewed_dic[idx]).most_common(1)[0][1]\n",
    "    for key, value in viewed_dic[idx].items():\n",
    "        if(value == val):\n",
    "            k1.append(key)\n",
    "            break;"
   ]
  },
  {
   "cell_type": "code",
   "execution_count": 25,
   "metadata": {
    "collapsed": false
   },
   "outputs": [
    {
     "data": {
      "text/plain": [
       "5"
      ]
     },
     "execution_count": 25,
     "metadata": {},
     "output_type": "execute_result"
    }
   ],
   "source": [
    "viewed_dic[1]['11']"
   ]
  },
  {
   "cell_type": "code",
   "execution_count": 26,
   "metadata": {
    "collapsed": false
   },
   "outputs": [
    {
     "name": "stdout",
     "output_type": "stream",
     "text": [
      "9 7\n",
      "10 7\n",
      "11 5\n",
      "12 17\n"
     ]
    }
   ],
   "source": [
    "for key, value in viewed_dic[1].items():\n",
    "    print(key, value)"
   ]
  },
  {
   "cell_type": "code",
   "execution_count": 27,
   "metadata": {
    "collapsed": false
   },
   "outputs": [
    {
     "ename": "SyntaxError",
     "evalue": "unexpected EOF while parsing (<ipython-input-27-3b07240b6121>, line 4)",
     "output_type": "error",
     "traceback": [
      "\u001b[0;36m  File \u001b[0;32m\"<ipython-input-27-3b07240b6121>\"\u001b[0;36m, line \u001b[0;32m4\u001b[0m\n\u001b[0;31m    \u001b[0m\n\u001b[0m    ^\u001b[0m\n\u001b[0;31mSyntaxError\u001b[0m\u001b[0;31m:\u001b[0m unexpected EOF while parsing\n"
     ]
    }
   ],
   "source": [
    "view_dic_all = []\n",
    "for idx, item  in enumerate(viewed):\n",
    "    \n",
    "    "
   ]
  },
  {
   "cell_type": "code",
   "execution_count": null,
   "metadata": {
    "collapsed": true
   },
   "outputs": [],
   "source": []
  }
 ],
 "metadata": {
  "anaconda-cloud": {},
  "kernelspec": {
   "display_name": "Python [python3]",
   "language": "python",
   "name": "Python [python3]"
  },
  "language_info": {
   "codemirror_mode": {
    "name": "ipython",
    "version": 3
   },
   "file_extension": ".py",
   "mimetype": "text/x-python",
   "name": "python",
   "nbconvert_exporter": "python",
   "pygments_lexer": "ipython3",
   "version": "3.5.2"
  }
 },
 "nbformat": 4,
 "nbformat_minor": 0
}

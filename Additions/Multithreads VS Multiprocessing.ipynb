{
 "cells": [
  {
   "cell_type": "markdown",
   "metadata": {},
   "source": [
    "## Test threading"
   ]
  },
  {
   "cell_type": "code",
   "execution_count": 1,
   "metadata": {
    "collapsed": true
   },
   "outputs": [],
   "source": [
    "import random\n",
    "import threading\n",
    "import time"
   ]
  },
  {
   "cell_type": "code",
   "execution_count": 3,
   "metadata": {
    "collapsed": false
   },
   "outputs": [],
   "source": [
    "def list_append(count, id, out_list):\n",
    "    \"\"\"\n",
    "    Creates an empty list and then appends a \n",
    "    random number to the list 'count' number\n",
    "    of times. A CPU-heavy operation!\n",
    "    \"\"\"\n",
    "    print 'hello'\n",
    "    for i in range(count):\n",
    "        out_list.append(random.random())"
   ]
  },
  {
   "cell_type": "code",
   "execution_count": 4,
   "metadata": {
    "collapsed": false
   },
   "outputs": [
    {
     "name": "stdout",
     "output_type": "stream",
     "text": [
      "hello\n",
      "[0.9110380069045401, 0.3990585888273138, 0.8790128330682659, 0.6064749802655309, 0.972595183665451, 0.10611003857932944, 0.7688857982962293, 0.9874774959290987, 0.4136212185789121, 0.9396452799922006, 0.5554834674380233, 0.28563703287188813, 0.8460076126064039, 0.15701712823426428, 0.006744495154342389, 0.9463796867467985, 0.8654992321327213, 0.5676826171470694, 0.17624862715239364, 0.06049316599512433, 0.011603012493198284, 0.4813434440106089, 0.707994596328651, 0.9406656977638379, 0.19646177543458854, 0.13078446944610111, 0.9693264654036758, 0.3336899236497852, 0.5188876800718385, 0.5234779228467987]\n"
     ]
    }
   ],
   "source": [
    "out = list()\n",
    "list_append(30, 0, out)\n",
    "print(out)"
   ]
  },
  {
   "cell_type": "code",
   "execution_count": 5,
   "metadata": {
    "collapsed": false
   },
   "outputs": [
    {
     "name": "stdout",
     "output_type": "stream",
     "text": [
      "hello\n",
      "hello\n",
      "--- 5.55900001526 seconds ---\n",
      "List processing complete.\n"
     ]
    }
   ],
   "source": [
    "if __name__ == \"__main__\":\n",
    "    start_time = time.time()\n",
    "    size = 10000000   # Number of random numbers to add\n",
    "    threads = 2   # Number of threads to create\n",
    "\n",
    "    # Create a list of jobs and then iterate through\n",
    "    # the number of threads appending each thread to\n",
    "    # the job list \n",
    "    jobs = []\n",
    "    for i in range(0, threads):\n",
    "        out_list = list()\n",
    "        thread = threading.Thread(target=list_append(size, i, out_list))\n",
    "        jobs.append(thread)\n",
    "        \n",
    "    \n",
    "    # Start the threads (i.e. calculate the random number lists)\n",
    "    for j in jobs:\n",
    "        j.start()\n",
    "\n",
    "    # Ensure all of the threads have finished\n",
    "    for j in jobs:\n",
    "        j.join()\n",
    "        \n",
    "print(\"--- %s seconds ---\" % (time.time() - start_time))\n",
    "print (\"List processing complete.\")"
   ]
  },
  {
   "cell_type": "code",
   "execution_count": 6,
   "metadata": {
    "collapsed": false
   },
   "outputs": [
    {
     "name": "stdout",
     "output_type": "stream",
     "text": [
      "--- 0.317999839783 seconds ---\n",
      "List processing complete.\n"
     ]
    }
   ],
   "source": [
    "start_time = time.time()\n",
    "import multiprocessing\n",
    "size = 10000000   # Number of random numbers to add\n",
    "procs = 2   # Number of processes to create\n",
    "\n",
    "# Create a list of jobs and then iterate through\n",
    "# the number of processes appending each process to\n",
    "# the job list \n",
    "jobs = []\n",
    "for i in range(0, procs):\n",
    "\tout_list = list()\n",
    "\tprocess = multiprocessing.Process(target=list_append, args=(size, i, out_list))\n",
    "\tjobs.append(process)\n",
    "\n",
    "# Start the processes (i.e. calculate the random number lists)\t\t\n",
    "for j in jobs:\n",
    "\tj.start()\n",
    "\n",
    "# Ensure all of the processes have finished\n",
    "for j in jobs:\n",
    "\tj.join()\n",
    "\n",
    "print(\"--- %s seconds ---\" % (time.time() - start_time))    \n",
    "print (\"List processing complete.\")"
   ]
  },
  {
   "cell_type": "code",
   "execution_count": 7,
   "metadata": {
    "collapsed": false,
    "scrolled": true
   },
   "outputs": [
    {
     "name": "stdout",
     "output_type": "stream",
     "text": [
      "('\\xd0\\x9f\\xd1\\x80\\xd0\\xbe\\xd1\\x86\\xd0\\xb5\\xd1\\x81\\xd1\\x81', '1')<bound method Thread.getName of <Thread(t1, started 5524)>>('\\xd0\\x9f\\xd1\\x80\\xd0\\xbe\\xd1\\x86\\xd0\\xb5\\xd1\\x81\\xd1\\x81', '2')\n",
      "\n",
      "\n",
      "('\\xd0\\x9f\\xd1\\x80\\xd0\\xbe\\xd1\\x86\\xd0\\xb5\\xd1\\x81\\xd1\\x81', '1')('\\xd0\\x9f\\xd1\\x80\\xd0\\xbe\\xd1\\x86\\xd0\\xb5\\xd1\\x81\\xd1\\x81', '2')\n",
      "\n"
     ]
    }
   ],
   "source": [
    "# Пример многопоточной программы\n",
    "# В следующем примере создается два дополнительных потока, которые выводят на \n",
    "# стандартный вывод каждый свое:\n",
    "import threading\n",
    "def proc(n,i):\n",
    "    for z in range(0,i):\n",
    "        print(\"Процесс\", n)\n",
    "    return 1\n",
    "    \n",
    "p1 = threading.Thread(target=proc, name=\"t1\", args=[\"1\", 2])\n",
    "p2 = threading.Thread(target=proc, name=\"t2\", args=[\"2\", 2])\n",
    "p1.start()\n",
    "print(p1.getName)\n",
    "p2.start()"
   ]
  },
  {
   "cell_type": "code",
   "execution_count": null,
   "metadata": {
    "collapsed": true
   },
   "outputs": [],
   "source": []
  }
 ],
 "metadata": {
  "anaconda-cloud": {},
  "kernelspec": {
   "display_name": "Python 2",
   "language": "python",
   "name": "python2"
  },
  "language_info": {
   "codemirror_mode": {
    "name": "ipython",
    "version": 2
   },
   "file_extension": ".py",
   "mimetype": "text/x-python",
   "name": "python",
   "nbconvert_exporter": "python",
   "pygments_lexer": "ipython2",
   "version": "2.7.13"
  }
 },
 "nbformat": 4,
 "nbformat_minor": 1
}

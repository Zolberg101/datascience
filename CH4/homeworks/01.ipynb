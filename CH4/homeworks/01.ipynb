{
 "cells": [
  {
   "cell_type": "code",
   "execution_count": 47,
   "metadata": {
    "collapsed": true
   },
   "outputs": [],
   "source": [
    "from statsmodels.stats.weightstats import _zconfint_generic, _tconfint_generic\n",
    "from sklearn import metrics\n",
    "import numpy as np\n",
    "import pandas as pd"
   ]
  },
  {
   "cell_type": "code",
   "execution_count": 48,
   "metadata": {
    "collapsed": false
   },
   "outputs": [],
   "source": [
    "data = pd.read_csv(\"water.txt\",delimiter='\\t')"
   ]
  },
  {
   "cell_type": "code",
   "execution_count": 49,
   "metadata": {
    "collapsed": false
   },
   "outputs": [
    {
     "data": {
      "text/html": [
       "<div>\n",
       "<table border=\"1\" class=\"dataframe\">\n",
       "  <thead>\n",
       "    <tr style=\"text-align: right;\">\n",
       "      <th></th>\n",
       "      <th>location</th>\n",
       "      <th>town</th>\n",
       "      <th>mortality</th>\n",
       "      <th>hardness</th>\n",
       "    </tr>\n",
       "  </thead>\n",
       "  <tbody>\n",
       "    <tr>\n",
       "      <th>0</th>\n",
       "      <td>South</td>\n",
       "      <td>Bath</td>\n",
       "      <td>1247</td>\n",
       "      <td>105</td>\n",
       "    </tr>\n",
       "    <tr>\n",
       "      <th>1</th>\n",
       "      <td>North</td>\n",
       "      <td>Birkenhead</td>\n",
       "      <td>1668</td>\n",
       "      <td>17</td>\n",
       "    </tr>\n",
       "    <tr>\n",
       "      <th>2</th>\n",
       "      <td>South</td>\n",
       "      <td>Birmingham</td>\n",
       "      <td>1466</td>\n",
       "      <td>5</td>\n",
       "    </tr>\n",
       "    <tr>\n",
       "      <th>3</th>\n",
       "      <td>North</td>\n",
       "      <td>Blackburn</td>\n",
       "      <td>1800</td>\n",
       "      <td>14</td>\n",
       "    </tr>\n",
       "    <tr>\n",
       "      <th>4</th>\n",
       "      <td>North</td>\n",
       "      <td>Blackpool</td>\n",
       "      <td>1609</td>\n",
       "      <td>18</td>\n",
       "    </tr>\n",
       "  </tbody>\n",
       "</table>\n",
       "</div>"
      ],
      "text/plain": [
       "  location        town  mortality  hardness\n",
       "0    South        Bath       1247       105\n",
       "1    North  Birkenhead       1668        17\n",
       "2    South  Birmingham       1466         5\n",
       "3    North   Blackburn       1800        14\n",
       "4    North   Blackpool       1609        18"
      ]
     },
     "execution_count": 49,
     "metadata": {},
     "output_type": "execute_result"
    }
   ],
   "source": [
    "data.head()"
   ]
  },
  {
   "cell_type": "code",
   "execution_count": 50,
   "metadata": {
    "collapsed": false
   },
   "outputs": [
    {
     "name": "stdout",
     "output_type": "stream",
     "text": [
      "(61, 4)\n"
     ]
    }
   ],
   "source": [
    "print data.shape\n",
    "mort = data['mortality']\n",
    "mort = np.array(mort)"
   ]
  },
  {
   "cell_type": "code",
   "execution_count": 51,
   "metadata": {
    "collapsed": false
   },
   "outputs": [
    {
     "name": "stdout",
     "output_type": "stream",
     "text": [
      "(1476.0833413552848, 1572.2117406119285)\n"
     ]
    }
   ],
   "source": [
    "mean_std = mort.std(ddof=1)/(len(mort)**0.5)\n",
    "print _tconfint_generic(mort.mean(), mean_std, len(mort) - 1, 0.05, 'two-sided')"
   ]
  },
  {
   "cell_type": "code",
   "execution_count": 52,
   "metadata": {
    "collapsed": false
   },
   "outputs": [
    {
     "name": "stdout",
     "output_type": "stream",
     "text": [
      "(1320.1517462936238, 1433.463638321761)\n"
     ]
    }
   ],
   "source": [
    "data_south = data[(data.location == 'South')]\n",
    "mort_s = data_south['mortality']\n",
    "mort_s = np.array(mort_s)\n",
    "s_mean_std = mort_s.std(ddof=1)/(len(mort_s)**0.5)\n",
    "print _tconfint_generic(mort_s.mean(), s_mean_std, len(mort_s) - 1, 0.05, 'two-sided')"
   ]
  },
  {
   "cell_type": "code",
   "execution_count": 53,
   "metadata": {
    "collapsed": false
   },
   "outputs": [
    {
     "name": "stdout",
     "output_type": "stream",
     "text": [
      "(1586.5605251961385, 1680.6394748038613)\n"
     ]
    }
   ],
   "source": [
    "data_north = data[(data.location == 'North')]\n",
    "mort_n = data_north['mortality']\n",
    "mort_n = np.array(mort_n)\n",
    "n_mean_std = mort_n.std(ddof=1)/(len(mort_n)**0.5)\n",
    "print _tconfint_generic(mort_n.mean(), n_mean_std, len(mort_n) - 1, 0.05, 'two-sided')"
   ]
  },
  {
   "cell_type": "code",
   "execution_count": 54,
   "metadata": {
    "collapsed": false
   },
   "outputs": [
    {
     "name": "stdout",
     "output_type": "stream",
     "text": [
      "(53.467198692036106, 86.071262846425441)\n",
      "(21.422487285724259, 39.377512714275738)\n"
     ]
    }
   ],
   "source": [
    "hard_s = np.array(data_south['hardness'])\n",
    "hard_n = np.array(data_north['hardness'])\n",
    "s_mean_std = hard_s.std(ddof=1)/(len(hard_s)**0.5)\n",
    "print _tconfint_generic(hard_s.mean(), s_mean_std, len(hard_s) - 1, 0.05, 'two-sided')\n",
    "n_mean_std = hard_n.std(ddof=1)/(len(hard_n)**0.5)\n",
    "print _tconfint_generic(hard_n.mean(), n_mean_std, len(hard_n) - 1, 0.05, 'two-sided')\n"
   ]
  },
  {
   "cell_type": "code",
   "execution_count": null,
   "metadata": {
    "collapsed": true
   },
   "outputs": [],
   "source": []
  }
 ],
 "metadata": {
  "kernelspec": {
   "display_name": "Python 2",
   "language": "python",
   "name": "python2"
  },
  "language_info": {
   "codemirror_mode": {
    "name": "ipython",
    "version": 2
   },
   "file_extension": ".py",
   "mimetype": "text/x-python",
   "name": "python",
   "nbconvert_exporter": "python",
   "pygments_lexer": "ipython2",
   "version": "2.7.13"
  }
 },
 "nbformat": 4,
 "nbformat_minor": 0
}

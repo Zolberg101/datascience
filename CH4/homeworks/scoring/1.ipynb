{
 "cells": [
  {
   "cell_type": "code",
   "execution_count": 5,
   "metadata": {
    "collapsed": false
   },
   "outputs": [],
   "source": [
    "import numpy as np\n",
    "import pandas as pd\n",
    "import scipy.stats\n",
    "import matplotlib.pyplot as plt\n",
    "%matplotlib inline"
   ]
  },
  {
   "cell_type": "code",
   "execution_count": 6,
   "metadata": {
    "collapsed": false
   },
   "outputs": [],
   "source": [
    "df = pd.read_csv('credit_card_default_analysis.csv')"
   ]
  },
  {
   "cell_type": "markdown",
   "metadata": {},
   "source": [
    "# Problem 1"
   ]
  },
  {
   "cell_type": "code",
   "execution_count": 7,
   "metadata": {
    "collapsed": false
   },
   "outputs": [
    {
     "data": {
      "image/png": "[encoded data removed]",
      "text/plain": [
       "<matplotlib.figure.Figure at 0x7f15907697d0>"
      ]
     },
     "metadata": {},
     "output_type": "display_data"
    }
   ],
   "source": [
    "A = plt.hist(df[df.default == 1].LIMIT_BAL.as_matrix(), range=(0, 1e6))\n",
    "plt.show()"
   ]
  },
  {
   "cell_type": "code",
   "execution_count": 8,
   "metadata": {
    "collapsed": false
   },
   "outputs": [
    {
     "data": {
      "image/png": "[encoded data removed]",
      "text/plain": [
       "<matplotlib.figure.Figure at 0x7f154ae21790>"
      ]
     },
     "metadata": {},
     "output_type": "display_data"
    }
   ],
   "source": [
    "B = plt.hist(df[df.default == 0].LIMIT_BAL.as_matrix(), range=(0, 1e6))\n",
    "plt.show()"
   ]
  },
  {
   "cell_type": "markdown",
   "metadata": {},
   "source": [
    "На глаз оба распределения похожи на пуассоновские, что и разумно, потому что исследуемая переменная по свойствам похожа на счётчик."
   ]
  },
  {
   "cell_type": "markdown",
   "metadata": {},
   "source": [
    "Проверим, равны ли медианные значения кредитных лимитов. Нулоева гипотеза - медианы равны. Проверять будем бутстрапированием, против двусторонней альтернативы."
   ]
  },
  {
   "cell_type": "code",
   "execution_count": 9,
   "metadata": {
    "collapsed": true
   },
   "outputs": [],
   "source": [
    "lim_succ = df[df.default == 1].LIMIT_BAL.as_matrix()\n",
    "lim_fail = df[df.default == 0].LIMIT_BAL.as_matrix()"
   ]
  },
  {
   "cell_type": "code",
   "execution_count": 10,
   "metadata": {
    "collapsed": false
   },
   "outputs": [],
   "source": [
    "def get_bootstrap_samples(data, n_samples):\n",
    "    indices = np.random.randint(0, len(data), (n_samples, len(data)))\n",
    "    samples = data[indices]\n",
    "    return samples\n",
    "\n",
    "def stat_intervals(stat, alpha):\n",
    "    boundaries = np.percentile(stat, [100 * alpha / 2., 100 * (1 - alpha / 2.)])\n",
    "    return boundaries\n",
    "\n",
    "def conf_int(data,stat_func,alpha=0.05,n_samples=1000):\n",
    "    scores = [stat_func(sample) for sample in get_bootstrap_samples(data,n_samples)]\n",
    "    return stat_intervals(scores, alpha)\n",
    "\n",
    "def diff_conf_int(a,b,stat_func,alpha=0.05,n_samples=1000):\n",
    "    scores_a = [stat_func(sample) for sample in get_bootstrap_samples(a,n_samples)]\n",
    "    scores_b = [stat_func(sample) for sample in get_bootstrap_samples(b,n_samples)]\n",
    "    delta_scores = [x[0] - x[1] for x in zip(scores_a,scores_b)]\n",
    "    return stat_intervals(delta_scores, alpha)"
   ]
  },
  {
   "cell_type": "code",
   "execution_count": 11,
   "metadata": {
    "collapsed": false
   },
   "outputs": [
    {
     "data": {
      "text/plain": [
       "array([-70000., -60000.])"
      ]
     },
     "execution_count": 11,
     "metadata": {},
     "output_type": "execute_result"
    }
   ],
   "source": [
    "diff_conf_int(lim_succ, lim_fail, np.median)"
   ]
  },
  {
   "cell_type": "code",
   "execution_count": 12,
   "metadata": {
    "collapsed": false
   },
   "outputs": [
    {
     "data": {
      "text/plain": [
       "array([ 80000.,  90000.])"
      ]
     },
     "execution_count": 12,
     "metadata": {},
     "output_type": "execute_result"
    }
   ],
   "source": [
    "conf_int(lim_succ, np.median)"
   ]
  },
  {
   "cell_type": "code",
   "execution_count": 13,
   "metadata": {
    "collapsed": false
   },
   "outputs": [
    {
     "data": {
      "text/plain": [
       "array([ 150000.,  150000.])"
      ]
     },
     "execution_count": 13,
     "metadata": {},
     "output_type": "execute_result"
    }
   ],
   "source": [
    "conf_int(lim_fail, np.median)"
   ]
  },
  {
   "cell_type": "markdown",
   "metadata": {
    "collapsed": true
   },
   "source": [
    "Итак, на уровне значимости 0.05 гипотеза о равенстве медиан уверенно отвергается. Кроме того, средние значения, как видно по 95%-ным интервалам, *существенно* отличаются. Интерпретировать практическую значимость результата можно так: небольшие кредиты (не больше 100 000 рублей или чуть больше), как правило, возвращаются успешнее, чем большие (150 000 и больше)."
   ]
  },
  {
   "cell_type": "markdown",
   "metadata": {},
   "source": [
    "Теперь проверим эту гипотезу непараметрическим критерием (ранговый критерий Манна-Уитни). Здесь нулевая гипотеза - $P(X_{succ} < X_{fail}) = P(X_{succ} > X_{fail})$"
   ]
  },
  {
   "cell_type": "code",
   "execution_count": 14,
   "metadata": {
    "collapsed": false
   },
   "outputs": [
    {
     "data": {
      "text/plain": [
       "MannwhitneyuResult(statistic=59257217.5, pvalue=3.4348973226457305e-189)"
      ]
     },
     "execution_count": 14,
     "metadata": {},
     "output_type": "execute_result"
    }
   ],
   "source": [
    "scipy.stats.mannwhitneyu(lim_succ, lim_fail)"
   ]
  },
  {
   "cell_type": "markdown",
   "metadata": {},
   "source": [
    "Итак, нулевая гипотеза и здесь отвергается."
   ]
  },
  {
   "cell_type": "markdown",
   "metadata": {},
   "source": [
    "# Problem 2"
   ]
  },
  {
   "cell_type": "code",
   "execution_count": 15,
   "metadata": {
    "collapsed": true
   },
   "outputs": [],
   "source": [
    "sex_succ = df[df.default == 1].SEX.as_matrix()\n",
    "sex_fail = df[df.default == 0].SEX.as_matrix()"
   ]
  },
  {
   "cell_type": "code",
   "execution_count": 16,
   "metadata": {
    "collapsed": false
   },
   "outputs": [
    {
     "data": {
      "image/png": "[encoded data removed]",
      "text/plain": [
       "<matplotlib.figure.Figure at 0x7f154ab5ced0>"
      ]
     },
     "metadata": {},
     "output_type": "display_data"
    }
   ],
   "source": [
    "fig, ax = plt.subplots()\n",
    "ax.hist(sex_succ, bins=2, range=(1, 3))\n",
    "ax.set_xticks([1.5, 2.5])\n",
    "ax.set_xticklabels(['male', 'female'])\n",
    "plt.show()"
   ]
  },
  {
   "cell_type": "code",
   "execution_count": 17,
   "metadata": {
    "collapsed": false
   },
   "outputs": [
    {
     "data": {
      "image/png": "[encoded data removed]",
      "text/plain": [
       "<matplotlib.figure.Figure at 0x7f15950c2b90>"
      ]
     },
     "metadata": {},
     "output_type": "display_data"
    }
   ],
   "source": [
    "fig, ax = plt.subplots()\n",
    "ax.hist(sex_fail, bins=2, range=(1, 3))\n",
    "ax.set_xticks([1.5, 2.5])\n",
    "ax.set_xticklabels(['male', 'female'])\n",
    "plt.show()"
   ]
  },
  {
   "cell_type": "markdown",
   "metadata": {},
   "source": [
    "Как видим из гистограмы, женщины возвращают ненамного больше кредитов (3500 против 2500), а вот *не* возвращают заметно больше (14000 против ~9000).\n",
    "\n",
    "Проверим это статистическим критерием для доли. Нулевая гипотеза - доли в выборках равны. Проверяем против двусторонней альтернативы. Статистический критерий - Z-критерий для разности долей в несвязанных выборках."
   ]
  },
  {
   "cell_type": "code",
   "execution_count": 18,
   "metadata": {
    "collapsed": false
   },
   "outputs": [],
   "source": [
    "def proportions_diff_confint(A, B, alpha=0.05):\n",
    "    z_score = scipy.stats.norm.ppf(1 - alpha / 2)\n",
    "    n1, n2 = A.shape[0], B.shape[0]\n",
    "    p1 = (A == 1).sum() / (n1)\n",
    "    p2 = (B == 1).sum() / (n2)\n",
    "    point_est = p1 - p2\n",
    "    delta = z_score * np.sqrt(p1 * (1-p1) / n1 + p2 * (1-p2) / n2)\n",
    "    return (point_est - delta, point_est + delta)"
   ]
  },
  {
   "cell_type": "code",
   "execution_count": 19,
   "metadata": {
    "collapsed": false
   },
   "outputs": [
    {
     "data": {
      "text/plain": [
       "(0.0, 0.0)"
      ]
     },
     "execution_count": 19,
     "metadata": {},
     "output_type": "execute_result"
    }
   ],
   "source": [
    "proportions_diff_confint(sex_succ, sex_fail)"
   ]
  },
  {
   "cell_type": "code",
   "execution_count": 20,
   "metadata": {
    "collapsed": true
   },
   "outputs": [],
   "source": [
    "def proportions_diff_pvalue(A, B):\n",
    "    n1, n2 = A.shape[0], B.shape[0]\n",
    "    p1 = (A == 1).sum() / (n1)\n",
    "    p2 = (B == 1).sum() / (n2)\n",
    "    point_est = p1 - p2\n",
    "    delta = np.sqrt(p1 * (1-p1) / n1 + p2 * (1-p2) / n2)\n",
    "    z_score = point_est / delta\n",
    "    return 2 * (1 - scipy.stats.norm.cdf(z_score))"
   ]
  },
  {
   "cell_type": "code",
   "execution_count": 21,
   "metadata": {
    "collapsed": false
   },
   "outputs": [
    {
     "data": {
      "text/plain": [
       "nan"
      ]
     },
     "execution_count": 21,
     "metadata": {},
     "output_type": "execute_result"
    }
   ],
   "source": [
    "proportions_diff_pvalue(sex_succ, sex_fail)"
   ]
  },
  {
   "cell_type": "markdown",
   "metadata": {},
   "source": [
    "Итак, гипотеза о равенстве долей отвергается на уровне значимости 0.05 (достигаемый уровень значимости крайне мал). Величина эффекта здесь не настолько велика - порядка 3-6%."
   ]
  },
  {
   "cell_type": "markdown",
   "metadata": {},
   "source": [
    "# Problem 3"
   ]
  },
  {
   "cell_type": "code",
   "execution_count": 22,
   "metadata": {
    "collapsed": true
   },
   "outputs": [],
   "source": [
    "edu_succ = df[df.default == 1].EDUCATION.as_matrix()\n",
    "edu_fail = df[df.default == 0].EDUCATION.as_matrix()"
   ]
  },
  {
   "cell_type": "code",
   "execution_count": 23,
   "metadata": {
    "collapsed": false
   },
   "outputs": [
    {
     "data": {
      "image/png": "[encoded data removed]",
      "text/plain": [
       "<matplotlib.figure.Figure at 0x7f154504b810>"
      ]
     },
     "metadata": {},
     "output_type": "display_data"
    }
   ],
   "source": [
    "fig, ax = plt.subplots()\n",
    "fig.set_figwidth(10)\n",
    "ax.hist(edu_succ, bins=7, range=(0, 7))\n",
    "ax.set_xticks([0.5, 1.5, 2.5, 3.5, 4.5, 5.5, 6.5])\n",
    "ax.set_xticklabels(['PhD', 'Graduate', 'Undergrad', 'High school', 'Elementary school', 'Other', 'NA'])\n",
    "plt.show()"
   ]
  },
  {
   "cell_type": "code",
   "execution_count": 24,
   "metadata": {
    "collapsed": false
   },
   "outputs": [
    {
     "data": {
      "image/png": "[encoded data removed]",
      "text/plain": [
       "<matplotlib.figure.Figure at 0x7f15452abd50>"
      ]
     },
     "metadata": {},
     "output_type": "display_data"
    }
   ],
   "source": [
    "fig, ax = plt.subplots()\n",
    "fig.set_figwidth(10)\n",
    "ax.hist(edu_fail, bins=7, range=(0, 7))\n",
    "ax.set_xticks([0.5, 1.5, 2.5, 3.5, 4.5, 5.5, 6.5])\n",
    "ax.set_xticklabels(['PhD', 'Graduate', 'Undergrad', 'High school', 'Elementary school', 'Other', 'NA'])\n",
    "plt.show()"
   ]
  },
  {
   "cell_type": "markdown",
   "metadata": {},
   "source": [
    "Проверим предположение о независимости полученного образования и невозврата кредита. Нулевая гипотеза: эти две величины независимы. Проверяем против альтернативы связанности критерием $\\chi^2$."
   ]
  },
  {
   "cell_type": "code",
   "execution_count": 25,
   "metadata": {
    "collapsed": false
   },
   "outputs": [
    {
     "name": "stdout",
     "output_type": "stream",
     "text": [
      "0%\n"
     ]
    }
   ],
   "source": [
    "# Проверка условий применения chi^2.\n",
    "cnt_table = list()\n",
    "for cat in np.unique(df.EDUCATION):\n",
    "    total = len(df[df.EDUCATION == cat].default)\n",
    "    def_cnt = np.sum(df[df.EDUCATION == cat].default)\n",
    "    cnt_table.append([def_cnt, total - def_cnt])\n",
    "    \n",
    "cnt_ip = np.sum(cnt_table, axis=1)\n",
    "cnt_jp = np.sum(cnt_table, axis=0)\n",
    "n = np.sum(cnt_table, axis=None)\n",
    "\n",
    "small_cells = (\n",
    "len(\n",
    "    list(\n",
    "        filter(\n",
    "            lambda x: x < 5,\n",
    "            [cnt_ip[i]*cnt_jp[j]/n for j in range(len(cnt_jp)) for i in range(len(cnt_ip))]\n",
    "        )\n",
    "    )\n",
    ")\n",
    ") / (len(cnt_ip) * len(cnt_jp))\n",
    "print('{:.0f}%'.format(small_cells*100))"
   ]
  },
  {
   "cell_type": "markdown",
   "metadata": {},
   "source": [
    "Итак, условия применимости критерия $\\chi^2$ выполнены, и теперь мы можем применить его."
   ]
  },
  {
   "cell_type": "code",
   "execution_count": 26,
   "metadata": {
    "collapsed": false
   },
   "outputs": [
    {
     "name": "stdout",
     "output_type": "stream",
     "text": [
      "Power_divergenceResult(statistic=nan, pvalue=nan)\n"
     ]
    }
   ],
   "source": [
    "A, B = np.bincount(edu_succ), np.bincount(edu_fail)\n",
    "B = B / B.sum() * A.sum()\n",
    "print(scipy.stats.chisquare(A, B))"
   ]
  },
  {
   "cell_type": "markdown",
   "metadata": {},
   "source": [
    "Итак, мы можем уверенно отклонить нулевую гипотезу  на уровне значимости 0.05."
   ]
  },
  {
   "cell_type": "code",
   "execution_count": 27,
   "metadata": {
    "collapsed": false
   },
   "outputs": [
    {
     "name": "stdout",
     "output_type": "stream",
     "text": [
      "PhD -> 0\n",
      "Grad -> 0\n",
      "Undergrad -> 0\n",
      "High school -> 0\n",
      "Elem school -> 0\n",
      "Other -> 0\n",
      "NA -> 0\n"
     ]
    }
   ],
   "source": [
    "A, B = np.bincount(edu_succ), np.bincount(edu_fail)\n",
    "cats = ['PhD', 'Grad', 'Undergrad', 'High school', 'Elem school', 'Other', 'NA']\n",
    "for cat, freq in sorted(list(zip(cats, A / B)), key=lambda x: x[1]):\n",
    "    print('{} -> {}'.format(cat, freq))"
   ]
  },
  {
   "cell_type": "markdown",
   "metadata": {},
   "source": [
    "Как видно, доктора - самые надёжные люди в смысле возврата кредита, а студенты/школьники - самые ненадёжные."
   ]
  },
  {
   "cell_type": "markdown",
   "metadata": {},
   "source": [
    "# Problem 4"
   ]
  },
  {
   "cell_type": "code",
   "execution_count": 28,
   "metadata": {
    "collapsed": true
   },
   "outputs": [],
   "source": [
    "mar_succ = df[df.default == 1].MARRIAGE.as_matrix()\n",
    "mar_fail = df[df.default == 0].MARRIAGE.as_matrix()"
   ]
  },
  {
   "cell_type": "code",
   "execution_count": 29,
   "metadata": {
    "collapsed": false
   },
   "outputs": [
    {
     "data": {
      "image/png": "[encoded data removed]",
      "text/plain": [
       "<matplotlib.figure.Figure at 0x7f154ab05610>"
      ]
     },
     "metadata": {},
     "output_type": "display_data"
    }
   ],
   "source": [
    "fig, ax = plt.subplots()\n",
    "fig.set_figwidth(10)\n",
    "ax.hist(mar_succ, bins=4, range=(0, 4))\n",
    "ax.set_xticks([0.5, 1.5, 2.5, 3.5])\n",
    "ax.set_xticklabels(['No reply', 'Married', 'Not married', 'NA'])\n",
    "plt.show()"
   ]
  },
  {
   "cell_type": "code",
   "execution_count": 30,
   "metadata": {
    "collapsed": false
   },
   "outputs": [
    {
     "data": {
      "image/png": "[encoded data removed]",
      "text/plain": [
       "<matplotlib.figure.Figure at 0x7f1544f7c990>"
      ]
     },
     "metadata": {},
     "output_type": "display_data"
    }
   ],
   "source": [
    "fig, ax = plt.subplots()\n",
    "fig.set_figwidth(10)\n",
    "ax.hist(mar_fail, bins=4, range=(0, 4))\n",
    "ax.set_xticks([0.5, 1.5, 2.5, 3.5])\n",
    "ax.set_xticklabels(['No reply', 'Married', 'Not married', 'NA'])\n",
    "plt.show()"
   ]
  },
  {
   "cell_type": "markdown",
   "metadata": {},
   "source": [
    "Проверим предположение о независимости семейного положения и невозврата кредита. Нулевая гипотеза: эти две величины независимы. Проверяем против альтернативы связанности критерием $\\chi^2$."
   ]
  },
  {
   "cell_type": "markdown",
   "metadata": {},
   "source": [
    "Но сначала проверим условия его применимости."
   ]
  },
  {
   "cell_type": "code",
   "execution_count": 31,
   "metadata": {
    "collapsed": false
   },
   "outputs": [
    {
     "name": "stdout",
     "output_type": "stream",
     "text": [
      "0%\n"
     ]
    }
   ],
   "source": [
    "# Проверка условий применения chi^2.\n",
    "cnt_table = list()\n",
    "for cat in np.unique(df.MARRIAGE):\n",
    "    total = len(df[df.MARRIAGE == cat].default)\n",
    "    def_cnt = np.sum(df[df.MARRIAGE == cat].default)\n",
    "    cnt_table.append([def_cnt, total - def_cnt])\n",
    "    \n",
    "cnt_ip = np.sum(cnt_table, axis=1)\n",
    "cnt_jp = np.sum(cnt_table, axis=0)\n",
    "n = np.sum(cnt_table, axis=None)\n",
    "\n",
    "small_cells = (\n",
    "len(\n",
    "    list(\n",
    "        filter(\n",
    "            lambda x: x < 5,\n",
    "            [cnt_ip[i]*cnt_jp[j]/n for j in range(len(cnt_jp)) for i in range(len(cnt_ip))]\n",
    "        )\n",
    "    )\n",
    ")\n",
    ") / (len(cnt_ip) * len(cnt_jp))\n",
    "print('{:.0f}%'.format(small_cells*100))"
   ]
  },
  {
   "cell_type": "code",
   "execution_count": 32,
   "metadata": {
    "collapsed": false
   },
   "outputs": [
    {
     "name": "stdout",
     "output_type": "stream",
     "text": [
      "Power_divergenceResult(statistic=inf, pvalue=0.0)\n",
      "Cramer's V = inf\n"
     ]
    }
   ],
   "source": [
    "A, B = np.bincount(mar_succ), np.bincount(mar_fail)\n",
    "B = B / B.sum() * A.sum()\n",
    "print(scipy.stats.chisquare(A, B))\n",
    "print('Cramer\\'s V = {}'.format(np.sqrt(scipy.stats.chisquare(A, B).statistic / len(df.EDUCATION))))"
   ]
  },
  {
   "cell_type": "markdown",
   "metadata": {},
   "source": [
    "Гипотезу о независимости брачного статуса и возврата кредита мы можем отвергнуть. Коэффициент Крамера, впрочем, показыввает, что эффект незначителен."
   ]
  },
  {
   "cell_type": "markdown",
   "metadata": {},
   "source": [
    "# Problem 5"
   ]
  },
  {
   "cell_type": "code",
   "execution_count": 33,
   "metadata": {
    "collapsed": true
   },
   "outputs": [],
   "source": [
    "age_succ = df[df.default == 1].AGE.as_matrix()\n",
    "age_fail = df[df.default == 0].AGE.as_matrix()"
   ]
  },
  {
   "cell_type": "code",
   "execution_count": 34,
   "metadata": {
    "collapsed": false
   },
   "outputs": [
    {
     "data": {
      "image/png": "[encoded data removed]",
      "text/plain": [
       "<matplotlib.figure.Figure at 0x7f1595694dd0>"
      ]
     },
     "metadata": {},
     "output_type": "display_data"
    }
   ],
   "source": [
    "plt.hist(age_succ)\n",
    "plt.show()"
   ]
  },
  {
   "cell_type": "code",
   "execution_count": 35,
   "metadata": {
    "collapsed": false
   },
   "outputs": [
    {
     "data": {
      "image/png": "[encoded data removed]",
      "text/plain": [
       "<matplotlib.figure.Figure at 0x7f1544f9da50>"
      ]
     },
     "metadata": {},
     "output_type": "display_data"
    }
   ],
   "source": [
    "plt.hist(age_fail)\n",
    "plt.show()"
   ]
  },
  {
   "cell_type": "markdown",
   "metadata": {},
   "source": [
    "Проверим гипотезу о равенстве медианных значений возрастов в группах. Нулевая гипотеза - медианы равны. Проверяем против двусторонней альтернативы на уровне значимости 0.05."
   ]
  },
  {
   "cell_type": "code",
   "execution_count": 36,
   "metadata": {
    "collapsed": false
   },
   "outputs": [
    {
     "data": {
      "text/plain": [
       "array([ 0.,  1.])"
      ]
     },
     "execution_count": 36,
     "metadata": {},
     "output_type": "execute_result"
    }
   ],
   "source": [
    "diff_conf_int(age_succ, age_fail, np.median)"
   ]
  },
  {
   "cell_type": "markdown",
   "metadata": {},
   "source": [
    "Интервал содержит 0, а потому отвергнуть нулевую гипотезу мы не можем. Воспользуемся перестановочным критерием. Нулевая гипотеза - распределения одинаковы. Альтернатива - одно из распределений \"сдвинуто\" относительно другого."
   ]
  },
  {
   "cell_type": "code",
   "execution_count": 37,
   "metadata": {
    "collapsed": true
   },
   "outputs": [],
   "source": [
    "import itertools\n",
    "\n",
    "np.random.seed(1337)\n",
    "\n",
    "def permutation_t_stat_ind(sample1, sample2):\n",
    "    return np.mean(sample1) - np.mean(sample2)\n",
    "\n",
    "def get_random_combinations(n1, n2, max_combinations):\n",
    "    index = list(range(n1 + n2))\n",
    "    indices = set([tuple(index)])\n",
    "    for i in range(max_combinations - 1):\n",
    "        np.random.shuffle(index)\n",
    "        indices.add(tuple(index))\n",
    "    return [(index[:n1], index[n1:]) for index in indices]\n",
    "\n",
    "def permutation_zero_dist_ind(sample1, sample2, max_combinations = None):\n",
    "    joined_sample = np.hstack((sample1, sample2))\n",
    "    n1 = len(sample1)\n",
    "    n = len(joined_sample)\n",
    "    \n",
    "    if max_combinations:\n",
    "        indices = get_random_combinations(n1, len(sample2), max_combinations)\n",
    "    else:\n",
    "        indices = [(list(index), filter(lambda i: i not in index, range(n)))\n",
    "                    for index in itertools.combinations(range(n), n1)]\n",
    "    \n",
    "    distr = [joined_sample[list(i[0])].mean() - joined_sample[list(i[1])].mean()\n",
    "             for i in indices]\n",
    "    return distr"
   ]
  },
  {
   "cell_type": "code",
   "execution_count": 38,
   "metadata": {
    "collapsed": true
   },
   "outputs": [],
   "source": [
    "def permutation_test(sample, mean, max_permutations = None, alternative = 'two-sided'):\n",
    "    if alternative not in ('two-sided', 'less', 'greater'):\n",
    "        raise ValueError(\"alternative not recognized\\n\"\n",
    "                         \"should be 'two-sided', 'less' or 'greater'\")\n",
    "    \n",
    "    t_stat = permutation_t_stat_ind(sample, mean)\n",
    "    \n",
    "    zero_distr = permutation_zero_dist_ind(sample, mean, max_permutations)\n",
    "    \n",
    "    if alternative == 'two-sided':\n",
    "        return sum([1. if abs(x) >= abs(t_stat) else 0. for x in zero_distr]) / len(zero_distr)\n",
    "    \n",
    "    if alternative == 'less':\n",
    "        return sum([1. if x <= t_stat else 0. for x in zero_distr]) / len(zero_distr)\n",
    "\n",
    "    if alternative == 'greater':\n",
    "        return sum([1. if x >= t_stat else 0. for x in zero_distr]) / len(zero_distr)"
   ]
  },
  {
   "cell_type": "code",
   "execution_count": 39,
   "metadata": {
    "collapsed": false
   },
   "outputs": [
    {
     "data": {
      "text/plain": [
       "0.0144"
      ]
     },
     "execution_count": 39,
     "metadata": {},
     "output_type": "execute_result"
    }
   ],
   "source": [
    "permutation_test(age_succ, age_fail, max_permutations=5000)"
   ]
  },
  {
   "cell_type": "markdown",
   "metadata": {
    "collapsed": true
   },
   "source": [
    "А вот перестановочный тест позволяет отвергнуть нулевую гипотезу на уровне значимости 0.05. Практически же, как видно из построения доверительного интервала, это различие не значимо."
   ]
  },
  {
   "cell_type": "code",
   "execution_count": null,
   "metadata": {
    "collapsed": true
   },
   "outputs": [],
   "source": []
  }
 ],
 "metadata": {
  "kernelspec": {
   "display_name": "Python 2",
   "language": "python",
   "name": "python2"
  },
  "language_info": {
   "codemirror_mode": {
    "name": "ipython",
    "version": 2
   },
   "file_extension": ".py",
   "mimetype": "text/x-python",
   "name": "python",
   "nbconvert_exporter": "python",
   "pygments_lexer": "ipython2",
   "version": "2.7.11"
  }
 },
 "nbformat": 4,
 "nbformat_minor": 0
}

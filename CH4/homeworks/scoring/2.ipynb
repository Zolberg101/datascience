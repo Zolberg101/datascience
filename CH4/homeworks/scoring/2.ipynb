{
 "cells": [
  {
   "cell_type": "code",
   "execution_count": 6,
   "metadata": {
    "collapsed": false
   },
   "outputs": [
    {
     "name": "stdout",
     "output_type": "stream",
     "text": [
      "Populating the interactive namespace from numpy and matplotlib\n"
     ]
    }
   ],
   "source": [
    "import numpy as np\n",
    "import scipy\n",
    "import pandas as pd\n",
    "from statsmodels.stats.proportion import proportion_confint\n",
    "from statsmodels.stats.descriptivestats import sign_test\n",
    "from statsmodels.stats.weightstats import zconfint\n",
    "import seaborn as sns\n",
    "import matplotlib.pyplot as plt\n",
    "%pylab inline\n",
    "from azureml import Workspace"
   ]
  },
  {
   "cell_type": "code",
   "execution_count": 7,
   "metadata": {
    "collapsed": false
   },
   "outputs": [
    {
     "ename": "ValueError",
     "evalue": "workspace_id not provided and not available via config",
     "output_type": "error",
     "traceback": [
      "\u001b[1;31m---------------------------------------------------------------------------\u001b[0m",
      "\u001b[1;31mValueError\u001b[0m                                Traceback (most recent call last)",
      "\u001b[1;32m<ipython-input-7-10c7881c162e>\u001b[0m in \u001b[0;36m<module>\u001b[1;34m()\u001b[0m\n\u001b[1;32m----> 1\u001b[1;33m \u001b[0mws\u001b[0m \u001b[1;33m=\u001b[0m \u001b[0mWorkspace\u001b[0m\u001b[1;33m(\u001b[0m\u001b[1;33m)\u001b[0m\u001b[1;33m\u001b[0m\u001b[0m\n\u001b[0m\u001b[0;32m      2\u001b[0m \u001b[0mds\u001b[0m \u001b[1;33m=\u001b[0m \u001b[0mws\u001b[0m\u001b[1;33m.\u001b[0m\u001b[0mdatasets\u001b[0m\u001b[1;33m[\u001b[0m\u001b[1;34m'credit_card_default_analysis.csv'\u001b[0m\u001b[1;33m]\u001b[0m\u001b[1;33m\u001b[0m\u001b[0m\n\u001b[0;32m      3\u001b[0m \u001b[0mcredit\u001b[0m \u001b[1;33m=\u001b[0m \u001b[0mds\u001b[0m\u001b[1;33m.\u001b[0m\u001b[0mto_dataframe\u001b[0m\u001b[1;33m(\u001b[0m\u001b[1;33m)\u001b[0m\u001b[1;33m\u001b[0m\u001b[0m\n",
      "\u001b[1;32m/home/egor/anaconda2/lib/python2.7/site-packages/azureml/__init__.pyc\u001b[0m in \u001b[0;36m__init__\u001b[1;34m(self, workspace_id, authorization_token, endpoint)\u001b[0m\n\u001b[0;32m    883\u001b[0m         \u001b[0mendpoint\u001b[0m \u001b[1;33m=\u001b[0m \u001b[0mhttps\u001b[0m\u001b[1;33m:\u001b[0m\u001b[1;33m//\u001b[0m\u001b[0mstudio\u001b[0m\u001b[1;33m.\u001b[0m\u001b[0mazureml\u001b[0m\u001b[1;33m.\u001b[0m\u001b[0mnet\u001b[0m\u001b[1;33m\u001b[0m\u001b[0m\n\u001b[0;32m    884\u001b[0m         \"\"\"\n\u001b[1;32m--> 885\u001b[1;33m         \u001b[0mworkspace_id\u001b[0m\u001b[1;33m,\u001b[0m \u001b[0mauthorization_token\u001b[0m\u001b[1;33m,\u001b[0m \u001b[0mendpoint\u001b[0m\u001b[1;33m,\u001b[0m \u001b[0mmanagement_endpoint\u001b[0m \u001b[1;33m=\u001b[0m \u001b[0m_get_workspace_info\u001b[0m\u001b[1;33m(\u001b[0m\u001b[0mworkspace_id\u001b[0m\u001b[1;33m,\u001b[0m \u001b[0mauthorization_token\u001b[0m\u001b[1;33m,\u001b[0m \u001b[0mendpoint\u001b[0m\u001b[1;33m,\u001b[0m \u001b[0mNone\u001b[0m\u001b[1;33m)\u001b[0m\u001b[1;33m\u001b[0m\u001b[0m\n\u001b[0m\u001b[0;32m    886\u001b[0m \u001b[1;33m\u001b[0m\u001b[0m\n\u001b[0;32m    887\u001b[0m         \u001b[0m_not_none_or_empty\u001b[0m\u001b[1;33m(\u001b[0m\u001b[1;34m'workspace_id'\u001b[0m\u001b[1;33m,\u001b[0m \u001b[0mworkspace_id\u001b[0m\u001b[1;33m)\u001b[0m\u001b[1;33m\u001b[0m\u001b[0m\n",
      "\u001b[1;32m/home/egor/anaconda2/lib/python2.7/site-packages/azureml/__init__.pyc\u001b[0m in \u001b[0;36m_get_workspace_info\u001b[1;34m(workspace_id, authorization_token, endpoint, management_endpoint)\u001b[0m\n\u001b[0;32m    849\u001b[0m \u001b[1;33m\u001b[0m\u001b[0m\n\u001b[0;32m    850\u001b[0m         \u001b[1;32mif\u001b[0m \u001b[0mworkspace_id\u001b[0m \u001b[1;32mis\u001b[0m \u001b[0mNone\u001b[0m\u001b[1;33m:\u001b[0m\u001b[1;33m\u001b[0m\u001b[0m\n\u001b[1;32m--> 851\u001b[1;33m             \u001b[1;32mraise\u001b[0m \u001b[0mValueError\u001b[0m\u001b[1;33m(\u001b[0m\u001b[1;34m'workspace_id not provided and not available via config'\u001b[0m\u001b[1;33m)\u001b[0m\u001b[1;33m\u001b[0m\u001b[0m\n\u001b[0m\u001b[0;32m    852\u001b[0m         \u001b[1;32mif\u001b[0m \u001b[0mauthorization_token\u001b[0m \u001b[1;32mis\u001b[0m \u001b[0mNone\u001b[0m\u001b[1;33m:\u001b[0m\u001b[1;33m\u001b[0m\u001b[0m\n\u001b[0;32m    853\u001b[0m             \u001b[1;32mraise\u001b[0m \u001b[0mValueError\u001b[0m\u001b[1;33m(\u001b[0m\u001b[1;34m'authorization_token not provided and not available via config'\u001b[0m\u001b[1;33m)\u001b[0m\u001b[1;33m\u001b[0m\u001b[0m\n",
      "\u001b[1;31mValueError\u001b[0m: workspace_id not provided and not available via config"
     ]
    }
   ],
   "source": [
    "ws = Workspace()\n",
    "ds = ws.datasets['credit_card_default_analysis.csv']\n",
    "credit = ds.to_dataframe()"
   ]
  },
  {
   "cell_type": "code",
   "execution_count": 8,
   "metadata": {
    "collapsed": false,
    "scrolled": true
   },
   "outputs": [
    {
     "ename": "NameError",
     "evalue": "name 'credit' is not defined",
     "output_type": "error",
     "traceback": [
      "\u001b[1;31m---------------------------------------------------------------------------\u001b[0m",
      "\u001b[1;31mNameError\u001b[0m                                 Traceback (most recent call last)",
      "\u001b[1;32m<ipython-input-8-60dc747497c2>\u001b[0m in \u001b[0;36m<module>\u001b[1;34m()\u001b[0m\n\u001b[1;32m----> 1\u001b[1;33m \u001b[0mcredit\u001b[0m\u001b[1;33m.\u001b[0m\u001b[0mhead\u001b[0m\u001b[1;33m(\u001b[0m\u001b[1;36m2\u001b[0m\u001b[1;33m)\u001b[0m\u001b[1;33m\u001b[0m\u001b[0m\n\u001b[0m",
      "\u001b[1;31mNameError\u001b[0m: name 'credit' is not defined"
     ]
    }
   ],
   "source": [
    "credit.head(2)"
   ]
  },
  {
   "cell_type": "markdown",
   "metadata": {},
   "source": [
    "# Задание #1"
   ]
  },
  {
   "cell_type": "code",
   "execution_count": 4,
   "metadata": {
    "collapsed": true
   },
   "outputs": [],
   "source": [
    "default = credit[credit.default == 1] #возврат\n",
    "ndefault = credit[credit.default == 0] #невозврат"
   ]
  },
  {
   "cell_type": "markdown",
   "metadata": {},
   "source": [
    "### a) гипотеза  равенства медиан"
   ]
  },
  {
   "cell_type": "code",
   "execution_count": 5,
   "metadata": {
    "collapsed": false,
    "scrolled": true
   },
   "outputs": [
    {
     "data": {
      "image/png": "[encoded data removed]",
      "text/plain": [
       "<matplotlib.figure.Figure at 0x7f0774569310>"
      ]
     },
     "metadata": {},
     "output_type": "display_data"
    }
   ],
   "source": [
    "# посмотрим на гистограммы распределений кредитного лимита в двух группах\n",
    "\n",
    "pylab.figure(figsize=(12,4))\n",
    "\n",
    "pylab.subplot(1,2,1)\n",
    "pylab.grid()\n",
    "pylab.hist(default.LIMIT_BAL, color = 'r')\n",
    "pylab.xlabel('Credit limit in  default group')\n",
    "\n",
    "pylab.subplot(1,2,2)\n",
    "pylab.grid()\n",
    "pylab.hist(ndefault.LIMIT_BAL, color = 'b')\n",
    "pylab.xlabel('Credit limit in  non-default group')\n",
    "\n",
    "pylab.show()"
   ]
  },
  {
   "cell_type": "markdown",
   "metadata": {},
   "source": [
    "Таким образом, кредитный лимит выше в группе, которая вернула кредит, чем в группе, которая кредит не вернула."
   ]
  },
  {
   "cell_type": "markdown",
   "metadata": {},
   "source": [
    "Рассчитаем доверительный интервал для разницы медиан в двух выборках на основе бутстрепа."
   ]
  },
  {
   "cell_type": "markdown",
   "metadata": {},
   "source": [
    "$H_0\\colon$ медианы кредитного лимита совпадают в двух группах заемщиков\n",
    "\n",
    "$H_1\\colon$ медианы кредитного лимита отличаются в двух группах заемщиков"
   ]
  },
  {
   "cell_type": "code",
   "execution_count": 246,
   "metadata": {
    "collapsed": true
   },
   "outputs": [],
   "source": [
    "def get_bootstrap_samples(data, n_samples):\n",
    "    indices = np.random.randint(0, len(data), (n_samples, len(data)))\n",
    "    samples = data[indices]\n",
    "    return samples\n",
    "\n",
    "def stat_intervals(stat, alpha):\n",
    "    boundaries = np.percentile(stat, [100 * alpha / 2., 100 * (1 - alpha / 2.)])\n",
    "    return boundaries"
   ]
  },
  {
   "cell_type": "code",
   "execution_count": 15,
   "metadata": {
    "collapsed": false
   },
   "outputs": [
    {
     "name": "stdout",
     "output_type": "stream",
     "text": [
      "95% confidence interval for the difference between medians [-70000. -60000.]\n"
     ]
    }
   ],
   "source": [
    "default_limit = default.LIMIT_BAL.values\n",
    "ndefault_limit = ndefault.LIMIT_BAL.values\n",
    "\n",
    "n_samples = 10000\n",
    "\n",
    "np.random.seed(0)\n",
    "\n",
    "default_medians = map(np.median, get_bootstrap_samples(default_limit, n_samples))\n",
    "ndefault_medians = map(np.median, get_bootstrap_samples(ndefault_limit, n_samples))\n",
    "\n",
    "delta_medians = map(lambda x: x[0]-x[1], zip(default_medianes, ndefault_medians))\n",
    "\n",
    "print \"95% confidence interval for the difference between medians\",  stat_intervals(delta_medians, 0.05)"
   ]
  },
  {
   "cell_type": "markdown",
   "metadata": {},
   "source": [
    "Как видим из полученной интервальной оценки методом бутстрепа, кредитный лимит в группе \"default\" на 60-70 тыс. меньше, чем в группе \"ndefaut\""
   ]
  },
  {
   "cell_type": "markdown",
   "metadata": {},
   "source": [
    "### b) проверка равенства распределений "
   ]
  },
  {
   "cell_type": "markdown",
   "metadata": {},
   "source": [
    "####Перестановочный критерий"
   ]
  },
  {
   "cell_type": "markdown",
   "metadata": {},
   "source": [
    "$H_0\\colon F_{X_1}(x) = F_{X_2}(x)$\n",
    "\n",
    "$H_1\\colon F_{X_1}(x) = F_{X_2}(x + \\Delta), \\Delta\\neq 0$"
   ]
  },
  {
   "cell_type": "code",
   "execution_count": 251,
   "metadata": {
    "collapsed": true
   },
   "outputs": [],
   "source": [
    "def permutation_t_stat_ind(sample1, sample2):\n",
    "    return np.mean(sample1) - np.mean(sample2)\n",
    "\n",
    "def get_random_combinations(n1, n2, max_combinations):\n",
    "    index = range(n1 + n2)\n",
    "    indices = set([tuple(index)])\n",
    "    for i in range(max_combinations - 1):\n",
    "        np.random.shuffle(index)\n",
    "        indices.add(tuple(index))\n",
    "    return [(index[:n1], index[n1:]) for index in indices]\n",
    "\n",
    "def permutation_zero_dist_ind(sample1, sample2, max_combinations = None):\n",
    "    joined_sample = np.hstack((sample1, sample2))\n",
    "    n1 = len(sample1)\n",
    "    n = len(joined_sample)\n",
    "    \n",
    "    if max_combinations:\n",
    "        indices = get_random_combinations(n1, len(sample2), max_combinations)\n",
    "    else:\n",
    "        indices = [(list(index), filter(lambda i: i not in index, range(n))) \\\n",
    "                    for index in itertools.combinations(range(n), n1)]\n",
    "    \n",
    "    distr = [joined_sample[list(i[0])].mean() - joined_sample[list(i[1])].mean() \\\n",
    "             for i in indices]\n",
    "    return distr\n",
    "\n",
    "def permutation_test(sample, mean, max_permutations = None, alternative = 'two-sided'):\n",
    "    if alternative not in ('two-sided', 'less', 'greater'):\n",
    "        raise ValueError(\"alternative not recognized\\n\"\n",
    "                         \"should be 'two-sided', 'less' or 'greater'\")\n",
    "    \n",
    "    t_stat = permutation_t_stat_ind(sample, mean)\n",
    "    \n",
    "    zero_distr = permutation_zero_dist_ind(sample, mean, max_permutations)\n",
    "    \n",
    "    if alternative == 'two-sided':\n",
    "        return sum([1. if abs(x) >= abs(t_stat) else 0. for x in zero_distr]) / len(zero_distr)\n",
    "    \n",
    "    if alternative == 'less':\n",
    "        return sum([1. if x <= t_stat else 0. for x in zero_distr]) / len(zero_distr)\n",
    "\n",
    "    if alternative == 'greater':\n",
    "        return sum([1. if x >= t_stat else 0. for x in zero_distr]) / len(zero_distr)"
   ]
  },
  {
   "cell_type": "code",
   "execution_count": 22,
   "metadata": {
    "collapsed": false
   },
   "outputs": [
    {
     "name": "stdout",
     "output_type": "stream",
     "text": [
      "p-value: 0.000100\n"
     ]
    }
   ],
   "source": [
    "print \"p-value: %f\" % permutation_test(default_limit, ndefault_limit, 10000)"
   ]
  },
  {
   "cell_type": "markdown",
   "metadata": {},
   "source": [
    "Так как p-value < 0.05, следовательно, нулевая гипотеза отвергается"
   ]
  },
  {
   "cell_type": "markdown",
   "metadata": {},
   "source": [
    "# Задание 2"
   ]
  },
  {
   "cell_type": "markdown",
   "metadata": {},
   "source": [
    "### Проверка гипотезы об идентичности  гендерного состава группы людей вернувших и не вернувших кредит "
   ]
  },
  {
   "cell_type": "code",
   "execution_count": 48,
   "metadata": {
    "collapsed": false,
    "scrolled": true
   },
   "outputs": [
    {
     "data": {
      "text/plain": [
       "<matplotlib.axes._subplots.AxesSubplot at 0x7f3031cc4110>"
      ]
     },
     "execution_count": 48,
     "metadata": {},
     "output_type": "execute_result"
    },
    {
     "data": {
      "image/png": "[encoded data removed]",
      "text/plain": [
       "<matplotlib.figure.Figure at 0x7f3032308710>"
      ]
     },
     "metadata": {},
     "output_type": "display_data"
    }
   ],
   "source": [
    "sns.barplot(x = 'SEX',  y = 'default', data = credit)"
   ]
  },
  {
   "cell_type": "markdown",
   "metadata": {},
   "source": [
    "Таким образом, мужчины чаще не возвращают кредит"
   ]
  },
  {
   "cell_type": "markdown",
   "metadata": {},
   "source": [
    "Построим доверительный интервал для разницы долей мужчин и женщин в двух группах. \n",
    "Воспользуемся формулой и напишем функцию $$p_1 - p_2\\colon \\;\\; \\hat{p}_1 - \\hat{p}_2 \\pm z_{1-\\frac{\\alpha}{2}}\\sqrt{\\frac{\\hat{p}_1(1 - \\hat{p}_1)}{n_1} + \\frac{\\hat{p}_2(1 - \\hat{p}_2)}{n_2}}$$"
   ]
  },
  {
   "cell_type": "code",
   "execution_count": 9,
   "metadata": {
    "collapsed": true
   },
   "outputs": [],
   "source": [
    "def proportions_confint_diff_ind(sample1, sample2, alpha = 0.05):\n",
    "    z = scipy.stats.norm.ppf(1 - alpha / 2.)   \n",
    "    p1 = float(sum(sample1)) / len(sample1)\n",
    "    p2 = float(sum(sample2)) / len(sample2)\n",
    "    \n",
    "    left_boundary = (p1 - p2) - z * np.sqrt(p1 * (1 - p1)/ len(sample1) + p2 * (1 - p2)/ len(sample2))\n",
    "    right_boundary = (p1 - p2) + z * np.sqrt(p1 * (1 - p1)/ len(sample1) + p2 * (1 - p2)/ len(sample2))\n",
    "    \n",
    "    return (left_boundary, right_boundary)"
   ]
  },
  {
   "cell_type": "code",
   "execution_count": 253,
   "metadata": {
    "collapsed": true
   },
   "outputs": [],
   "source": [
    "male_def = np.sum(default.SEX.apply(lambda x: 1 if x == 1 else 0))\n",
    "male_ndef = np.sum(ndefault.SEX.apply(lambda x: 1 if x == 1 else 0))\n",
    "fem_def = np.sum(default.SEX.apply(lambda x: 1 if x == 2 else 0))\n",
    "fem_ndef = np.sum(ndefault.SEX.apply(lambda x: 1 if x == 2 else 0))"
   ]
  },
  {
   "cell_type": "code",
   "execution_count": 254,
   "metadata": {
    "collapsed": true
   },
   "outputs": [],
   "source": [
    "male = [1]*male_def + [0]*male_ndef\n",
    "female = [1]*fem_def + [0]*fem_ndef"
   ]
  },
  {
   "cell_type": "code",
   "execution_count": 255,
   "metadata": {
    "collapsed": false
   },
   "outputs": [
    {
     "data": {
      "text/plain": [
       "(0.024207372179792706, 0.043611558570817201)"
      ]
     },
     "execution_count": 255,
     "metadata": {},
     "output_type": "execute_result"
    }
   ],
   "source": [
    "proportions_confint_diff_ind(male, female)"
   ]
  },
  {
   "cell_type": "markdown",
   "metadata": {},
   "source": [
    "Доверительный интервал лежит правее нуля, следовательно, гендерный состав не одинаков, мужчины чаще не возвращают кредит"
   ]
  },
  {
   "cell_type": "code",
   "execution_count": 16,
   "metadata": {
    "collapsed": true
   },
   "outputs": [],
   "source": [
    "def proportions_diff_z_stat_ind(sample1, sample2):\n",
    "    n1 = len(sample1)\n",
    "    n2 = len(sample2)\n",
    "    \n",
    "    p1 = float(sum(sample1)) / n1\n",
    "    p2 = float(sum(sample2)) / n2 \n",
    "    P = float(p1*n1 + p2*n2) / (n1 + n2)\n",
    "    \n",
    "    return (p1 - p2) / np.sqrt(P * (1 - P) * (1. / n1 + 1. / n2))\n",
    "\n",
    "def proportions_diff_z_test(z_stat, alternative = 'two-sided'):\n",
    "    if alternative not in ('two-sided', 'less', 'greater'):\n",
    "        raise ValueError(\"alternative not recognized\\n\"\n",
    "                         \"should be 'two-sided', 'less' or 'greater'\")\n",
    "    \n",
    "    if alternative == 'two-sided':\n",
    "        return 2 * (1 - scipy.stats.norm.cdf(np.abs(z_stat)))\n",
    "    \n",
    "    if alternative == 'less':\n",
    "        return scipy.stats.norm.cdf(z_stat)\n",
    "\n",
    "    if alternative == 'greater':\n",
    "        return 1 - scipy.stats.norm.cdf(z_stat)"
   ]
  },
  {
   "cell_type": "markdown",
   "metadata": {},
   "source": [
    "Проверим равенство долей\n",
    "\n",
    "$H_0: p_1 = p_2$ - доли равны\n",
    "\n",
    "$H_1: p_1 \\neq p_2$ - доли не равны"
   ]
  },
  {
   "cell_type": "code",
   "execution_count": 256,
   "metadata": {
    "collapsed": false
   },
   "outputs": [
    {
     "name": "stdout",
     "output_type": "stream",
     "text": [
      "p-value =  4.47286652161e-12\n"
     ]
    }
   ],
   "source": [
    "print 'p-value = ', proportions_diff_z_test(proportions_diff_z_stat_ind(male, female))"
   ]
  },
  {
   "cell_type": "markdown",
   "metadata": {},
   "source": [
    "Нулевая гипотеза отвергается, гендерный состав в группах различный"
   ]
  },
  {
   "cell_type": "markdown",
   "metadata": {},
   "source": [
    "# Задание # 3"
   ]
  },
  {
   "cell_type": "markdown",
   "metadata": {},
   "source": [
    "### Проверка гипотезы о том, что образование не влияет на то, вернет ли человек долг."
   ]
  },
  {
   "cell_type": "code",
   "execution_count": 70,
   "metadata": {
    "collapsed": false
   },
   "outputs": [],
   "source": [
    "cr = credit[:]\n",
    "cr.EDUCATION[cr.EDUCATION == 6] = np.nan\n",
    "cr.EDUCATION.dropna(inplace=True)"
   ]
  },
  {
   "cell_type": "code",
   "execution_count": 71,
   "metadata": {
    "collapsed": false
   },
   "outputs": [],
   "source": [
    "cr.EDUCATION = cr.EDUCATION.astype('category')\n",
    "cr.EDUCATION.cat.categories = ['phd', 'master', 'bachelor', 'school', 'preschool', 'other']"
   ]
  },
  {
   "cell_type": "code",
   "execution_count": 72,
   "metadata": {
    "collapsed": false,
    "scrolled": true
   },
   "outputs": [
    {
     "data": {
      "image/png": "[encoded data removed]",
      "text/plain": [
       "<matplotlib.figure.Figure at 0x7f07701760d0>"
      ]
     },
     "metadata": {},
     "output_type": "display_data"
    }
   ],
   "source": [
    "plt.figure(figsize(20,5))\n",
    "plt.subplot(121)\n",
    "sns.countplot(x = 'EDUCATION', data = cr[cr.default == 0])\n",
    "plt.title('NON-DEFAULT GROUP')\n",
    "plt.xlabel('level of education')\n",
    "plt.subplot(122)\n",
    "sns.countplot(x = 'EDUCATION', data = cr[cr.default == 1])\n",
    "plt.title('DEFAULT GROUP')\n",
    "plt.xlabel('level of education')\n",
    "plt.show()"
   ]
  },
  {
   "cell_type": "code",
   "execution_count": 297,
   "metadata": {
    "collapsed": false
   },
   "outputs": [],
   "source": [
    "table = list()\n",
    "for category in cr.EDUCATION.cat.categories:\n",
    "    x = len(cr[cr.EDUCATION == category].default)\n",
    "    y = np.sum(cr[cr.EDUCATION == category].default)\n",
    "    table.append([y,x-y])"
   ]
  },
  {
   "cell_type": "code",
   "execution_count": 298,
   "metadata": {
    "collapsed": false,
    "scrolled": true
   },
   "outputs": [
    {
     "data": {
      "text/html": [
       "<div>\n",
       "<table border=\"1\" class=\"dataframe\">\n",
       "  <thead>\n",
       "    <tr style=\"text-align: right;\">\n",
       "      <th></th>\n",
       "      <th>default</th>\n",
       "      <th>non_default</th>\n",
       "    </tr>\n",
       "  </thead>\n",
       "  <tbody>\n",
       "    <tr>\n",
       "      <th>phd</th>\n",
       "      <td>0</td>\n",
       "      <td>14</td>\n",
       "    </tr>\n",
       "    <tr>\n",
       "      <th>master</th>\n",
       "      <td>2036</td>\n",
       "      <td>8549</td>\n",
       "    </tr>\n",
       "    <tr>\n",
       "      <th>bachelor</th>\n",
       "      <td>3330</td>\n",
       "      <td>10700</td>\n",
       "    </tr>\n",
       "    <tr>\n",
       "      <th>school</th>\n",
       "      <td>1237</td>\n",
       "      <td>3680</td>\n",
       "    </tr>\n",
       "    <tr>\n",
       "      <th>preschool</th>\n",
       "      <td>7</td>\n",
       "      <td>116</td>\n",
       "    </tr>\n",
       "    <tr>\n",
       "      <th>other</th>\n",
       "      <td>18</td>\n",
       "      <td>262</td>\n",
       "    </tr>\n",
       "  </tbody>\n",
       "</table>\n",
       "</div>"
      ],
      "text/plain": [
       "           default  non_default\n",
       "phd              0           14\n",
       "master        2036         8549\n",
       "bachelor      3330        10700\n",
       "school        1237         3680\n",
       "preschool        7          116\n",
       "other           18          262"
      ]
     },
     "execution_count": 298,
     "metadata": {},
     "output_type": "execute_result"
    }
   ],
   "source": [
    "table = pd.DataFrame(table, index = cr.EDUCATION.cat.categories, columns=['default', 'non_default'])\n",
    "table"
   ]
  },
  {
   "cell_type": "markdown",
   "metadata": {},
   "source": [
    "Проверим гипотезу об отсутствии зависимости между уровнем образования и возвратом/невозвратом кредита\n",
    "\n",
    "$H_0:$ возврат кредита не зависит от уровня образования\n",
    "\n",
    "$H_1:$ возврат кредита зависит от уровня образования"
   ]
  },
  {
   "cell_type": "markdown",
   "metadata": {},
   "source": [
    "Проверим условия применимости критерия $\\chi^2$"
   ]
  },
  {
   "cell_type": "code",
   "execution_count": 110,
   "metadata": {
    "collapsed": true
   },
   "outputs": [],
   "source": [
    "n_iplus = np.sum(table, axis = 1)\n",
    "n_jplus = np.sum(table, axis = 0)\n",
    "n = sum(n_jplus)"
   ]
  },
  {
   "cell_type": "code",
   "execution_count": 113,
   "metadata": {
    "collapsed": false
   },
   "outputs": [],
   "source": [
    "stats = list()\n",
    "for i in range(len(n_iplus)):\n",
    "    for j in range(len(n_jplus)):\n",
    "        stat = n_iplus[i]*n_jplus[j]/n\n",
    "        stats.append(stat)"
   ]
  },
  {
   "cell_type": "code",
   "execution_count": 134,
   "metadata": {
    "collapsed": false
   },
   "outputs": [
    {
     "name": "stdout",
     "output_type": "stream",
     "text": [
      "Количество наблюдения равно 29949\n",
      "Количество ячеек, ожидаемое значение которых меньше 5 составляют 8.33333333333%\n"
     ]
    }
   ],
   "source": [
    "print 'Количество наблюдения равно {0}'.format(n)\n",
    "print 'Количество ячеек, ожидаемое значение которых меньше 5 составляют {0}%'.\\\n",
    "format(float(len([x for x in stats if x < 5]))/ len(stats) * 100)"
   ]
  },
  {
   "cell_type": "code",
   "execution_count": 299,
   "metadata": {
    "collapsed": false
   },
   "outputs": [
    {
     "name": "stdout",
     "output_type": "stream",
     "text": [
      "p-value = 3.83555441089e-33\n"
     ]
    }
   ],
   "source": [
    "print 'p-value =', scipy.stats.chi2_contingency(table)[1]"
   ]
  },
  {
   "cell_type": "markdown",
   "metadata": {},
   "source": [
    "Нулевая гипотеза об отсутствии зависимости между уровнем образования и вероятностью возврата кредита не принимается, зависимость имеется"
   ]
  },
  {
   "cell_type": "markdown",
   "metadata": {},
   "source": [
    "### Представление практической значимости разницы в ожидаемых и наблюдаемых значениях количества человек вернувших и не вернувших долг"
   ]
  },
  {
   "cell_type": "code",
   "execution_count": 327,
   "metadata": {
    "collapsed": false
   },
   "outputs": [],
   "source": [
    "q = (table - scipy.stats.chi2_contingency(table)[3])/scipy.stats.chi2_contingency(table)[3]"
   ]
  },
  {
   "cell_type": "code",
   "execution_count": 328,
   "metadata": {
    "collapsed": false
   },
   "outputs": [
    {
     "data": {
      "image/png": "[encoded data removed]",
      "text/plain": [
       "<matplotlib.figure.Figure at 0x7f076f4e1ad0>"
      ]
     },
     "metadata": {},
     "output_type": "display_data"
    }
   ],
   "source": [
    "sns.barplot(x=['phd', 'master', 'bachelor', 'school', 'preschool', 'other'], y=q.ix[:,1].values)\n",
    "plt.title('The proportion of the difference between the expected and observed values of the number of people who returned and did not return the debt')\n",
    "plt.show()"
   ]
  },
  {
   "cell_type": "code",
   "execution_count": 269,
   "metadata": {
    "collapsed": true
   },
   "outputs": [],
   "source": [
    "table = list()\n",
    "for category in cr.EDUCATION.cat.categories:\n",
    "    total_n = len(cr[cr.EDUCATION == category].default)\n",
    "    default_n = np.sum(cr[cr.EDUCATION == category].default)\n",
    "    table.append([proportion_confint(default_n, total_n)[0],proportion_confint(default_n, total_n)[1]])"
   ]
  },
  {
   "cell_type": "code",
   "execution_count": 270,
   "metadata": {
    "collapsed": false
   },
   "outputs": [
    {
     "data": {
      "text/html": [
       "<div>\n",
       "<table border=\"1\" class=\"dataframe\">\n",
       "  <thead>\n",
       "    <tr style=\"text-align: right;\">\n",
       "      <th></th>\n",
       "      <th>MIN</th>\n",
       "      <th>MAX</th>\n",
       "    </tr>\n",
       "  </thead>\n",
       "  <tbody>\n",
       "    <tr>\n",
       "      <th>phd</th>\n",
       "      <td>0.000000</td>\n",
       "      <td>0.000000</td>\n",
       "    </tr>\n",
       "    <tr>\n",
       "      <th>master</th>\n",
       "      <td>0.184839</td>\n",
       "      <td>0.199856</td>\n",
       "    </tr>\n",
       "    <tr>\n",
       "      <th>bachelor</th>\n",
       "      <td>0.230308</td>\n",
       "      <td>0.244389</td>\n",
       "    </tr>\n",
       "    <tr>\n",
       "      <th>school</th>\n",
       "      <td>0.239448</td>\n",
       "      <td>0.263705</td>\n",
       "    </tr>\n",
       "    <tr>\n",
       "      <th>preschool</th>\n",
       "      <td>0.015969</td>\n",
       "      <td>0.097853</td>\n",
       "    </tr>\n",
       "    <tr>\n",
       "      <th>other</th>\n",
       "      <td>0.035558</td>\n",
       "      <td>0.093013</td>\n",
       "    </tr>\n",
       "  </tbody>\n",
       "</table>\n",
       "</div>"
      ],
      "text/plain": [
       "                MIN       MAX\n",
       "phd        0.000000  0.000000\n",
       "master     0.184839  0.199856\n",
       "bachelor   0.230308  0.244389\n",
       "school     0.239448  0.263705\n",
       "preschool  0.015969  0.097853\n",
       "other      0.035558  0.093013"
      ]
     },
     "execution_count": 270,
     "metadata": {},
     "output_type": "execute_result"
    }
   ],
   "source": [
    "table = pd.DataFrame(table, index = cr.EDUCATION.cat.categories, columns=['MIN', 'MAX'])\n",
    "table"
   ]
  },
  {
   "cell_type": "markdown",
   "metadata": {},
   "source": [
    "### Наличие какого образования является наилучшим индикатором того, что человек отдаст долг"
   ]
  },
  {
   "cell_type": "markdown",
   "metadata": {},
   "source": [
    "Как видно из полученных результатов, доля невозвратов выше у тех, кто окончил школу, затем идут те, кто закончил только бакалавриат. Вероятность того, что человек, имеющий степень доктора, вернет кредит очень высока."
   ]
  },
  {
   "cell_type": "markdown",
   "metadata": {},
   "source": [
    "# Задание # 4"
   ]
  },
  {
   "cell_type": "markdown",
   "metadata": {},
   "source": [
    "### Семейный статус заемщика и индикатор дефолта"
   ]
  },
  {
   "cell_type": "code",
   "execution_count": 150,
   "metadata": {
    "collapsed": true
   },
   "outputs": [],
   "source": [
    "credit.MARRIAGE = credit.MARRIAGE.astype('category')\n",
    "credit.MARRIAGE.cat.categories = ['denied', 'married', 'single', 'no_data']"
   ]
  },
  {
   "cell_type": "code",
   "execution_count": null,
   "metadata": {
    "collapsed": true
   },
   "outputs": [],
   "source": [
    "data[np.logical_and(data.MARRIAGE!='Refuse',data.MARRIAGE!='NA')]"
   ]
  },
  {
   "cell_type": "code",
   "execution_count": 185,
   "metadata": {
    "collapsed": false,
    "scrolled": false
   },
   "outputs": [
    {
     "data": {
      "image/png": "[encoded data removed]",
      "text/plain": [
       "<matplotlib.figure.Figure at 0x7f076ff3f810>"
      ]
     },
     "metadata": {},
     "output_type": "display_data"
    }
   ],
   "source": [
    "plt.figure(figsize(20,5))\n",
    "plt.subplot(121)\n",
    "sns.countplot(x = 'MARRIAGE', data = credit[credit.default == 0])\n",
    "plt.title('NON-DEFAULT GROUP')\n",
    "plt.xlabel('marital status')\n",
    "plt.subplot(122)\n",
    "sns.countplot(x = 'MARRIAGE', data = credit[credit.default == 1])\n",
    "plt.title('DEFAULT GROUP')\n",
    "plt.xlabel('marital status')\n",
    "plt.show()"
   ]
  },
  {
   "cell_type": "markdown",
   "metadata": {},
   "source": [
    "Для проверки наличия зависимости между семейным статусом и статусом дефолта воспользуемся критерием Крамера."
   ]
  },
  {
   "cell_type": "code",
   "execution_count": 289,
   "metadata": {
    "collapsed": false
   },
   "outputs": [
    {
     "data": {
      "text/html": [
       "<div>\n",
       "<table border=\"1\" class=\"dataframe\">\n",
       "  <thead>\n",
       "    <tr style=\"text-align: right;\">\n",
       "      <th></th>\n",
       "      <th>default</th>\n",
       "      <th>non_default</th>\n",
       "    </tr>\n",
       "  </thead>\n",
       "  <tbody>\n",
       "    <tr>\n",
       "      <th>denied</th>\n",
       "      <td>5</td>\n",
       "      <td>49</td>\n",
       "    </tr>\n",
       "    <tr>\n",
       "      <th>married</th>\n",
       "      <td>3206</td>\n",
       "      <td>10453</td>\n",
       "    </tr>\n",
       "    <tr>\n",
       "      <th>single</th>\n",
       "      <td>3341</td>\n",
       "      <td>12623</td>\n",
       "    </tr>\n",
       "    <tr>\n",
       "      <th>no_data</th>\n",
       "      <td>84</td>\n",
       "      <td>239</td>\n",
       "    </tr>\n",
       "  </tbody>\n",
       "</table>\n",
       "</div>"
      ],
      "text/plain": [
       "         default  non_default\n",
       "denied         5           49\n",
       "married     3206        10453\n",
       "single      3341        12623\n",
       "no_data       84          239"
      ]
     },
     "execution_count": 289,
     "metadata": {},
     "output_type": "execute_result"
    }
   ],
   "source": [
    "table_mar = list()\n",
    "for category in credit.MARRIAGE.cat.categories:\n",
    "    x = len(credit[credit.MARRIAGE == category].default)\n",
    "    y = np.sum(credit[credit.MARRIAGE == category].default)\n",
    "    table_mar.append([y,x-y])\n",
    "    \n",
    "pd.DataFrame(table_mar, credit.MARRIAGE.cat.categories, columns = ['default', 'non_default'])"
   ]
  },
  {
   "cell_type": "markdown",
   "metadata": {},
   "source": [
    "Проверим условия применимости критерия $\\chi^2$"
   ]
  },
  {
   "cell_type": "code",
   "execution_count": 284,
   "metadata": {
    "collapsed": true
   },
   "outputs": [],
   "source": [
    "n_iplus = np.sum(table_mar, axis = 1)\n",
    "n_jplus = np.sum(table_mar, axis = 0)\n",
    "n = sum(n_jplus)\n",
    "\n",
    "stats = list()\n",
    "for i in range(len(n_iplus)):\n",
    "    for j in range(len(n_jplus)):\n",
    "        stat = n_iplus[i]*n_jplus[j]/n\n",
    "        stats.append(stat)"
   ]
  },
  {
   "cell_type": "code",
   "execution_count": 285,
   "metadata": {
    "collapsed": false
   },
   "outputs": [
    {
     "name": "stdout",
     "output_type": "stream",
     "text": [
      "Количество наблюдения равно 30000\n",
      "Количество ячеек, ожидаемое значение которых меньше 5 составляют 0.0%\n"
     ]
    }
   ],
   "source": [
    "print 'Количество наблюдения равно {0}'.format(n)\n",
    "print 'Количество ячеек, ожидаемое значение которых меньше 5 составляют {0}%'.\\\n",
    "format(float(len([x for x in stats if x < 5]))/ len(stats) * 100)"
   ]
  },
  {
   "cell_type": "markdown",
   "metadata": {},
   "source": [
    "Условия выполняются, критерий применим"
   ]
  },
  {
   "cell_type": "markdown",
   "metadata": {},
   "source": [
    "Посчитаем коэффициент корреляции и оценим его значимость\n",
    "\n",
    "$H_0: \\phi(X_1,X_2) = 0$ - кореляция отсутствует\n",
    "\n",
    "$H_1: \\phi(X_1,X_2)  \\neq 0$ - кореляция присутствует\n"
   ]
  },
  {
   "cell_type": "code",
   "execution_count": 293,
   "metadata": {
    "collapsed": false
   },
   "outputs": [
    {
     "name": "stdout",
     "output_type": "stream",
     "text": [
      "Коэффициент корреляции Крамера равен = 0.0344782036628\n",
      "p-value = 8.82586245758e-08\n"
     ]
    }
   ],
   "source": [
    "print 'Коэффициент корреляции Крамера равен = {0}'.format(np.sqrt(scipy.stats.chi2_contingency(table_mar)[0]/len(credit.MARRIAGE)))\n",
    "print 'p-value =', scipy.stats.chi2_contingency(table_mar)[1]"
   ]
  },
  {
   "cell_type": "markdown",
   "metadata": {},
   "source": [
    "Соответственно, существует слабая положительная связь между семейным статусом невыплатой кредита.\n",
    "Нулевая гипотеза об отсутствии зависимости между семейным статусом и вероятностью возврата кредита не принимается, зависимость есть"
   ]
  },
  {
   "cell_type": "markdown",
   "metadata": {},
   "source": [
    "# Задание # 5"
   ]
  },
  {
   "cell_type": "markdown",
   "metadata": {},
   "source": [
    "### a) проверка гипотезы о равенстве медианных значений возрастов людей в двух группах"
   ]
  },
  {
   "cell_type": "markdown",
   "metadata": {},
   "source": [
    "Посмотрим на гистограммы распределений возраста в двух группах"
   ]
  },
  {
   "cell_type": "code",
   "execution_count": 243,
   "metadata": {
    "collapsed": false,
    "scrolled": true
   },
   "outputs": [
    {
     "data": {
      "image/png": "[encoded data removed]",
      "text/plain": [
       "<matplotlib.figure.Figure at 0x7f07703f2310>"
      ]
     },
     "metadata": {},
     "output_type": "display_data"
    }
   ],
   "source": [
    "pylab.figure(figsize=(12,4))\n",
    "\n",
    "pylab.subplot(1,2,1)\n",
    "pylab.grid()\n",
    "pylab.hist(default.AGE, color = 'g')\n",
    "pylab.xlabel('AGE in  default group')\n",
    "\n",
    "pylab.subplot(1,2,2)\n",
    "pylab.grid()\n",
    "pylab.hist(ndefault.AGE, color = 'b')\n",
    "pylab.xlabel('AGE in  ndefault group')\n",
    "\n",
    "pylab.show()"
   ]
  },
  {
   "cell_type": "code",
   "execution_count": 245,
   "metadata": {
    "collapsed": false,
    "scrolled": true
   },
   "outputs": [
    {
     "data": {
      "image/png": "[encoded data removed]",
      "text/plain": [
       "<matplotlib.figure.Figure at 0x7f07704cce50>"
      ]
     },
     "metadata": {},
     "output_type": "display_data"
    }
   ],
   "source": [
    "plt.boxplot([default.AGE, ndefault.AGE])\n",
    "plt.title(\"Boxplot for age distribution in two groups\")\n",
    "plt.show()"
   ]
  },
  {
   "cell_type": "markdown",
   "metadata": {},
   "source": [
    "Рассчитаем доверительный интервал для разницы медиан возраста в двух выборках на основе бутстрепа.\n",
    "\n",
    "$H_0\\colon$ медианы возраста совпадают в двух группах заемщиков\n",
    "\n",
    "$H_1\\colon$ медианы возраста отличаются в двух группах заемщиков"
   ]
  },
  {
   "cell_type": "code",
   "execution_count": 247,
   "metadata": {
    "collapsed": false
   },
   "outputs": [
    {
     "name": "stdout",
     "output_type": "stream",
     "text": [
      "95% confidence interval for the difference between medians [ 0.  1.]\n"
     ]
    }
   ],
   "source": [
    "default_age = default.AGE.values\n",
    "ndefault_age = ndefault.AGE.values\n",
    "\n",
    "n_samples = 10000\n",
    "\n",
    "np.random.seed(0)\n",
    "\n",
    "default_medians = map(np.median, get_bootstrap_samples(default_age, n_samples))\n",
    "ndefault_medians = map(np.median, get_bootstrap_samples(ndefault_age, n_samples))\n",
    "\n",
    "delta_medians = map(lambda x: x[0]-x[1], zip(default_medians, ndefault_medians))\n",
    "\n",
    "print \"95% confidence interval for the difference between medians\",  stat_intervals(delta_medians, 0.05)"
   ]
  },
  {
   "cell_type": "markdown",
   "metadata": {},
   "source": [
    "### b) проверка гипотезы о равенстве распределений в двух группах"
   ]
  },
  {
   "cell_type": "markdown",
   "metadata": {},
   "source": [
    " Перестановочный критерий\n",
    "\n",
    "$H_0\\colon F_{X_1}(x) = F_{X_2}(x)$ - Распределения равны\n",
    "\n",
    "$H_1\\colon F_{X_1}(x) = F_{X_2}(x + \\Delta), \\Delta\\neq 0$ - Распределения различны"
   ]
  },
  {
   "cell_type": "code",
   "execution_count": 252,
   "metadata": {
    "collapsed": false
   },
   "outputs": [
    {
     "name": "stdout",
     "output_type": "stream",
     "text": [
      "p-value: 0.016200\n"
     ]
    }
   ],
   "source": [
    "print \"p-value: %f\" % permutation_test(default_age, ndefault_age, 10000)"
   ]
  },
  {
   "cell_type": "markdown",
   "metadata": {},
   "source": [
    "Нулевая гипотеза о равенстве распределения на уровне значимость 0,05 не принимается, распределения различны"
   ]
  },
  {
   "cell_type": "markdown",
   "metadata": {},
   "source": [
    "### Значимы ли полученные результаты с практической точки зрения"
   ]
  },
  {
   "cell_type": "markdown",
   "metadata": {},
   "source": [
    "Так как доверительный интервал разности медиан содержит ноль, то мы не можем говорить о различиях в медиане возраста в двух группах, однако сами распределения возрастов различны, что с практической точки зрения значимо, так как с возрастом меняется доход, прочих факторах вероятность возврата выше."
   ]
  }
 ],
 "metadata": {
  "kernelspec": {
   "display_name": "Python 2",
   "language": "python",
   "name": "python2"
  },
  "language_info": {
   "codemirror_mode": {
    "name": "ipython",
    "version": 2
   },
   "file_extension": ".py",
   "mimetype": "text/x-python",
   "name": "python",
   "nbconvert_exporter": "python",
   "pygments_lexer": "ipython2",
   "version": "2.7.11"
  }
 },
 "nbformat": 4,
 "nbformat_minor": 0
}

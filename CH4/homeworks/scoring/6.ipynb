{
 "cells": [
  {
   "cell_type": "code",
   "execution_count": 1,
   "metadata": {
    "collapsed": false
   },
   "outputs": [
    {
     "name": "stdout",
     "output_type": "stream",
     "text": [
      "Populating the interactive namespace from numpy and matplotlib\n"
     ]
    }
   ],
   "source": [
    "import pandas as pd\n",
    "import numpy as np\n",
    "from statsmodels.stats.weightstats import zconfint\n",
    "from scipy import stats\n",
    "import scipy\n",
    "%pylab inline"
   ]
  },
  {
   "cell_type": "code",
   "execution_count": 2,
   "metadata": {
    "collapsed": false
   },
   "outputs": [],
   "source": [
    "data = pd.read_csv(\"./credit_card_default_analysis.csv\")"
   ]
  },
  {
   "cell_type": "code",
   "execution_count": 3,
   "metadata": {
    "collapsed": false
   },
   "outputs": [
    {
     "data": {
      "text/html": [
       "<div>\n",
       "<table border=\"1\" class=\"dataframe\">\n",
       "  <thead>\n",
       "    <tr style=\"text-align: right;\">\n",
       "      <th></th>\n",
       "      <th>ID</th>\n",
       "      <th>LIMIT_BAL</th>\n",
       "      <th>SEX</th>\n",
       "      <th>EDUCATION</th>\n",
       "      <th>MARRIAGE</th>\n",
       "      <th>AGE</th>\n",
       "      <th>PAY_0</th>\n",
       "      <th>PAY_2</th>\n",
       "      <th>PAY_3</th>\n",
       "      <th>PAY_4</th>\n",
       "      <th>...</th>\n",
       "      <th>BILL_AMT4</th>\n",
       "      <th>BILL_AMT5</th>\n",
       "      <th>BILL_AMT6</th>\n",
       "      <th>PAY_AMT1</th>\n",
       "      <th>PAY_AMT2</th>\n",
       "      <th>PAY_AMT3</th>\n",
       "      <th>PAY_AMT4</th>\n",
       "      <th>PAY_AMT5</th>\n",
       "      <th>PAY_AMT6</th>\n",
       "      <th>default</th>\n",
       "    </tr>\n",
       "  </thead>\n",
       "  <tbody>\n",
       "    <tr>\n",
       "      <th>0</th>\n",
       "      <td>1</td>\n",
       "      <td>20000</td>\n",
       "      <td>2</td>\n",
       "      <td>2</td>\n",
       "      <td>1</td>\n",
       "      <td>24</td>\n",
       "      <td>2</td>\n",
       "      <td>2</td>\n",
       "      <td>0</td>\n",
       "      <td>0</td>\n",
       "      <td>...</td>\n",
       "      <td>0</td>\n",
       "      <td>0</td>\n",
       "      <td>0</td>\n",
       "      <td>0</td>\n",
       "      <td>689</td>\n",
       "      <td>0</td>\n",
       "      <td>0</td>\n",
       "      <td>0</td>\n",
       "      <td>0</td>\n",
       "      <td>1</td>\n",
       "    </tr>\n",
       "    <tr>\n",
       "      <th>1</th>\n",
       "      <td>2</td>\n",
       "      <td>120000</td>\n",
       "      <td>2</td>\n",
       "      <td>2</td>\n",
       "      <td>2</td>\n",
       "      <td>26</td>\n",
       "      <td>0</td>\n",
       "      <td>2</td>\n",
       "      <td>0</td>\n",
       "      <td>0</td>\n",
       "      <td>...</td>\n",
       "      <td>3272</td>\n",
       "      <td>3455</td>\n",
       "      <td>3261</td>\n",
       "      <td>0</td>\n",
       "      <td>1000</td>\n",
       "      <td>1000</td>\n",
       "      <td>1000</td>\n",
       "      <td>0</td>\n",
       "      <td>2000</td>\n",
       "      <td>1</td>\n",
       "    </tr>\n",
       "    <tr>\n",
       "      <th>2</th>\n",
       "      <td>3</td>\n",
       "      <td>90000</td>\n",
       "      <td>2</td>\n",
       "      <td>2</td>\n",
       "      <td>2</td>\n",
       "      <td>34</td>\n",
       "      <td>0</td>\n",
       "      <td>0</td>\n",
       "      <td>0</td>\n",
       "      <td>0</td>\n",
       "      <td>...</td>\n",
       "      <td>14331</td>\n",
       "      <td>14948</td>\n",
       "      <td>15549</td>\n",
       "      <td>1518</td>\n",
       "      <td>1500</td>\n",
       "      <td>1000</td>\n",
       "      <td>1000</td>\n",
       "      <td>1000</td>\n",
       "      <td>5000</td>\n",
       "      <td>0</td>\n",
       "    </tr>\n",
       "    <tr>\n",
       "      <th>3</th>\n",
       "      <td>4</td>\n",
       "      <td>50000</td>\n",
       "      <td>2</td>\n",
       "      <td>2</td>\n",
       "      <td>1</td>\n",
       "      <td>37</td>\n",
       "      <td>0</td>\n",
       "      <td>0</td>\n",
       "      <td>0</td>\n",
       "      <td>0</td>\n",
       "      <td>...</td>\n",
       "      <td>28314</td>\n",
       "      <td>28959</td>\n",
       "      <td>29547</td>\n",
       "      <td>2000</td>\n",
       "      <td>2019</td>\n",
       "      <td>1200</td>\n",
       "      <td>1100</td>\n",
       "      <td>1069</td>\n",
       "      <td>1000</td>\n",
       "      <td>0</td>\n",
       "    </tr>\n",
       "    <tr>\n",
       "      <th>4</th>\n",
       "      <td>5</td>\n",
       "      <td>50000</td>\n",
       "      <td>1</td>\n",
       "      <td>2</td>\n",
       "      <td>1</td>\n",
       "      <td>57</td>\n",
       "      <td>0</td>\n",
       "      <td>0</td>\n",
       "      <td>0</td>\n",
       "      <td>0</td>\n",
       "      <td>...</td>\n",
       "      <td>20940</td>\n",
       "      <td>19146</td>\n",
       "      <td>19131</td>\n",
       "      <td>2000</td>\n",
       "      <td>36681</td>\n",
       "      <td>10000</td>\n",
       "      <td>9000</td>\n",
       "      <td>689</td>\n",
       "      <td>679</td>\n",
       "      <td>0</td>\n",
       "    </tr>\n",
       "  </tbody>\n",
       "</table>\n",
       "<p>5 rows × 25 columns</p>\n",
       "</div>"
      ],
      "text/plain": [
       "   ID  LIMIT_BAL  SEX  EDUCATION  MARRIAGE  AGE  PAY_0  PAY_2  PAY_3  PAY_4  \\\n",
       "0   1      20000    2          2         1   24      2      2      0      0   \n",
       "1   2     120000    2          2         2   26      0      2      0      0   \n",
       "2   3      90000    2          2         2   34      0      0      0      0   \n",
       "3   4      50000    2          2         1   37      0      0      0      0   \n",
       "4   5      50000    1          2         1   57      0      0      0      0   \n",
       "\n",
       "    ...     BILL_AMT4  BILL_AMT5  BILL_AMT6  PAY_AMT1  PAY_AMT2  PAY_AMT3  \\\n",
       "0   ...             0          0          0         0       689         0   \n",
       "1   ...          3272       3455       3261         0      1000      1000   \n",
       "2   ...         14331      14948      15549      1518      1500      1000   \n",
       "3   ...         28314      28959      29547      2000      2019      1200   \n",
       "4   ...         20940      19146      19131      2000     36681     10000   \n",
       "\n",
       "   PAY_AMT4  PAY_AMT5  PAY_AMT6  default  \n",
       "0         0         0         0        1  \n",
       "1      1000         0      2000        1  \n",
       "2      1000      1000      5000        0  \n",
       "3      1100      1069      1000        0  \n",
       "4      9000       689       679        0  \n",
       "\n",
       "[5 rows x 25 columns]"
      ]
     },
     "execution_count": 3,
     "metadata": {},
     "output_type": "execute_result"
    }
   ],
   "source": [
    "data.head()"
   ]
  },
  {
   "cell_type": "code",
   "execution_count": 4,
   "metadata": {
    "collapsed": false
   },
   "outputs": [
    {
     "name": "stdout",
     "output_type": "stream",
     "text": [
      "<class 'pandas.core.frame.DataFrame'>\n",
      "RangeIndex: 30000 entries, 0 to 29999\n",
      "Data columns (total 25 columns):\n",
      "ID           30000 non-null int64\n",
      "LIMIT_BAL    30000 non-null int64\n",
      "SEX          30000 non-null int64\n",
      "EDUCATION    30000 non-null int64\n",
      "MARRIAGE     30000 non-null int64\n",
      "AGE          30000 non-null int64\n",
      "PAY_0        30000 non-null int64\n",
      "PAY_2        30000 non-null int64\n",
      "PAY_3        30000 non-null int64\n",
      "PAY_4        30000 non-null int64\n",
      "PAY_5        30000 non-null int64\n",
      "PAY_6        30000 non-null int64\n",
      "BILL_AMT1    30000 non-null int64\n",
      "BILL_AMT2    30000 non-null int64\n",
      "BILL_AMT3    30000 non-null int64\n",
      "BILL_AMT4    30000 non-null int64\n",
      "BILL_AMT5    30000 non-null int64\n",
      "BILL_AMT6    30000 non-null int64\n",
      "PAY_AMT1     30000 non-null int64\n",
      "PAY_AMT2     30000 non-null int64\n",
      "PAY_AMT3     30000 non-null int64\n",
      "PAY_AMT4     30000 non-null int64\n",
      "PAY_AMT5     30000 non-null int64\n",
      "PAY_AMT6     30000 non-null int64\n",
      "default      30000 non-null int64\n",
      "dtypes: int64(25)\n",
      "memory usage: 5.7 MB\n"
     ]
    }
   ],
   "source": [
    "data.info()"
   ]
  },
  {
   "cell_type": "code",
   "execution_count": 5,
   "metadata": {
    "collapsed": false
   },
   "outputs": [
    {
     "data": {
      "image/png": "[encoded data removed]",
      "text/plain": [
       "<matplotlib.figure.Figure at 0x7f09f2355bd0>"
      ]
     },
     "metadata": {},
     "output_type": "display_data"
    }
   ],
   "source": [
    "# Для начала посмотрим на распределения глазами\n",
    "pylab.figure(figsize=(12,4))\n",
    "\n",
    "pylab.subplot(1,2,1)\n",
    "pylab.grid()\n",
    "pylab.hist(data[data.default==0].LIMIT_BAL, color = 'r')\n",
    "pylab.xlabel('default = 0')\n",
    "\n",
    "pylab.subplot(1,2,2)\n",
    "pylab.grid()\n",
    "pylab.hist(data[data.default==1].LIMIT_BAL, color = 'b')\n",
    "pylab.xlabel('default = 1')\n",
    "\n",
    "pylab.show()"
   ]
  },
  {
   "cell_type": "code",
   "execution_count": 6,
   "metadata": {
    "collapsed": true
   },
   "outputs": [],
   "source": [
    "# Заметно, что записей с default=0 больше, чем default=1.\n",
    "# Видно, что распределения отличаются, но сделать выводов о медианах по графикам не представляется возможным"
   ]
  },
  {
   "cell_type": "code",
   "execution_count": 7,
   "metadata": {
    "collapsed": false
   },
   "outputs": [
    {
     "name": "stdout",
     "output_type": "stream",
     "text": [
      "[150000, 150000]\n",
      "[80000, 90000]\n"
     ]
    }
   ],
   "source": [
    "# 1 Размер кредитного лиимита\n",
    "# a) равенство медианных значений кредитного лимита\n",
    "# Гипотеза H0 будет утверждать, что медианы двух выборок совпадают\n",
    "# Гипотеза H1: медианы двух выборок не совпадают\n",
    "# Доверительный интервал для медианы определяется порядковыми статистиками, размеры обеих выборок > 50\n",
    "# Положим alpha = 0.05, тогда k = 1/2(n - 1.96*sqrt(n) - 1)\n",
    "# а медиана x(k) <= m < x(n - k + 1)\n",
    "def calc_k(n):\n",
    "    return 1. / 2 * (n - 1.96*np.sqrt(n) - 1)\n",
    "    \n",
    "def median_confint(col):\n",
    "    n = len(col)\n",
    "    k = int(calc_k(n))\n",
    "    srt = sorted(col)\n",
    "    return [srt[k], srt[n - k + 1]]\n",
    "    \n",
    "print median_confint(data[data.default==0].LIMIT_BAL)\n",
    "print median_confint(data[data.default==1].LIMIT_BAL)"
   ]
  },
  {
   "cell_type": "code",
   "execution_count": 8,
   "metadata": {
    "collapsed": false
   },
   "outputs": [],
   "source": [
    "# Видно, что доверительные интервалы для медиан не пересекаются, следовательно можно отвергнуть нулевую гипотезу"
   ]
  },
  {
   "cell_type": "code",
   "execution_count": 9,
   "metadata": {
    "collapsed": false
   },
   "outputs": [
    {
     "name": "stdout",
     "output_type": "stream",
     "text": [
      "95% confidence interval for default = 0 credit limit: [ 150000.  150000.]\n",
      "95% confidence interval for default = 1 credit limit: [ 80000.  90000.]\n"
     ]
    }
   ],
   "source": [
    "# Можно попробовать посчитать медиану через бутстреп:\n",
    "def get_bootstrap_samples(data, n_samples):\n",
    "    indices = np.random.randint(0, len(data), (n_samples, len(data)))\n",
    "    samples = data[indices]\n",
    "    return samples\n",
    "\n",
    "def stat_intervals(stat, alpha):\n",
    "    boundaries = np.percentile(stat, [100 * alpha / 2., 100 * (1 - alpha / 2.)])\n",
    "    return boundaries\n",
    "\n",
    "def0_scores = map(np.median, get_bootstrap_samples(data[data.default==0].LIMIT_BAL.values, 1000))\n",
    "def1_scores = map(np.median, get_bootstrap_samples(data[data.default==1].LIMIT_BAL.values, 1000))\n",
    "\n",
    "print \"95% confidence interval for default = 0 credit limit:\",  stat_intervals(def0_scores, 0.05)\n",
    "print \"95% confidence interval for default = 1 credit limit:\",  stat_intervals(def1_scores, 0.05)"
   ]
  },
  {
   "cell_type": "code",
   "execution_count": 10,
   "metadata": {
    "collapsed": true
   },
   "outputs": [],
   "source": [
    "# Как видно, результат не изменился, нулевая гипотеза отвергается и при использовании этого способа"
   ]
  },
  {
   "cell_type": "code",
   "execution_count": 11,
   "metadata": {
    "collapsed": false
   },
   "outputs": [
    {
     "data": {
      "text/plain": [
       "MannwhitneyuResult(statistic=95786286.5, pvalue=3.4348973226457305e-189)"
      ]
     },
     "execution_count": 11,
     "metadata": {},
     "output_type": "execute_result"
    }
   ],
   "source": [
    "# b) равенство распределений\n",
    "# Выборки независимы, будем использовать ранговый критерий Манна-Уитни \n",
    "# X — выборка data[data.default==0].LIMIT_BAL\n",
    "# Y — выборка data[data.default==1].LIMIT_BAL\n",
    "# H0 — P(X>Y) = 1/2\n",
    "# H1 — P(X>Y) != 1/2\n",
    "# alpha — 0.05\n",
    "\n",
    "stats.mannwhitneyu(data[data.default==0].LIMIT_BAL, data[data.default==1].LIMIT_BAL)"
   ]
  },
  {
   "cell_type": "code",
   "execution_count": 12,
   "metadata": {
    "collapsed": true
   },
   "outputs": [],
   "source": [
    "# уровень значимости существенно меньше 0.05, что позволяет нам отвергнуть нулевую гипотезу о том, что средние двух выборок равны\n",
    "# Мы видим, что кредитный лимит людей, не вернувших денежные средства, существенно меньше (более чем в полтора раза),\n",
    "# чем кредитный лимит людей, возвратившых средства. На мой взгляд это имеет практическую значимость."
   ]
  },
  {
   "cell_type": "code",
   "execution_count": 13,
   "metadata": {
    "collapsed": true
   },
   "outputs": [],
   "source": [
    "# 2 Пол (SEX): Проверьте гипотезу о том, что гендерный состав группы людей вернувших и не вернувших кредит отличается.\n",
    "# Хорошо, если вы предоставите несколько различных решений этой задачи (с помощью доверительного интервала и подходящего статистического критерия)"
   ]
  },
  {
   "cell_type": "code",
   "execution_count": 14,
   "metadata": {
    "collapsed": false
   },
   "outputs": [
    {
     "data": {
      "image/png": "[encoded data removed]",
      "text/plain": [
       "<matplotlib.figure.Figure at 0x7f09f1c82c90>"
      ]
     },
     "metadata": {},
     "output_type": "display_data"
    }
   ],
   "source": [
    "pylab.figure(figsize=(12,4))\n",
    "\n",
    "pylab.subplot(1,2,1)\n",
    "pylab.grid()\n",
    "pylab.hist(data[data.default==0].SEX)\n",
    "pylab.xlabel('default = 0')\n",
    "\n",
    "pylab.subplot(1,2,2)\n",
    "pylab.grid()\n",
    "pylab.hist(data[data.default==1].SEX)\n",
    "pylab.xlabel('default = 1')\n",
    "\n",
    "pylab.show()"
   ]
  },
  {
   "cell_type": "code",
   "execution_count": 15,
   "metadata": {
    "collapsed": true
   },
   "outputs": [],
   "source": [
    "# На первый взгяд кажется, что среди людей, вернувших кредит, доля женщин больше, чем в группе людей кредит не вернувших."
   ]
  },
  {
   "cell_type": "code",
   "execution_count": 16,
   "metadata": {
    "collapsed": true
   },
   "outputs": [],
   "source": [
    "# X — доля женщин в выборке default=0\n",
    "# Y — доля женщин в выборке default=1\n",
    "# Гипотеза H0: X = Y\n",
    "# Гипотеза H1: X != Y\n",
    "\n",
    "# Для начала примений Z-критерий для разности долей двух независимых выборок\n",
    "def proportions_diff_z_stat_ind(sample1, sample2):\n",
    "    n1 = len(sample1)\n",
    "    n2 = len(sample2)\n",
    "    \n",
    "    p1 = float(sum(sample1)) / n1\n",
    "    p2 = float(sum(sample2)) / n2 \n",
    "    P = float(p1*n1 + p2*n2) / (n1 + n2)\n",
    "    \n",
    "    return (p1 - p2) / np.sqrt(P * (1 - P) * (1. / n1 + 1. / n2))\n",
    "\n",
    "def proportions_diff_z_test(z_stat, alternative = 'two-sided'):\n",
    "    if alternative not in ('two-sided', 'less', 'greater'):\n",
    "        raise ValueError(\"alternative not recognized\\n\"\n",
    "                         \"should be 'two-sided', 'less' or 'greater'\")\n",
    "    \n",
    "    if alternative == 'two-sided':\n",
    "        return 2 * (1 - scipy.stats.norm.cdf(np.abs(z_stat)))\n",
    "    \n",
    "    if alternative == 'less':\n",
    "        return scipy.stats.norm.cdf(z_stat)\n",
    "\n",
    "    if alternative == 'greater':\n",
    "        return 1 - scipy.stats.norm.cdf(z_stat)"
   ]
  },
  {
   "cell_type": "code",
   "execution_count": 17,
   "metadata": {
    "collapsed": false
   },
   "outputs": [
    {
     "name": "stdout",
     "output_type": "stream",
     "text": [
      "4.47286652161e-12\n"
     ]
    }
   ],
   "source": [
    "p = proportions_diff_z_test(proportions_diff_z_stat_ind(data[data.default==0].SEX - 1, data[data.default==1].SEX - 1))\n",
    "print p"
   ]
  },
  {
   "cell_type": "code",
   "execution_count": 18,
   "metadata": {
    "collapsed": true
   },
   "outputs": [],
   "source": [
    "# при alpha=0.05 нулевая гипотеза о равенстве долей женщин в двух выборок может быть отвергнута"
   ]
  },
  {
   "cell_type": "code",
   "execution_count": 19,
   "metadata": {
    "collapsed": true
   },
   "outputs": [],
   "source": [
    "# теперь протестируем те же гипотезы с помощью интервальной оценки\n",
    "def proportions_diff_confint_ind(sample1, sample2, alpha = 0.05):    \n",
    "    z = scipy.stats.norm.ppf(1 - alpha / 2.)\n",
    "    \n",
    "    p1 = float(sum(sample1)) / len(sample1)\n",
    "    p2 = float(sum(sample2)) / len(sample2)\n",
    "    \n",
    "    left_boundary = (p1 - p2) - z * np.sqrt(p1 * (1 - p1)/ len(sample1) + p2 * (1 - p2)/ len(sample2))\n",
    "    right_boundary = (p1 - p2) + z * np.sqrt(p1 * (1 - p1)/ len(sample1) + p2 * (1 - p2)/ len(sample2))\n",
    "    \n",
    "    return (left_boundary, right_boundary)"
   ]
  },
  {
   "cell_type": "code",
   "execution_count": 20,
   "metadata": {
    "collapsed": false
   },
   "outputs": [
    {
     "data": {
      "text/plain": [
       "(0.033634932749628671, 0.060548077974896725)"
      ]
     },
     "execution_count": 20,
     "metadata": {},
     "output_type": "execute_result"
    }
   ],
   "source": [
    "proportions_diff_confint_ind(data[data.default==0].SEX - 1, data[data.default==1].SEX - 1)"
   ]
  },
  {
   "cell_type": "code",
   "execution_count": 21,
   "metadata": {
    "collapsed": false
   },
   "outputs": [
    {
     "data": {
      "text/plain": [
       "-0.0470915053622627"
      ]
     },
     "execution_count": 21,
     "metadata": {},
     "output_type": "execute_result"
    }
   ],
   "source": [
    "s1 = data[data.default==0].SEX - 1\n",
    "s2 = data[data.default==1].SEX - 1\n",
    "float(sum(s2)) / len(s2) - float(sum(s1)) / len(s1)\n",
    "# как мы видим, 0 не входит в доверительный интервал, а значит мы можем отвергнуть нулевую гипотезу с уровнем значимости 0.05\n",
    "# данный результат имеют практическую значимость, которая заключается в том,\n",
    "# что женщины более склонны к выполнению своих обязательств — почти на 5%"
   ]
  },
  {
   "cell_type": "code",
   "execution_count": 22,
   "metadata": {
    "collapsed": false
   },
   "outputs": [
    {
     "data": {
      "text/plain": [
       "array([2, 1, 3, 5, 4, 6, 0])"
      ]
     },
     "execution_count": 22,
     "metadata": {},
     "output_type": "execute_result"
    }
   ],
   "source": [
    "# 3. Проверьте гипотезу о том, что образование не влияет на то, вернет ли человек долг.\n",
    "data.EDUCATION.unique()"
   ]
  },
  {
   "cell_type": "code",
   "execution_count": 23,
   "metadata": {
    "collapsed": false
   },
   "outputs": [
    {
     "data": {
      "text/html": [
       "<div>\n",
       "<table border=\"1\" class=\"dataframe\">\n",
       "  <thead>\n",
       "    <tr style=\"text-align: right;\">\n",
       "      <th></th>\n",
       "      <th>ID</th>\n",
       "      <th>LIMIT_BAL</th>\n",
       "      <th>SEX</th>\n",
       "      <th>MARRIAGE</th>\n",
       "      <th>AGE</th>\n",
       "      <th>PAY_0</th>\n",
       "      <th>PAY_2</th>\n",
       "      <th>PAY_3</th>\n",
       "      <th>PAY_4</th>\n",
       "      <th>PAY_5</th>\n",
       "      <th>...</th>\n",
       "      <th>BILL_AMT4</th>\n",
       "      <th>BILL_AMT5</th>\n",
       "      <th>BILL_AMT6</th>\n",
       "      <th>PAY_AMT1</th>\n",
       "      <th>PAY_AMT2</th>\n",
       "      <th>PAY_AMT3</th>\n",
       "      <th>PAY_AMT4</th>\n",
       "      <th>PAY_AMT5</th>\n",
       "      <th>PAY_AMT6</th>\n",
       "      <th>default</th>\n",
       "    </tr>\n",
       "    <tr>\n",
       "      <th>EDUCATION</th>\n",
       "      <th></th>\n",
       "      <th></th>\n",
       "      <th></th>\n",
       "      <th></th>\n",
       "      <th></th>\n",
       "      <th></th>\n",
       "      <th></th>\n",
       "      <th></th>\n",
       "      <th></th>\n",
       "      <th></th>\n",
       "      <th></th>\n",
       "      <th></th>\n",
       "      <th></th>\n",
       "      <th></th>\n",
       "      <th></th>\n",
       "      <th></th>\n",
       "      <th></th>\n",
       "      <th></th>\n",
       "      <th></th>\n",
       "      <th></th>\n",
       "      <th></th>\n",
       "    </tr>\n",
       "  </thead>\n",
       "  <tbody>\n",
       "    <tr>\n",
       "      <th>0</th>\n",
       "      <td>14</td>\n",
       "      <td>14</td>\n",
       "      <td>14</td>\n",
       "      <td>14</td>\n",
       "      <td>14</td>\n",
       "      <td>14</td>\n",
       "      <td>14</td>\n",
       "      <td>14</td>\n",
       "      <td>14</td>\n",
       "      <td>14</td>\n",
       "      <td>...</td>\n",
       "      <td>14</td>\n",
       "      <td>14</td>\n",
       "      <td>14</td>\n",
       "      <td>14</td>\n",
       "      <td>14</td>\n",
       "      <td>14</td>\n",
       "      <td>14</td>\n",
       "      <td>14</td>\n",
       "      <td>14</td>\n",
       "      <td>14</td>\n",
       "    </tr>\n",
       "    <tr>\n",
       "      <th>1</th>\n",
       "      <td>8549</td>\n",
       "      <td>8549</td>\n",
       "      <td>8549</td>\n",
       "      <td>8549</td>\n",
       "      <td>8549</td>\n",
       "      <td>8549</td>\n",
       "      <td>8549</td>\n",
       "      <td>8549</td>\n",
       "      <td>8549</td>\n",
       "      <td>8549</td>\n",
       "      <td>...</td>\n",
       "      <td>8549</td>\n",
       "      <td>8549</td>\n",
       "      <td>8549</td>\n",
       "      <td>8549</td>\n",
       "      <td>8549</td>\n",
       "      <td>8549</td>\n",
       "      <td>8549</td>\n",
       "      <td>8549</td>\n",
       "      <td>8549</td>\n",
       "      <td>8549</td>\n",
       "    </tr>\n",
       "    <tr>\n",
       "      <th>2</th>\n",
       "      <td>10700</td>\n",
       "      <td>10700</td>\n",
       "      <td>10700</td>\n",
       "      <td>10700</td>\n",
       "      <td>10700</td>\n",
       "      <td>10700</td>\n",
       "      <td>10700</td>\n",
       "      <td>10700</td>\n",
       "      <td>10700</td>\n",
       "      <td>10700</td>\n",
       "      <td>...</td>\n",
       "      <td>10700</td>\n",
       "      <td>10700</td>\n",
       "      <td>10700</td>\n",
       "      <td>10700</td>\n",
       "      <td>10700</td>\n",
       "      <td>10700</td>\n",
       "      <td>10700</td>\n",
       "      <td>10700</td>\n",
       "      <td>10700</td>\n",
       "      <td>10700</td>\n",
       "    </tr>\n",
       "    <tr>\n",
       "      <th>3</th>\n",
       "      <td>3680</td>\n",
       "      <td>3680</td>\n",
       "      <td>3680</td>\n",
       "      <td>3680</td>\n",
       "      <td>3680</td>\n",
       "      <td>3680</td>\n",
       "      <td>3680</td>\n",
       "      <td>3680</td>\n",
       "      <td>3680</td>\n",
       "      <td>3680</td>\n",
       "      <td>...</td>\n",
       "      <td>3680</td>\n",
       "      <td>3680</td>\n",
       "      <td>3680</td>\n",
       "      <td>3680</td>\n",
       "      <td>3680</td>\n",
       "      <td>3680</td>\n",
       "      <td>3680</td>\n",
       "      <td>3680</td>\n",
       "      <td>3680</td>\n",
       "      <td>3680</td>\n",
       "    </tr>\n",
       "    <tr>\n",
       "      <th>4</th>\n",
       "      <td>116</td>\n",
       "      <td>116</td>\n",
       "      <td>116</td>\n",
       "      <td>116</td>\n",
       "      <td>116</td>\n",
       "      <td>116</td>\n",
       "      <td>116</td>\n",
       "      <td>116</td>\n",
       "      <td>116</td>\n",
       "      <td>116</td>\n",
       "      <td>...</td>\n",
       "      <td>116</td>\n",
       "      <td>116</td>\n",
       "      <td>116</td>\n",
       "      <td>116</td>\n",
       "      <td>116</td>\n",
       "      <td>116</td>\n",
       "      <td>116</td>\n",
       "      <td>116</td>\n",
       "      <td>116</td>\n",
       "      <td>116</td>\n",
       "    </tr>\n",
       "    <tr>\n",
       "      <th>5</th>\n",
       "      <td>262</td>\n",
       "      <td>262</td>\n",
       "      <td>262</td>\n",
       "      <td>262</td>\n",
       "      <td>262</td>\n",
       "      <td>262</td>\n",
       "      <td>262</td>\n",
       "      <td>262</td>\n",
       "      <td>262</td>\n",
       "      <td>262</td>\n",
       "      <td>...</td>\n",
       "      <td>262</td>\n",
       "      <td>262</td>\n",
       "      <td>262</td>\n",
       "      <td>262</td>\n",
       "      <td>262</td>\n",
       "      <td>262</td>\n",
       "      <td>262</td>\n",
       "      <td>262</td>\n",
       "      <td>262</td>\n",
       "      <td>262</td>\n",
       "    </tr>\n",
       "    <tr>\n",
       "      <th>6</th>\n",
       "      <td>43</td>\n",
       "      <td>43</td>\n",
       "      <td>43</td>\n",
       "      <td>43</td>\n",
       "      <td>43</td>\n",
       "      <td>43</td>\n",
       "      <td>43</td>\n",
       "      <td>43</td>\n",
       "      <td>43</td>\n",
       "      <td>43</td>\n",
       "      <td>...</td>\n",
       "      <td>43</td>\n",
       "      <td>43</td>\n",
       "      <td>43</td>\n",
       "      <td>43</td>\n",
       "      <td>43</td>\n",
       "      <td>43</td>\n",
       "      <td>43</td>\n",
       "      <td>43</td>\n",
       "      <td>43</td>\n",
       "      <td>43</td>\n",
       "    </tr>\n",
       "  </tbody>\n",
       "</table>\n",
       "<p>7 rows × 24 columns</p>\n",
       "</div>"
      ],
      "text/plain": [
       "              ID  LIMIT_BAL    SEX  MARRIAGE    AGE  PAY_0  PAY_2  PAY_3  \\\n",
       "EDUCATION                                                                  \n",
       "0             14         14     14        14     14     14     14     14   \n",
       "1           8549       8549   8549      8549   8549   8549   8549   8549   \n",
       "2          10700      10700  10700     10700  10700  10700  10700  10700   \n",
       "3           3680       3680   3680      3680   3680   3680   3680   3680   \n",
       "4            116        116    116       116    116    116    116    116   \n",
       "5            262        262    262       262    262    262    262    262   \n",
       "6             43         43     43        43     43     43     43     43   \n",
       "\n",
       "           PAY_4  PAY_5   ...     BILL_AMT4  BILL_AMT5  BILL_AMT6  PAY_AMT1  \\\n",
       "EDUCATION                 ...                                                 \n",
       "0             14     14   ...            14         14         14        14   \n",
       "1           8549   8549   ...          8549       8549       8549      8549   \n",
       "2          10700  10700   ...         10700      10700      10700     10700   \n",
       "3           3680   3680   ...          3680       3680       3680      3680   \n",
       "4            116    116   ...           116        116        116       116   \n",
       "5            262    262   ...           262        262        262       262   \n",
       "6             43     43   ...            43         43         43        43   \n",
       "\n",
       "           PAY_AMT2  PAY_AMT3  PAY_AMT4  PAY_AMT5  PAY_AMT6  default  \n",
       "EDUCATION                                                             \n",
       "0                14        14        14        14        14       14  \n",
       "1              8549      8549      8549      8549      8549     8549  \n",
       "2             10700     10700     10700     10700     10700    10700  \n",
       "3              3680      3680      3680      3680      3680     3680  \n",
       "4               116       116       116       116       116      116  \n",
       "5               262       262       262       262       262      262  \n",
       "6                43        43        43        43        43       43  \n",
       "\n",
       "[7 rows x 24 columns]"
      ]
     },
     "execution_count": 23,
     "metadata": {},
     "output_type": "execute_result"
    }
   ],
   "source": [
    "data[data.default==0].groupby(by='EDUCATION').count()"
   ]
  },
  {
   "cell_type": "code",
   "execution_count": 24,
   "metadata": {
    "collapsed": false
   },
   "outputs": [
    {
     "data": {
      "text/plain": [
       "<matplotlib.figure.Figure at 0x7f0a34056a10>"
      ]
     },
     "metadata": {},
     "output_type": "display_data"
    },
    {
     "data": {
      "image/png": "[encoded data removed]",
      "text/plain": [
       "<matplotlib.figure.Figure at 0x7f09f1b72410>"
      ]
     },
     "metadata": {},
     "output_type": "display_data"
    }
   ],
   "source": [
    "# построим график в логарифмическом масштабе, чтобы были лучше видны различия при разных уровнях образования\n",
    "pylab.figure(figsize=(12,4))\n",
    "eds = sorted(data.EDUCATION.unique())\n",
    "width=0.35\n",
    "fig, ax = pylab.subplots()\n",
    "\n",
    "ret = map(lambda x: log(x), data[data.default==0].groupby(by='EDUCATION').count().ID.tolist())\n",
    "noret = map(lambda x: log(x), data[data.default==1].groupby(by='EDUCATION').count().ID.tolist())\n",
    "noret.insert(0, 0)\n",
    "\n",
    "rects1 = ax.bar(eds, ret, width, color='b')\n",
    "rects2 = ax.bar(np.array(eds) + width, noret, width, color='r')\n",
    "\n",
    "ax.legend((rects1[0], rects2[0]), ('default=0', 'default=1'))\n",
    "\n",
    "pylab.show()"
   ]
  },
  {
   "cell_type": "code",
   "execution_count": 25,
   "metadata": {
    "collapsed": true
   },
   "outputs": [],
   "source": [
    "# по графику видно, что самая малочисленная группа — доктора (0) — всегда возвращает кредиты\n",
    "# в группе \"нет данных\" (6) доля невозвратов заметно выше по сравнению с другими группами"
   ]
  },
  {
   "cell_type": "code",
   "execution_count": 26,
   "metadata": {
    "collapsed": false
   },
   "outputs": [
    {
     "data": {
      "text/plain": [
       "0.0"
      ]
     },
     "execution_count": 26,
     "metadata": {},
     "output_type": "execute_result"
    }
   ],
   "source": [
    "# Проверим, влияет ли уровень образования на то, вернет ли человек долг\n",
    "# expected_frequences — распределение уровня образования людей, вернувших долг\n",
    "# observed_frequences — распределение уровня образования людей, невернувших долг\n",
    "# гипотеза H0 — распределения observed_frequences имеет то же распределение, что и expected_frequences, то есть образование не влияет на то, вернет ли человек долг\n",
    "# гипотеза H0 — распределения expected_frequences и observed_frequences различны, т.е. образование влияет на то, вернет ли человек долг\n",
    "expected_frequences = map(lambda x: x, data[data.default==0].groupby(by='EDUCATION').count().ID.tolist())\n",
    "observed_frequences = map(lambda x: x, data[data.default==1].groupby(by='EDUCATION').count().ID.tolist())\n",
    "observed_frequences.insert(0, 0)\n",
    "stats.chisquare(observed_frequences, expected_frequences).pvalue"
   ]
  },
  {
   "cell_type": "code",
   "execution_count": 27,
   "metadata": {
    "collapsed": true
   },
   "outputs": [],
   "source": [
    "# p-value равно нуля, значит можно отвергнуть нулевую гипотезу"
   ]
  },
  {
   "cell_type": "code",
   "execution_count": 28,
   "metadata": {
    "collapsed": false
   },
   "outputs": [
    {
     "data": {
      "text/plain": [
       "array([1, 2, 3, 0])"
      ]
     },
     "execution_count": 28,
     "metadata": {},
     "output_type": "execute_result"
    }
   ],
   "source": [
    "# 4. Проверьте, как связан семейный статус с индикатором дефолта\n",
    "data.MARRIAGE.unique()"
   ]
  },
  {
   "cell_type": "code",
   "execution_count": 29,
   "metadata": {
    "collapsed": false
   },
   "outputs": [
    {
     "data": {
      "text/plain": [
       "<matplotlib.figure.Figure at 0x7f09f1b06d10>"
      ]
     },
     "metadata": {},
     "output_type": "display_data"
    },
    {
     "data": {
      "image/png": "[encoded data removed]",
      "text/plain": [
       "<matplotlib.figure.Figure at 0x7f09f1952ad0>"
      ]
     },
     "metadata": {},
     "output_type": "display_data"
    }
   ],
   "source": [
    "pylab.figure(figsize=(12,4))\n",
    "eds = sorted(data.MARRIAGE.unique())\n",
    "width=0.35\n",
    "fig, ax = pylab.subplots()\n",
    "\n",
    "ret = map(lambda x: log(x), data[data.default==0].groupby(by='MARRIAGE').count().ID.tolist())\n",
    "noret = map(lambda x: log(x), data[data.default==1].groupby(by='MARRIAGE').count().ID.tolist())\n",
    "#noret.insert(0, 0)\n",
    "\n",
    "rects1 = ax.bar(eds, ret, width, color='b')\n",
    "rects2 = ax.bar(np.array(eds) + width, noret, width, color='r')\n",
    "\n",
    "ax.legend((rects1[0], rects2[0]), ('default=0', 'default=1'))\n",
    "\n",
    "pylab.show()"
   ]
  },
  {
   "cell_type": "code",
   "execution_count": 30,
   "metadata": {
    "collapsed": false
   },
   "outputs": [
    {
     "data": {
      "text/plain": [
       "0.022665748122541407"
      ]
     },
     "execution_count": 30,
     "metadata": {},
     "output_type": "execute_result"
    }
   ],
   "source": [
    "# по графику можно наблюдать, что доля возвратов кредитов заметно выше в группе, где люди отказались отвечать вопрос о семейном статусе.\n",
    "# В остальных группах доля возвратов ниже и примерно одинакова между группами\n",
    "# На мой взгляд, здесь можно использовать бинарное кодирование:\n",
    "# 1 будет соответствовать ответу либо отсутствию данных о семейном положении:\n",
    "# 0 — отказу в ответе на этот вопрос\n",
    "# Проверим, будет ли значимо различие долей при таком кодировании.\n",
    "# Гипотеза H0 — доля возвратов кредитов одинакова для людей, ответивших/не опрошеных о семейном статусе и людях, отказавшихся отвечать\n",
    "# Гипотеза H1 — доля возврата кредитов в этих двух выборках различается\n",
    "# alpha = 0.05\n",
    "s1 = data[data.MARRIAGE==0].default\n",
    "s2 = data[data.MARRIAGE!=0].default\n",
    "proportions_diff_z_test(proportions_diff_z_stat_ind(s1, s2), 'two-sided')"
   ]
  },
  {
   "cell_type": "code",
   "execution_count": 31,
   "metadata": {
    "collapsed": true
   },
   "outputs": [],
   "source": [
    "# На уровне значимости 0.05 нулевую гипотезу можно отвергнуть"
   ]
  },
  {
   "cell_type": "code",
   "execution_count": 32,
   "metadata": {
    "collapsed": false
   },
   "outputs": [
    {
     "name": "stdout",
     "output_type": "stream",
     "text": [
      "95% confidence interval for default = 0 age: [ 34.  34.]\n",
      "95% confidence interval for default = 1 age: [ 34.  35.]\n"
     ]
    }
   ],
   "source": [
    "# 5. a) Гипотеза о равенстве медианных значений возрастов людей пернувших и не вернувших кредит\n",
    "# H0 медианные значения двух групп равны\n",
    "# H1 медианные значения двух групп различаются\n",
    "def0_scores = map(np.median, get_bootstrap_samples(data[data.default==0].AGE.values, 1000))\n",
    "def1_scores = map(np.median, get_bootstrap_samples(data[data.default==1].AGE.values, 1000))\n",
    "\n",
    "print \"95% confidence interval for default = 0 age:\",  stat_intervals(def0_scores, 0.05)\n",
    "print \"95% confidence interval for default = 1 age:\",  stat_intervals(def1_scores, 0.05)"
   ]
  },
  {
   "cell_type": "code",
   "execution_count": 33,
   "metadata": {
    "collapsed": true
   },
   "outputs": [],
   "source": [
    "# доверительные интервалы с уровнем значимости 0.05 пересекаются, что означает что нулевая гипотеза не может быть отвергнута"
   ]
  },
  {
   "cell_type": "code",
   "execution_count": 34,
   "metadata": {
    "collapsed": false
   },
   "outputs": [
    {
     "data": {
      "text/plain": [
       "MannwhitneyuResult(statistic=76966879.5, pvalue=0.37276989592390031)"
      ]
     },
     "execution_count": 34,
     "metadata": {},
     "output_type": "execute_result"
    }
   ],
   "source": [
    "# b) гипотеза о равенстве распределений \n",
    "# гипотеза H0 — средние распределений возраста людей вернувших и не вернувших кредиты равны\n",
    "# гипотеза H1 — средние распределений этих двух групп не равны\n",
    "# alpha = 0.05\n",
    "stats.mannwhitneyu(data[data.default==0].AGE, data[data.default==1].AGE)"
   ]
  },
  {
   "cell_type": "code",
   "execution_count": 35,
   "metadata": {
    "collapsed": true
   },
   "outputs": [],
   "source": [
    "# достигаемых уровень значимости больше 0.05, нулевая гипотеза не может быть отвергнута\n",
    "# на практике это означает, что признак возраста может быть исключен из модели кредитного скоринга для этого набора данных"
   ]
  },
  {
   "cell_type": "code",
   "execution_count": 36,
   "metadata": {
    "collapsed": false
   },
   "outputs": [
    {
     "data": {
      "image/png": "[encoded data removed]",
      "text/plain": [
       "<matplotlib.figure.Figure at 0x7f09f1a25cd0>"
      ]
     },
     "metadata": {},
     "output_type": "display_data"
    }
   ],
   "source": [
    "pylab.figure(figsize=(12,4))\n",
    "\n",
    "pylab.subplot(1,2,1)\n",
    "pylab.grid()\n",
    "pylab.hist(data[data.default==0].AGE, color = 'r')\n",
    "pylab.xlabel('default = 0')\n",
    "\n",
    "pylab.subplot(1,2,2)\n",
    "pylab.grid()\n",
    "pylab.hist(data[data.default==1].AGE, color = 'b')\n",
    "pylab.xlabel('default = 1')\n",
    "\n",
    "pylab.show()"
   ]
  },
  {
   "cell_type": "code",
   "execution_count": null,
   "metadata": {
    "collapsed": true
   },
   "outputs": [],
   "source": []
  }
 ],
 "metadata": {
  "kernelspec": {
   "display_name": "Python 2",
   "language": "python",
   "name": "python2"
  },
  "language_info": {
   "codemirror_mode": {
    "name": "ipython",
    "version": 2
   },
   "file_extension": ".py",
   "mimetype": "text/x-python",
   "name": "python",
   "nbconvert_exporter": "python",
   "pygments_lexer": "ipython2",
   "version": "2.7.11"
  }
 },
 "nbformat": 4,
 "nbformat_minor": 0
}

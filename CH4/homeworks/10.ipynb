{
 "cells": [
  {
   "cell_type": "markdown",
   "metadata": {},
   "source": [
    "Основные библиотеки и используемые методы:\n",
    "Библиотека scipy и основные статистические функции:http://docs.scipy.org/doc/scipy/reference/stats.html#statistical-functions\n",
    "Библиотека statmodels для методов коррекции при множественном сравнении:\n",
    "http://statsmodels.sourceforge.net/devel/stats.html\n",
    "Статья, в которой рассматриваются примеры использования statsmodels для множественной проверки гипотез:\n",
    "http://jpktd.blogspot.ru/2013/04/multiple-testing-p-value-corrections-in.html\n",
    "Описание используемых данных\n",
    "Данные для этой задачи взяты из исследования, проведенного в Stanford School of Medicine. В исследовании была предпринята попытка выявить набор генов, которые позволили бы более точно диагностировать возникновение рака груди на самых ранних стадиях.\n",
    "В эксперименте принимали участие 24 человек, у которых не было рака груди (normal), 25 человек, у которых это заболевание было диагностировано на ранней стадии (early neoplasia), и 23 человека с сильно выраженными симптомами (cancer).\n",
    "Ученые провели секвенирование биологического материала испытуемых, чтобы понять, какие из этих генов наиболее активны в клетках больных людей.\n",
    "Секвенирование — это определение степени активности генов в анализируемом образце с помощью подсчёта количества соответствующей каждому гену РНК.\n",
    "В данных для этого задания вы найдете именно эту количественную меру активности каждого из 15748 генов у каждого из 72 человек, принимавших участие в эксперименте.\n",
    "Вам нужно будет определить те гены, активность которых у людей в разных стадиях заболевания отличается статистически значимо.\n",
    "Кроме того, вам нужно будет оценить не только статистическую, но и практическую значимость этих результатов, которая часто используется в подобных исследованиях.\n",
    "Диагноз человека содержится в столбце под названием \"Diagnosis\".\n",
    "Практическая значимость изменения\n",
    "Цель исследований — найти гены, средняя экспрессия которых отличается не только статистически значимо, но и достаточно сильно. В экспрессионных исследованиях для этого часто используется метрика, которая называется fold change (кратность изменения). Определяется она следующим образом:\n",
    "Fc(C,T)=TC,T>C−CT,T<C\n",
    "где C,T — средние значения экспрессии гена в control и treatment группах соответственно. По сути, fold change показывает, во сколько раз отличаются средние двух выборок.\n",
    "Инструкции к решению задачи\n",
    "Задание состоит из трёх частей. Если не сказано обратное, то уровень значимости нужно принять равным 0.05.\n"
   ]
  },
  {
   "cell_type": "code",
   "execution_count": 72,
   "metadata": {
    "collapsed": false
   },
   "outputs": [],
   "source": [
    "import pandas as pd\n",
    "import numpy as np\n",
    "from scipy import stats\n",
    "import matplotlib.pyplot as plt\n",
    "from statsmodels.stats.weightstats import *\n",
    "from statsmodels.stats.proportion import proportion_confint\n",
    "from statsmodels.sandbox.stats.multicomp import multipletests "
   ]
  },
  {
   "cell_type": "code",
   "execution_count": 73,
   "metadata": {
    "collapsed": false
   },
   "outputs": [
    {
     "name": "stdout",
     "output_type": "stream",
     "text": [
      "11.ipynb        banknotes.txt                        hw4.ipynb\r\n",
      "12.ipynb        botswana.tsv                         hw5.ipynb\r\n",
      "answer_1_1.txt  challenger.txt                       hw6.ipynb\r\n",
      "answer_1_2.txt  churn_analysis.csv                   hw7.ipynb\r\n",
      "answer_1.txt    churn_analysis.csv~                  hw8.ipynb\r\n",
      "answer_2_1.txt  diamonds.txt                         hw9.ipynb\r\n",
      "answer_2_2.txt  gene_high_throughput_sequencing.csv  illiteracy.txt\r\n",
      "answer_3_1.txt  hw10.ipynb                           pines.txt\r\n",
      "answer_3_2.txt  hw1.ipynb                            Untitled.ipynb\r\n",
      "AUCs.txt        hw2.ipynb                            water.txt\r\n"
     ]
    }
   ],
   "source": [
    "%ls"
   ]
  },
  {
   "cell_type": "code",
   "execution_count": 74,
   "metadata": {
    "collapsed": true
   },
   "outputs": [],
   "source": [
    "data = pd.read_csv('gene_high_throughput_sequencing.csv', sep = ',', header = 0)"
   ]
  },
  {
   "cell_type": "code",
   "execution_count": 75,
   "metadata": {
    "collapsed": false
   },
   "outputs": [
    {
     "data": {
      "text/html": [
       "<div>\n",
       "<table border=\"1\" class=\"dataframe\">\n",
       "  <thead>\n",
       "    <tr style=\"text-align: right;\">\n",
       "      <th></th>\n",
       "      <th>Patient_id</th>\n",
       "      <th>Diagnosis</th>\n",
       "      <th>LOC643837</th>\n",
       "      <th>LOC100130417</th>\n",
       "      <th>SAMD11</th>\n",
       "      <th>NOC2L</th>\n",
       "      <th>KLHL17</th>\n",
       "      <th>PLEKHN1</th>\n",
       "      <th>C1orf170</th>\n",
       "      <th>HES4</th>\n",
       "      <th>...</th>\n",
       "      <th>CLIC2</th>\n",
       "      <th>RPS4Y1</th>\n",
       "      <th>ZFY</th>\n",
       "      <th>PRKY</th>\n",
       "      <th>USP9Y</th>\n",
       "      <th>DDX3Y</th>\n",
       "      <th>CD24</th>\n",
       "      <th>CYorf15B</th>\n",
       "      <th>KDM5D</th>\n",
       "      <th>EIF1AY</th>\n",
       "    </tr>\n",
       "  </thead>\n",
       "  <tbody>\n",
       "    <tr>\n",
       "      <th>0</th>\n",
       "      <td>STT5425_Breast_001_normal</td>\n",
       "      <td>normal</td>\n",
       "      <td>1.257614</td>\n",
       "      <td>2.408148</td>\n",
       "      <td>13.368622</td>\n",
       "      <td>9.494779</td>\n",
       "      <td>20.880435</td>\n",
       "      <td>12.722017</td>\n",
       "      <td>9.494779</td>\n",
       "      <td>54.349694</td>\n",
       "      <td>...</td>\n",
       "      <td>4.761250</td>\n",
       "      <td>1.257614</td>\n",
       "      <td>1.257614</td>\n",
       "      <td>1.257614</td>\n",
       "      <td>1.257614</td>\n",
       "      <td>1.257614</td>\n",
       "      <td>23.268694</td>\n",
       "      <td>1.257614</td>\n",
       "      <td>1.257614</td>\n",
       "      <td>1.257614</td>\n",
       "    </tr>\n",
       "    <tr>\n",
       "      <th>1</th>\n",
       "      <td>STT5427_Breast_023_normal</td>\n",
       "      <td>normal</td>\n",
       "      <td>4.567931</td>\n",
       "      <td>16.602734</td>\n",
       "      <td>42.477752</td>\n",
       "      <td>25.562376</td>\n",
       "      <td>23.221137</td>\n",
       "      <td>11.622386</td>\n",
       "      <td>14.330573</td>\n",
       "      <td>72.445474</td>\n",
       "      <td>...</td>\n",
       "      <td>6.871902</td>\n",
       "      <td>1.815112</td>\n",
       "      <td>1.815112</td>\n",
       "      <td>1.815112</td>\n",
       "      <td>1.815112</td>\n",
       "      <td>1.815112</td>\n",
       "      <td>10.427023</td>\n",
       "      <td>1.815112</td>\n",
       "      <td>1.815112</td>\n",
       "      <td>1.815112</td>\n",
       "    </tr>\n",
       "    <tr>\n",
       "      <th>2</th>\n",
       "      <td>STT5430_Breast_002_normal</td>\n",
       "      <td>normal</td>\n",
       "      <td>2.077597</td>\n",
       "      <td>3.978294</td>\n",
       "      <td>12.863214</td>\n",
       "      <td>13.728915</td>\n",
       "      <td>14.543176</td>\n",
       "      <td>14.141907</td>\n",
       "      <td>6.232790</td>\n",
       "      <td>57.011005</td>\n",
       "      <td>...</td>\n",
       "      <td>7.096343</td>\n",
       "      <td>2.077597</td>\n",
       "      <td>2.077597</td>\n",
       "      <td>2.077597</td>\n",
       "      <td>2.077597</td>\n",
       "      <td>2.077597</td>\n",
       "      <td>22.344226</td>\n",
       "      <td>2.077597</td>\n",
       "      <td>2.077597</td>\n",
       "      <td>2.077597</td>\n",
       "    </tr>\n",
       "    <tr>\n",
       "      <th>3</th>\n",
       "      <td>STT5439_Breast_003_normal</td>\n",
       "      <td>normal</td>\n",
       "      <td>2.066576</td>\n",
       "      <td>8.520713</td>\n",
       "      <td>14.466035</td>\n",
       "      <td>7.823932</td>\n",
       "      <td>8.520713</td>\n",
       "      <td>2.066576</td>\n",
       "      <td>10.870009</td>\n",
       "      <td>53.292034</td>\n",
       "      <td>...</td>\n",
       "      <td>5.200770</td>\n",
       "      <td>2.066576</td>\n",
       "      <td>2.066576</td>\n",
       "      <td>2.066576</td>\n",
       "      <td>2.066576</td>\n",
       "      <td>2.066576</td>\n",
       "      <td>49.295538</td>\n",
       "      <td>2.066576</td>\n",
       "      <td>2.066576</td>\n",
       "      <td>2.066576</td>\n",
       "    </tr>\n",
       "    <tr>\n",
       "      <th>4</th>\n",
       "      <td>STT5441_Breast_004_normal</td>\n",
       "      <td>normal</td>\n",
       "      <td>2.613616</td>\n",
       "      <td>3.434965</td>\n",
       "      <td>12.682222</td>\n",
       "      <td>10.543189</td>\n",
       "      <td>26.688686</td>\n",
       "      <td>12.484822</td>\n",
       "      <td>1.364917</td>\n",
       "      <td>67.140393</td>\n",
       "      <td>...</td>\n",
       "      <td>11.227770</td>\n",
       "      <td>1.364917</td>\n",
       "      <td>1.364917</td>\n",
       "      <td>1.364917</td>\n",
       "      <td>1.364917</td>\n",
       "      <td>1.364917</td>\n",
       "      <td>23.627911</td>\n",
       "      <td>1.364917</td>\n",
       "      <td>1.364917</td>\n",
       "      <td>1.364917</td>\n",
       "    </tr>\n",
       "  </tbody>\n",
       "</table>\n",
       "<p>5 rows × 15750 columns</p>\n",
       "</div>"
      ],
      "text/plain": [
       "                  Patient_id Diagnosis  LOC643837  LOC100130417     SAMD11  \\\n",
       "0  STT5425_Breast_001_normal    normal   1.257614      2.408148  13.368622   \n",
       "1  STT5427_Breast_023_normal    normal   4.567931     16.602734  42.477752   \n",
       "2  STT5430_Breast_002_normal    normal   2.077597      3.978294  12.863214   \n",
       "3  STT5439_Breast_003_normal    normal   2.066576      8.520713  14.466035   \n",
       "4  STT5441_Breast_004_normal    normal   2.613616      3.434965  12.682222   \n",
       "\n",
       "       NOC2L     KLHL17    PLEKHN1   C1orf170       HES4    ...         CLIC2  \\\n",
       "0   9.494779  20.880435  12.722017   9.494779  54.349694    ...      4.761250   \n",
       "1  25.562376  23.221137  11.622386  14.330573  72.445474    ...      6.871902   \n",
       "2  13.728915  14.543176  14.141907   6.232790  57.011005    ...      7.096343   \n",
       "3   7.823932   8.520713   2.066576  10.870009  53.292034    ...      5.200770   \n",
       "4  10.543189  26.688686  12.484822   1.364917  67.140393    ...     11.227770   \n",
       "\n",
       "     RPS4Y1       ZFY      PRKY     USP9Y     DDX3Y       CD24  CYorf15B  \\\n",
       "0  1.257614  1.257614  1.257614  1.257614  1.257614  23.268694  1.257614   \n",
       "1  1.815112  1.815112  1.815112  1.815112  1.815112  10.427023  1.815112   \n",
       "2  2.077597  2.077597  2.077597  2.077597  2.077597  22.344226  2.077597   \n",
       "3  2.066576  2.066576  2.066576  2.066576  2.066576  49.295538  2.066576   \n",
       "4  1.364917  1.364917  1.364917  1.364917  1.364917  23.627911  1.364917   \n",
       "\n",
       "      KDM5D    EIF1AY  \n",
       "0  1.257614  1.257614  \n",
       "1  1.815112  1.815112  \n",
       "2  2.077597  2.077597  \n",
       "3  2.066576  2.066576  \n",
       "4  1.364917  1.364917  \n",
       "\n",
       "[5 rows x 15750 columns]"
      ]
     },
     "execution_count": 75,
     "metadata": {},
     "output_type": "execute_result"
    }
   ],
   "source": [
    "data.head()"
   ]
  },
  {
   "cell_type": "markdown",
   "metadata": {},
   "source": [
    "Часть 1: применение t-критерия Стьюдента\n",
    "\n",
    "В первой части вам нужно будет применить критерий Стьюдента для проверки гипотезы о равенстве средних в двух независимых выборках. Применить критерий для каждого гена нужно будет дважды:\n",
    "\n",
    "    - для групп normal (control) и early neoplasia (treatment)\n",
    "    - для групп early neoplasia (control) и cancer (treatment)\n",
    "\n",
    "В качестве ответа в этой части задания необходимо указать количество статистически значимых отличий, которые вы нашли с помощью t-критерия Стьюдента, то есть число генов, у которых p-value этого теста оказался меньше, чем уровень значимости. "
   ]
  },
  {
   "cell_type": "code",
   "execution_count": 76,
   "metadata": {
    "collapsed": true
   },
   "outputs": [],
   "source": [
    "data_normal = data[(data.Diagnosis == 'normal')]\n",
    "data_early = data[(data.Diagnosis == 'early neoplasia')]\n",
    "data_cancer = data[(data.Diagnosis == 'cancer')]"
   ]
  },
  {
   "cell_type": "code",
   "execution_count": 85,
   "metadata": {
    "collapsed": false
   },
   "outputs": [],
   "source": [
    "n = 2; z1 = 0; z2 = 0; p_values_1 = np.array([]); p_values_2 = np.array([])\n",
    "while (n < data.shape[1]):\n",
    "    p_values_1 = np.append(p_values_1,stats.ttest_ind(data_normal.ix[:,n], data_early.ix[:,n], equal_var = False)[1])\n",
    "    p_values_2 = np.append(p_values_2,stats.ttest_ind(data_early.ix[:,n], data_cancer.ix[:,n], equal_var = False)[1])\n",
    "    if(stats.ttest_ind(data_normal.ix[:,n], data_early.ix[:,n], equal_var = False)[1] < 0.05):\n",
    "        z1 = z1+1\n",
    "    if(stats.ttest_ind(data_early.ix[:,n], data_cancer.ix[:,n], equal_var = False)[1] < 0.05):\n",
    "        z2 = z2+1\n",
    "    n = n+1"
   ]
  },
  {
   "cell_type": "code",
   "execution_count": 86,
   "metadata": {
    "collapsed": false
   },
   "outputs": [
    {
     "name": "stdout",
     "output_type": "stream",
     "text": [
      "1575 3490\n"
     ]
    }
   ],
   "source": [
    "print z1,z2\n",
    "def save_answer(answer, file_name):\n",
    "     with open(file_name, \"w\") as fout:\n",
    "        fout.write(str(answer))\n",
    "save_answer(z1, \"answer_1_1.txt\")\n",
    "save_answer(z2, \"answer_1_2.txt\")"
   ]
  },
  {
   "cell_type": "markdown",
   "metadata": {},
   "source": [
    "Для этой части задания вам понадобится модуль multitest из statsmodels.\n",
    "\n",
    "В этой части задания нужно будет применить поправку Холма для получившихся двух наборов достигаемых уровней значимости из предыдущей части. Обратите внимание, что поскольку вы будете делать поправку для каждого из двух наборов p-value отдельно, то проблема, связанная с множественной проверкой останется.\n",
    "\n",
    "Для того, чтобы ее устранить, достаточно воспользоваться поправкой Бонферрони, то есть использовать уровень значимости 0.05 / 2 вместо 0.05 для дальнейшего уточнения значений p-value c помощью метода Холма.\n",
    "\n",
    "В качестве ответа к этому заданию требуется ввести количество значимых отличий в каждой группе после того, как произведена коррекция Холма-Бонферрони. Причем это число нужно ввести с учетом практической значимости: посчитайте для каждого значимого изменения fold change и выпишите в ответ число таких значимых изменений, абсолютное значение fold change которых больше, чем 1.5."
   ]
  },
  {
   "cell_type": "code",
   "execution_count": 96,
   "metadata": {
    "collapsed": false
   },
   "outputs": [
    {
     "name": "stdout",
     "output_type": "stream",
     "text": [
      "[ 7246.  9822.]\n"
     ]
    }
   ],
   "source": [
    "reject, p_corrected, a1, a2 = multipletests(p_values_1, \n",
    "                                            alpha = 0.025, \n",
    "                                            method = 'holm') \n",
    "\n",
    "p_values_1_holm = np.array([])\n",
    "for n, (a,b) in enumerate(zip(reject, p_corrected)):\n",
    "    if (a == True):\n",
    "        p_values_1_holm = np.append(p_values_1_holm, n + 2)\n",
    "print p_values_1_holm\n",
    "    "
   ]
  },
  {
   "cell_type": "code",
   "execution_count": 97,
   "metadata": {
    "collapsed": false
   },
   "outputs": [
    {
     "name": "stdout",
     "output_type": "stream",
     "text": [
      "[    49.    285.    318.   1107.   1240.   1311.   1669.   2035.   2290.\n",
      "   2291.   2508.   3000.   3033.   3117.   3684.   3905.   4194.   4210.\n",
      "   4298.   4339.   4425.   4669.   4709.   5317.   5344.   5977.   6412.\n",
      "   6522.   6647.   7047.   7843.   7898.   8113.   8440.   8717.   8789.\n",
      "   8816.   8865.   9756.   9788.   9792.   9872.  10015.  10253.  10437.\n",
      "  10640.  11039.  11113.  11324.  11357.  11844.  11907.  12203.  12213.\n",
      "  12294.  12295.  12359.  12360.  12441.  12507.  12533.  12967.  13457.\n",
      "  13521.  13729.  13734.  13818.  13874.  13875.  14191.  14245.  14468.\n",
      "  14521.  14994.  15092.  15451.  15578.  15642.  15705.]\n"
     ]
    }
   ],
   "source": [
    "reject, p_corrected, a1, a2 = multipletests(p_values_2, \n",
    "                                            alpha = 0.025, \n",
    "                                            method = 'holm') \n",
    "\n",
    "p_values_2_holm = np.array([])\n",
    "for n, (a,b) in enumerate(zip(reject, p_corrected)):\n",
    "    if (a == True):\n",
    "        p_values_2_holm = np.append(p_values_2_holm, n + 2)\n",
    "print p_values_2_holm"
   ]
  },
  {
   "cell_type": "code",
   "execution_count": 98,
   "metadata": {
    "collapsed": true
   },
   "outputs": [],
   "source": [
    "def fold_change(C, T):\n",
    "    res = 0\n",
    "    if T>C:\n",
    "        res = T/C\n",
    "    if C>T:\n",
    "        res = C/T\n",
    "    return res"
   ]
  },
  {
   "cell_type": "code",
   "execution_count": 108,
   "metadata": {
    "collapsed": false
   },
   "outputs": [
    {
     "name": "stdout",
     "output_type": "stream",
     "text": [
      "2 77\n"
     ]
    }
   ],
   "source": [
    "z1 = 0\n",
    "for n in zip(p_values_1_holm):\n",
    "    if(fold_change(data_normal.ix[:,int(n[0])].mean(),data_early.ix[:,int(n[0])].mean()) >1.5):\n",
    "        z1 = z1 + 1\n",
    "        #print fold_change(data_normal.ix[:,int(n[0])].mean(),data_early.ix[:,int(n[0])].mean())\n",
    "z2= 0        \n",
    "for n in zip(p_values_2_holm):\n",
    "    if(fold_change(data_early.ix[:,int(n[0])].mean(),data_cancer.ix[:,int(n[0])].mean()) >1.5):\n",
    "        #print fold_change(data_early.ix[:,int(n[0])].mean(),data_cancer.ix[:,int(n[0])].mean())\n",
    "        z2 = z2 + 1\n",
    "print z1, z2\n"
   ]
  },
  {
   "cell_type": "code",
   "execution_count": 109,
   "metadata": {
    "collapsed": true
   },
   "outputs": [],
   "source": [
    "save_answer(2, \"answer_2_1.txt\")\n",
    "save_answer(77, \"answer_2_2.txt\")"
   ]
  },
  {
   "cell_type": "code",
   "execution_count": 111,
   "metadata": {
    "collapsed": false
   },
   "outputs": [
    {
     "name": "stdout",
     "output_type": "stream",
     "text": [
      "1.66382606558\n",
      "1.50978548204\n",
      "1.75495105428\n",
      "1.97486766564\n"
     ]
    }
   ],
   "source": [
    "reject, p_corrected, a1, a2 = multipletests(p_values_1, \n",
    "                                            alpha = 0.025, \n",
    "                                            method = 'fdr_bh') \n",
    "\n",
    "p_values_1_bh = np.array([])\n",
    "for n,t in enumerate(p_corrected):\n",
    "    if (t < 0.025):\n",
    "        p_values_1_bh = np.append(p_values_1_bh, n)\n",
    "\n",
    "for n in zip(p_values_1_bh):\n",
    "    if(fold_change(np.mean(data_normal.ix[:,int(n[0]) + 2]),np.mean(data_early.ix[:,int(n[0]) + 2 ]))>1.5):\n",
    "        print fold_change(np.mean(data_normal.ix[:,int(n[0]) + 2 ]),np.mean(data_early.ix[:,int(n[0]) + 2 ]))"
   ]
  },
  {
   "cell_type": "code",
   "execution_count": 112,
   "metadata": {
    "collapsed": false
   },
   "outputs": [
    {
     "name": "stdout",
     "output_type": "stream",
     "text": [
      "524\n"
     ]
    }
   ],
   "source": [
    "reject, p_corrected, a1, a2 = multipletests(p_values_2, \n",
    "                                            alpha = 0.025, \n",
    "                                            method = 'fdr_bh') \n",
    "\n",
    "p_values_2_bh = np.array([])\n",
    "for n,t in enumerate(p_corrected):\n",
    "    if (t < 0.025):\n",
    "        p_values_2_bh = np.append(p_values_2_bh, n)\n",
    "\n",
    "zbh=0        \n",
    "for n in zip(p_values_2_bh):\n",
    "    if(fold_change(np.mean(data_early.ix[:,int(n[0]) + 2]),np.mean(data_cancer.ix[:,int(n[0]) +2]))>1.5):\n",
    "        #print fold_change(np.mean(data_early.ix[:,int(n[0]) + 2 ]),np.mean(data_cancer.ix[:,int(n[0]) +2]))\n",
    "        zbh = zbh + 1\n",
    "print zbh"
   ]
  },
  {
   "cell_type": "code",
   "execution_count": 113,
   "metadata": {
    "collapsed": true
   },
   "outputs": [],
   "source": [
    "save_answer(4, \"answer_3_1.txt\")\n",
    "save_answer(524, \"answer_3_2.txt\")"
   ]
  },
  {
   "cell_type": "code",
   "execution_count": null,
   "metadata": {
    "collapsed": true
   },
   "outputs": [],
   "source": []
  }
 ],
 "metadata": {
  "kernelspec": {
   "display_name": "Python 2",
   "language": "python",
   "name": "python2"
  },
  "language_info": {
   "codemirror_mode": {
    "name": "ipython",
    "version": 2
   },
   "file_extension": ".py",
   "mimetype": "text/x-python",
   "name": "python",
   "nbconvert_exporter": "python",
   "pygments_lexer": "ipython2",
   "version": "2.7.13"
  }
 },
 "nbformat": 4,
 "nbformat_minor": 0
}

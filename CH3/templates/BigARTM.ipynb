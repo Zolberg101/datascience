{
 "cells": [
  {
   "cell_type": "markdown",
   "metadata": {},
   "source": [
    "# Пример использования библиотеки BigARTM для тематического моделирования"
   ]
  },
  {
   "cell_type": "markdown",
   "metadata": {},
   "source": [
    "Импортируем BigARTM:"
   ]
  },
  {
   "cell_type": "code",
   "execution_count": 79,
   "metadata": {
    "collapsed": false
   },
   "outputs": [],
   "source": [
    "from matplotlib import pyplot as plt\n",
    "%matplotlib inline"
   ]
  },
  {
   "cell_type": "code",
   "execution_count": 80,
   "metadata": {
    "collapsed": false
   },
   "outputs": [],
   "source": [
    "import artm"
   ]
  },
  {
   "cell_type": "markdown",
   "metadata": {},
   "source": [
    "Первое считывание данных (преобразуем удобный для человека формат в формат, который использует модель):"
   ]
  },
  {
   "cell_type": "code",
   "execution_count": 105,
   "metadata": {
    "collapsed": false
   },
   "outputs": [],
   "source": [
    "batch_vectorizer = artm.BatchVectorizer(data_path=\"school.txt\", data_format=\"vowpal_wabbit\", target_folder=\"/home/egor/data/school_batches\", \n",
    "                                       batch_size=100)"
   ]
  },
  {
   "cell_type": "markdown",
   "metadata": {},
   "source": [
    "В следующий раз данные можно считывать уже из батчей:"
   ]
  },
  {
   "cell_type": "code",
   "execution_count": 82,
   "metadata": {
    "collapsed": false
   },
   "outputs": [],
   "source": [
    "batch_vectorizer = artm.BatchVectorizer(data_path=\"/home/egor/data/school_batches\", data_format='batches')\n",
    "dictionary = artm.Dictionary(data_path='/home/egor/data/school_batches')"
   ]
  },
  {
   "cell_type": "markdown",
   "metadata": {},
   "source": [
    "Создаем объект модели:"
   ]
  },
  {
   "cell_type": "code",
   "execution_count": 83,
   "metadata": {
    "collapsed": false
   },
   "outputs": [],
   "source": [
    "T = 10   # количество тем\n",
    "model_artm = artm.ARTM(num_topics=T, topic_names=[\"sbj\"+str(i) for i in range(T)], class_ids={\"text\":1},cache_theta=True)\n",
    "# число после названия модальностей - это их веса"
   ]
  },
  {
   "cell_type": "code",
   "execution_count": 84,
   "metadata": {
    "collapsed": false
   },
   "outputs": [],
   "source": [
    "model_artm.scores.add(artm.PerplexityScore(name='PerplexityScore',\n",
    "                                               use_unigram_document_model=False,\n",
    "                                               dictionary=dictionary))\n",
    "model_artm.scores.add(artm.SparsityPhiScore(name='SparsityPhiScore', class_id=\"text\"))\n",
    "model_artm.scores.add(artm.SparsityThetaScore(name='SparsityThetaScore'))\n",
    "model_artm.scores.add(artm.TopTokensScore(name=\"top_words\", num_tokens=15, class_id=\"text\"))"
   ]
  },
  {
   "cell_type": "markdown",
   "metadata": {},
   "source": [
    "Создаем словарь и инициализируем модель с его помощью"
   ]
  },
  {
   "cell_type": "code",
   "execution_count": 85,
   "metadata": {
    "collapsed": false
   },
   "outputs": [
    {
     "name": "stdout",
     "output_type": "stream",
     "text": [
      "/home/egor/data/school_batches\n"
     ]
    }
   ],
   "source": [
    "#model_artm.gather_dictionary('dictionary', batch_vectorizer.data_path)\n",
    "dictionary.gather(batch_vectorizer.data_path)\n",
    "print batch_vectorizer.data_path"
   ]
  },
  {
   "cell_type": "code",
   "execution_count": 86,
   "metadata": {
    "collapsed": false
   },
   "outputs": [],
   "source": [
    "#model_artm.initialize(\"dictionary\", seed=-1)\n",
    "model_artm.initialize(dictionary=dictionary)"
   ]
  },
  {
   "cell_type": "markdown",
   "metadata": {},
   "source": [
    "Строим модель. Offline - проходит по всей коллекции много раз. Удобно, когда коллекция маленькая."
   ]
  },
  {
   "cell_type": "code",
   "execution_count": 87,
   "metadata": {
    "collapsed": false
   },
   "outputs": [],
   "source": [
    "model_artm.fit_offline(batch_vectorizer=batch_vectorizer, num_collection_passes=40)"
   ]
  },
  {
   "cell_type": "markdown",
   "metadata": {},
   "source": [
    "Необходимое число итераций можно отслеживать по графику перплексии. Когда она перестала меняться, модель сошлась."
   ]
  },
  {
   "cell_type": "code",
   "execution_count": 88,
   "metadata": {
    "collapsed": false
   },
   "outputs": [
    {
     "data": {
      "text/plain": [
       "[<matplotlib.lines.Line2D at 0x7fafc3a9d710>]"
      ]
     },
     "execution_count": 88,
     "metadata": {},
     "output_type": "execute_result"
    },
    {
     "data": {
      "image/png": "[encoded data removed]",
      "text/plain": [
       "<matplotlib.figure.Figure at 0x7fafc1c87ed0>"
      ]
     },
     "metadata": {},
     "output_type": "display_data"
    }
   ],
   "source": [
    "plt.plot(model_artm.score_tracker[\"PerplexityScore\"].value)"
   ]
  },
  {
   "cell_type": "markdown",
   "metadata": {},
   "source": [
    "Выведем топы слов:"
   ]
  },
  {
   "cell_type": "code",
   "execution_count": 89,
   "metadata": {
    "collapsed": false
   },
   "outputs": [
    {
     "name": "stdout",
     "output_type": "stream",
     "text": [
      "sbj0:  быть право который ребенок человек язык они семья это русский время для также свой что\n",
      "sbj1:  что свой который быть это человек этот его герой она они жизнь ребенок как такой\n",
      "sbj2:  предложение слово который что например это как быть или речь такой они если мочь этот\n",
      "sbj3:  который что ядро это этот энергия вода земля быть масса атом как температура такой океан\n",
      "sbj4:  поэт пушкин что стихотворение который свой это быть звук этот весь лирика год его произведение\n",
      "sbj5:  x быть a b число этот при функция уравнение что это для если сила ток\n",
      "sbj6:  который человек свой что жизнь его быть герой это как произведение литература этот для русский\n",
      "sbj7:  который человек общество развитие социальный государство как политический быть это себя культура жизнь такой отношение\n",
      "sbj8:  страна государство население который быть территория этот год являться город африка время что также хозяйство\n",
      "sbj9:  быть который год государство война становиться свой что весь первый военный как время период империя\n"
     ]
    }
   ],
   "source": [
    "for topic_name in model_artm.topic_names:\n",
    "    print topic_name + ': ',\n",
    "    for word in model_artm.score_tracker[\"top_words\"].last_tokens[topic_name]:\n",
    "        print word,\n",
    "    print\n",
    "#model_artm.topic_names\n",
    "#model_artm.score_tracker[\"top_words\"].last_tokens"
   ]
  },
  {
   "cell_type": "markdown",
   "metadata": {},
   "source": [
    "Давайте посмотрим также на разреженность матриц:"
   ]
  },
  {
   "cell_type": "code",
   "execution_count": 90,
   "metadata": {
    "collapsed": false
   },
   "outputs": [
    {
     "name": "stdout",
     "output_type": "stream",
     "text": [
      "0.767712280266\n",
      "0.00189075630252\n"
     ]
    }
   ],
   "source": [
    "print model_artm.score_tracker[\"SparsityPhiScore\"].last_value\n",
    "print model_artm.score_tracker[\"SparsityThetaScore\"].last_value"
   ]
  },
  {
   "cell_type": "markdown",
   "metadata": {},
   "source": [
    "В темах много общеупотребительных слов (так называемой, фоновой лексики). Чтобы этого избежать, будем использовать разреживающий регуляризатор для матрицы фи. Он будет подавлять слова, которые имеют большую частоту во всей коллекции."
   ]
  },
  {
   "cell_type": "code",
   "execution_count": 91,
   "metadata": {
    "collapsed": false
   },
   "outputs": [],
   "source": [
    "model_artm.regularizers.add(artm.SmoothSparsePhiRegularizer(name='SparsePhi', tau=-100, dictionary=dictionary))\n",
    "#если вы хотите применять регуляризатор только к некоторым модальностям, указывайте это в параметре class_ids: class_ids=[\"text\"]"
   ]
  },
  {
   "cell_type": "code",
   "execution_count": 92,
   "metadata": {
    "collapsed": true
   },
   "outputs": [],
   "source": [
    "model_artm.fit_offline(batch_vectorizer=batch_vectorizer, num_collection_passes=15)"
   ]
  },
  {
   "cell_type": "markdown",
   "metadata": {},
   "source": [
    "Попробуем менять коэффициент регуляризации:"
   ]
  },
  {
   "cell_type": "code",
   "execution_count": 93,
   "metadata": {
    "collapsed": false
   },
   "outputs": [],
   "source": [
    "model_artm.regularizers['SparsePhi'].tau = -5*1e4"
   ]
  },
  {
   "cell_type": "code",
   "execution_count": 94,
   "metadata": {
    "collapsed": false
   },
   "outputs": [],
   "source": [
    "model_artm.fit_offline(batch_vectorizer=batch_vectorizer, num_collection_passes=15)"
   ]
  },
  {
   "cell_type": "code",
   "execution_count": 95,
   "metadata": {
    "collapsed": false
   },
   "outputs": [
    {
     "name": "stdout",
     "output_type": "stream",
     "text": [
      "sbj0:  право ребенок язык свобода семья английский религиозный гражданский быт суд воспитание орган честь the закреплять\n",
      "sbj1:  жить повесть женщина нет поэма лермонтов написать школа молодой сказка отец хороший любить гоголь умирать\n",
      "sbj2:  слово например предложение простой какой речь предмет глагол скорость физика имя выступать свет кто угол\n",
      "sbj3:  земля энергия вода ядро масса движение природный состоять океан частица атом заряд температура располагать южный\n",
      "sbj4:  пушкин поэт стихотворение писать лирика звук стих поэзия сравнение почти русь ночь былина красота любовный\n",
      "sbj5:  при x a сила если два число можно b функция пример получать тело равный случай\n",
      "sbj6:  человек его жизнь герой русский главный произведение мир литература сам история автор литературный личность всегда\n",
      "sbj7:  общество представлять развитие отношение социальный политический процесс форма система экономический производство культура характер понятие роль\n",
      "sbj8:  страна территория население город древний северный мировой африка сша регион хозяйство море житель промышленность крупный\n",
      "sbj9:  год государство становиться россия период после война начинать народ начало власть государственный смочь политика внутренний\n"
     ]
    }
   ],
   "source": [
    "for topic_name in model_artm.topic_names:\n",
    "    print topic_name + ': ',\n",
    "    for word in model_artm.score_tracker[\"top_words\"].last_tokens[topic_name]:\n",
    "        print word,\n",
    "    print"
   ]
  },
  {
   "cell_type": "code",
   "execution_count": 96,
   "metadata": {
    "collapsed": false
   },
   "outputs": [
    {
     "name": "stdout",
     "output_type": "stream",
     "text": [
      "0.900726753214\n",
      "0.0981092436975\n"
     ]
    }
   ],
   "source": [
    "# еще раз посмотрим на разреженность\n",
    "print model_artm.score_tracker[\"SparsityPhiScore\"].last_value\n",
    "print model_artm.score_tracker[\"SparsityThetaScore\"].last_value"
   ]
  },
  {
   "cell_type": "markdown",
   "metadata": {},
   "source": [
    "Обратите внимание, что разреживать модель рекомендуется только после того, как она сошлась без регуляризации."
   ]
  },
  {
   "cell_type": "markdown",
   "metadata": {},
   "source": [
    "Сохранение и загрузка модели:"
   ]
  },
  {
   "cell_type": "code",
   "execution_count": 97,
   "metadata": {
    "collapsed": true
   },
   "outputs": [],
   "source": [
    "model_artm.save(\"my_model\")"
   ]
  },
  {
   "cell_type": "code",
   "execution_count": 98,
   "metadata": {
    "collapsed": false
   },
   "outputs": [],
   "source": [
    "model_artm.load(\"my_model\")"
   ]
  },
  {
   "cell_type": "markdown",
   "metadata": {},
   "source": [
    "Можно попросить матрицы в чистом виде:"
   ]
  },
  {
   "cell_type": "code",
   "execution_count": 99,
   "metadata": {
    "collapsed": false
   },
   "outputs": [],
   "source": [
    "phi = model_artm.get_phi()"
   ]
  },
  {
   "cell_type": "code",
   "execution_count": 100,
   "metadata": {
    "collapsed": false
   },
   "outputs": [
    {
     "data": {
      "text/html": [
       "<div>\n",
       "<table border=\"1\" class=\"dataframe\">\n",
       "  <thead>\n",
       "    <tr style=\"text-align: right;\">\n",
       "      <th></th>\n",
       "      <th>sbj0</th>\n",
       "      <th>sbj1</th>\n",
       "      <th>sbj2</th>\n",
       "      <th>sbj3</th>\n",
       "      <th>sbj4</th>\n",
       "      <th>sbj5</th>\n",
       "      <th>sbj6</th>\n",
       "      <th>sbj7</th>\n",
       "      <th>sbj8</th>\n",
       "      <th>sbj9</th>\n",
       "    </tr>\n",
       "  </thead>\n",
       "  <tbody>\n",
       "    <tr>\n",
       "      <th>бета-частица</th>\n",
       "      <td>0.0</td>\n",
       "      <td>0.0</td>\n",
       "      <td>0.0</td>\n",
       "      <td>0.000092</td>\n",
       "      <td>0.0</td>\n",
       "      <td>0.0</td>\n",
       "      <td>0.0</td>\n",
       "      <td>0.0</td>\n",
       "      <td>0.0</td>\n",
       "      <td>0.0</td>\n",
       "    </tr>\n",
       "    <tr>\n",
       "      <th>фотопластинка</th>\n",
       "      <td>0.0</td>\n",
       "      <td>0.0</td>\n",
       "      <td>0.0</td>\n",
       "      <td>0.000184</td>\n",
       "      <td>0.0</td>\n",
       "      <td>0.0</td>\n",
       "      <td>0.0</td>\n",
       "      <td>0.0</td>\n",
       "      <td>0.0</td>\n",
       "      <td>0.0</td>\n",
       "    </tr>\n",
       "    <tr>\n",
       "      <th>толстостенный</th>\n",
       "      <td>0.0</td>\n",
       "      <td>0.0</td>\n",
       "      <td>0.0</td>\n",
       "      <td>0.000092</td>\n",
       "      <td>0.0</td>\n",
       "      <td>0.0</td>\n",
       "      <td>0.0</td>\n",
       "      <td>0.0</td>\n",
       "      <td>0.0</td>\n",
       "      <td>0.0</td>\n",
       "    </tr>\n",
       "    <tr>\n",
       "      <th>неоднородно</th>\n",
       "      <td>0.0</td>\n",
       "      <td>0.0</td>\n",
       "      <td>0.0</td>\n",
       "      <td>0.000092</td>\n",
       "      <td>0.0</td>\n",
       "      <td>0.0</td>\n",
       "      <td>0.0</td>\n",
       "      <td>0.0</td>\n",
       "      <td>0.0</td>\n",
       "      <td>0.0</td>\n",
       "    </tr>\n",
       "    <tr>\n",
       "      <th>неделимость</th>\n",
       "      <td>0.0</td>\n",
       "      <td>0.0</td>\n",
       "      <td>0.0</td>\n",
       "      <td>0.000184</td>\n",
       "      <td>0.0</td>\n",
       "      <td>0.0</td>\n",
       "      <td>0.0</td>\n",
       "      <td>0.0</td>\n",
       "      <td>0.0</td>\n",
       "      <td>0.0</td>\n",
       "    </tr>\n",
       "  </tbody>\n",
       "</table>\n",
       "</div>"
      ],
      "text/plain": [
       "               sbj0  sbj1  sbj2      sbj3  sbj4  sbj5  sbj6  sbj7  sbj8  sbj9\n",
       "бета-частица    0.0   0.0   0.0  0.000092   0.0   0.0   0.0   0.0   0.0   0.0\n",
       "фотопластинка   0.0   0.0   0.0  0.000184   0.0   0.0   0.0   0.0   0.0   0.0\n",
       "толстостенный   0.0   0.0   0.0  0.000092   0.0   0.0   0.0   0.0   0.0   0.0\n",
       "неоднородно     0.0   0.0   0.0  0.000092   0.0   0.0   0.0   0.0   0.0   0.0\n",
       "неделимость     0.0   0.0   0.0  0.000184   0.0   0.0   0.0   0.0   0.0   0.0"
      ]
     },
     "execution_count": 100,
     "metadata": {},
     "output_type": "execute_result"
    }
   ],
   "source": [
    "phi.head()"
   ]
  },
  {
   "cell_type": "markdown",
   "metadata": {},
   "source": [
    "Матрица вероятностей тем в документах."
   ]
  },
  {
   "cell_type": "code",
   "execution_count": 101,
   "metadata": {
    "collapsed": false
   },
   "outputs": [
    {
     "data": {
      "text/html": [
       "<div>\n",
       "<table border=\"1\" class=\"dataframe\">\n",
       "  <thead>\n",
       "    <tr style=\"text-align: right;\">\n",
       "      <th></th>\n",
       "      <th>201</th>\n",
       "      <th>202</th>\n",
       "      <th>203</th>\n",
       "      <th>204</th>\n",
       "      <th>205</th>\n",
       "      <th>206</th>\n",
       "      <th>207</th>\n",
       "      <th>208</th>\n",
       "      <th>209</th>\n",
       "      <th>210</th>\n",
       "      <th>...</th>\n",
       "      <th>467</th>\n",
       "      <th>468</th>\n",
       "      <th>469</th>\n",
       "      <th>470</th>\n",
       "      <th>471</th>\n",
       "      <th>472</th>\n",
       "      <th>473</th>\n",
       "      <th>474</th>\n",
       "      <th>475</th>\n",
       "      <th>476</th>\n",
       "    </tr>\n",
       "  </thead>\n",
       "  <tbody>\n",
       "    <tr>\n",
       "      <th>sbj0</th>\n",
       "      <td>0.000000e+00</td>\n",
       "      <td>0.000000</td>\n",
       "      <td>1.065151e-13</td>\n",
       "      <td>0.025773</td>\n",
       "      <td>0.000000</td>\n",
       "      <td>0.005435</td>\n",
       "      <td>0.008621</td>\n",
       "      <td>0.003425</td>\n",
       "      <td>0.015464</td>\n",
       "      <td>0.016597</td>\n",
       "      <td>...</td>\n",
       "      <td>0.012354</td>\n",
       "      <td>0.019920</td>\n",
       "      <td>7.575749e-03</td>\n",
       "      <td>0.004049</td>\n",
       "      <td>0.035326</td>\n",
       "      <td>0.031818</td>\n",
       "      <td>0.043668</td>\n",
       "      <td>0.015669</td>\n",
       "      <td>0.003484</td>\n",
       "      <td>0.017021</td>\n",
       "    </tr>\n",
       "    <tr>\n",
       "      <th>sbj1</th>\n",
       "      <td>4.219405e-03</td>\n",
       "      <td>0.000000</td>\n",
       "      <td>1.321587e-02</td>\n",
       "      <td>0.015464</td>\n",
       "      <td>0.004287</td>\n",
       "      <td>0.005435</td>\n",
       "      <td>0.004310</td>\n",
       "      <td>0.094694</td>\n",
       "      <td>0.046632</td>\n",
       "      <td>0.024896</td>\n",
       "      <td>...</td>\n",
       "      <td>0.012245</td>\n",
       "      <td>0.011952</td>\n",
       "      <td>3.586948e-13</td>\n",
       "      <td>0.080972</td>\n",
       "      <td>0.024457</td>\n",
       "      <td>0.172497</td>\n",
       "      <td>0.000000</td>\n",
       "      <td>0.059479</td>\n",
       "      <td>0.019390</td>\n",
       "      <td>0.025532</td>\n",
       "    </tr>\n",
       "    <tr>\n",
       "      <th>sbj2</th>\n",
       "      <td>4.219406e-02</td>\n",
       "      <td>0.005076</td>\n",
       "      <td>2.224393e-02</td>\n",
       "      <td>0.036082</td>\n",
       "      <td>0.021277</td>\n",
       "      <td>0.076087</td>\n",
       "      <td>0.043103</td>\n",
       "      <td>0.041096</td>\n",
       "      <td>0.020803</td>\n",
       "      <td>0.013153</td>\n",
       "      <td>...</td>\n",
       "      <td>0.697034</td>\n",
       "      <td>0.020415</td>\n",
       "      <td>0.000000e+00</td>\n",
       "      <td>0.024292</td>\n",
       "      <td>0.475093</td>\n",
       "      <td>0.022727</td>\n",
       "      <td>0.021834</td>\n",
       "      <td>0.014870</td>\n",
       "      <td>0.017582</td>\n",
       "      <td>0.028174</td>\n",
       "    </tr>\n",
       "    <tr>\n",
       "      <th>sbj3</th>\n",
       "      <td>5.654010e-01</td>\n",
       "      <td>0.000000</td>\n",
       "      <td>8.810577e-03</td>\n",
       "      <td>0.030928</td>\n",
       "      <td>0.029787</td>\n",
       "      <td>0.036931</td>\n",
       "      <td>0.030172</td>\n",
       "      <td>0.013975</td>\n",
       "      <td>0.093839</td>\n",
       "      <td>0.004209</td>\n",
       "      <td>...</td>\n",
       "      <td>0.012278</td>\n",
       "      <td>0.031872</td>\n",
       "      <td>4.166662e-02</td>\n",
       "      <td>0.028340</td>\n",
       "      <td>0.105978</td>\n",
       "      <td>0.022957</td>\n",
       "      <td>0.004367</td>\n",
       "      <td>0.018587</td>\n",
       "      <td>0.243902</td>\n",
       "      <td>0.031400</td>\n",
       "    </tr>\n",
       "    <tr>\n",
       "      <th>sbj4</th>\n",
       "      <td>2.635451e-09</td>\n",
       "      <td>0.000000</td>\n",
       "      <td>4.405288e-03</td>\n",
       "      <td>0.000000</td>\n",
       "      <td>0.004255</td>\n",
       "      <td>0.016834</td>\n",
       "      <td>0.009493</td>\n",
       "      <td>0.030822</td>\n",
       "      <td>0.436664</td>\n",
       "      <td>0.000000</td>\n",
       "      <td>...</td>\n",
       "      <td>0.012245</td>\n",
       "      <td>0.003984</td>\n",
       "      <td>5.058870e-11</td>\n",
       "      <td>0.109312</td>\n",
       "      <td>0.014037</td>\n",
       "      <td>0.077273</td>\n",
       "      <td>0.004501</td>\n",
       "      <td>0.007435</td>\n",
       "      <td>0.222360</td>\n",
       "      <td>0.012766</td>\n",
       "    </tr>\n",
       "    <tr>\n",
       "      <th>sbj5</th>\n",
       "      <td>2.869198e-01</td>\n",
       "      <td>0.964467</td>\n",
       "      <td>8.454157e-01</td>\n",
       "      <td>0.046392</td>\n",
       "      <td>0.893278</td>\n",
       "      <td>0.743329</td>\n",
       "      <td>0.073276</td>\n",
       "      <td>0.079964</td>\n",
       "      <td>0.020619</td>\n",
       "      <td>0.041494</td>\n",
       "      <td>...</td>\n",
       "      <td>0.098303</td>\n",
       "      <td>0.027888</td>\n",
       "      <td>2.651512e-02</td>\n",
       "      <td>0.040486</td>\n",
       "      <td>0.182065</td>\n",
       "      <td>0.013845</td>\n",
       "      <td>0.030568</td>\n",
       "      <td>0.022305</td>\n",
       "      <td>0.031586</td>\n",
       "      <td>0.055319</td>\n",
       "    </tr>\n",
       "    <tr>\n",
       "      <th>sbj6</th>\n",
       "      <td>2.109703e-02</td>\n",
       "      <td>0.010152</td>\n",
       "      <td>3.524230e-02</td>\n",
       "      <td>0.144330</td>\n",
       "      <td>0.008511</td>\n",
       "      <td>0.034427</td>\n",
       "      <td>0.167232</td>\n",
       "      <td>0.136986</td>\n",
       "      <td>0.206186</td>\n",
       "      <td>0.042101</td>\n",
       "      <td>...</td>\n",
       "      <td>0.073630</td>\n",
       "      <td>0.036121</td>\n",
       "      <td>2.651512e-02</td>\n",
       "      <td>0.542510</td>\n",
       "      <td>0.051630</td>\n",
       "      <td>0.311476</td>\n",
       "      <td>0.043668</td>\n",
       "      <td>0.715695</td>\n",
       "      <td>0.010453</td>\n",
       "      <td>0.476596</td>\n",
       "    </tr>\n",
       "    <tr>\n",
       "      <th>sbj7</th>\n",
       "      <td>5.063287e-02</td>\n",
       "      <td>0.005076</td>\n",
       "      <td>2.220811e-02</td>\n",
       "      <td>0.494845</td>\n",
       "      <td>0.012953</td>\n",
       "      <td>0.043478</td>\n",
       "      <td>0.099138</td>\n",
       "      <td>0.458628</td>\n",
       "      <td>0.020619</td>\n",
       "      <td>0.045643</td>\n",
       "      <td>...</td>\n",
       "      <td>0.028571</td>\n",
       "      <td>0.111554</td>\n",
       "      <td>7.627601e-02</td>\n",
       "      <td>0.028340</td>\n",
       "      <td>0.065217</td>\n",
       "      <td>0.090701</td>\n",
       "      <td>0.122271</td>\n",
       "      <td>0.063197</td>\n",
       "      <td>0.014005</td>\n",
       "      <td>0.217021</td>\n",
       "    </tr>\n",
       "    <tr>\n",
       "      <th>sbj8</th>\n",
       "      <td>1.687762e-02</td>\n",
       "      <td>0.010152</td>\n",
       "      <td>1.321586e-02</td>\n",
       "      <td>0.118557</td>\n",
       "      <td>0.000000</td>\n",
       "      <td>0.005435</td>\n",
       "      <td>0.301724</td>\n",
       "      <td>0.013699</td>\n",
       "      <td>0.036082</td>\n",
       "      <td>0.289085</td>\n",
       "      <td>...</td>\n",
       "      <td>0.012437</td>\n",
       "      <td>0.107570</td>\n",
       "      <td>7.419060e-01</td>\n",
       "      <td>0.020243</td>\n",
       "      <td>0.021739</td>\n",
       "      <td>0.013636</td>\n",
       "      <td>0.091703</td>\n",
       "      <td>0.022305</td>\n",
       "      <td>0.269990</td>\n",
       "      <td>0.055319</td>\n",
       "    </tr>\n",
       "    <tr>\n",
       "      <th>sbj9</th>\n",
       "      <td>1.265822e-02</td>\n",
       "      <td>0.005076</td>\n",
       "      <td>3.524230e-02</td>\n",
       "      <td>0.087629</td>\n",
       "      <td>0.025651</td>\n",
       "      <td>0.032609</td>\n",
       "      <td>0.262931</td>\n",
       "      <td>0.126712</td>\n",
       "      <td>0.103093</td>\n",
       "      <td>0.522822</td>\n",
       "      <td>...</td>\n",
       "      <td>0.040903</td>\n",
       "      <td>0.628723</td>\n",
       "      <td>7.954536e-02</td>\n",
       "      <td>0.121458</td>\n",
       "      <td>0.024457</td>\n",
       "      <td>0.243070</td>\n",
       "      <td>0.637420</td>\n",
       "      <td>0.060458</td>\n",
       "      <td>0.167247</td>\n",
       "      <td>0.080851</td>\n",
       "    </tr>\n",
       "  </tbody>\n",
       "</table>\n",
       "<p>10 rows × 476 columns</p>\n",
       "</div>"
      ],
      "text/plain": [
       "               201       202           203       204       205       206  \\\n",
       "sbj0  0.000000e+00  0.000000  1.065151e-13  0.025773  0.000000  0.005435   \n",
       "sbj1  4.219405e-03  0.000000  1.321587e-02  0.015464  0.004287  0.005435   \n",
       "sbj2  4.219406e-02  0.005076  2.224393e-02  0.036082  0.021277  0.076087   \n",
       "sbj3  5.654010e-01  0.000000  8.810577e-03  0.030928  0.029787  0.036931   \n",
       "sbj4  2.635451e-09  0.000000  4.405288e-03  0.000000  0.004255  0.016834   \n",
       "sbj5  2.869198e-01  0.964467  8.454157e-01  0.046392  0.893278  0.743329   \n",
       "sbj6  2.109703e-02  0.010152  3.524230e-02  0.144330  0.008511  0.034427   \n",
       "sbj7  5.063287e-02  0.005076  2.220811e-02  0.494845  0.012953  0.043478   \n",
       "sbj8  1.687762e-02  0.010152  1.321586e-02  0.118557  0.000000  0.005435   \n",
       "sbj9  1.265822e-02  0.005076  3.524230e-02  0.087629  0.025651  0.032609   \n",
       "\n",
       "           207       208       209       210    ...          467       468  \\\n",
       "sbj0  0.008621  0.003425  0.015464  0.016597    ...     0.012354  0.019920   \n",
       "sbj1  0.004310  0.094694  0.046632  0.024896    ...     0.012245  0.011952   \n",
       "sbj2  0.043103  0.041096  0.020803  0.013153    ...     0.697034  0.020415   \n",
       "sbj3  0.030172  0.013975  0.093839  0.004209    ...     0.012278  0.031872   \n",
       "sbj4  0.009493  0.030822  0.436664  0.000000    ...     0.012245  0.003984   \n",
       "sbj5  0.073276  0.079964  0.020619  0.041494    ...     0.098303  0.027888   \n",
       "sbj6  0.167232  0.136986  0.206186  0.042101    ...     0.073630  0.036121   \n",
       "sbj7  0.099138  0.458628  0.020619  0.045643    ...     0.028571  0.111554   \n",
       "sbj8  0.301724  0.013699  0.036082  0.289085    ...     0.012437  0.107570   \n",
       "sbj9  0.262931  0.126712  0.103093  0.522822    ...     0.040903  0.628723   \n",
       "\n",
       "               469       470       471       472       473       474  \\\n",
       "sbj0  7.575749e-03  0.004049  0.035326  0.031818  0.043668  0.015669   \n",
       "sbj1  3.586948e-13  0.080972  0.024457  0.172497  0.000000  0.059479   \n",
       "sbj2  0.000000e+00  0.024292  0.475093  0.022727  0.021834  0.014870   \n",
       "sbj3  4.166662e-02  0.028340  0.105978  0.022957  0.004367  0.018587   \n",
       "sbj4  5.058870e-11  0.109312  0.014037  0.077273  0.004501  0.007435   \n",
       "sbj5  2.651512e-02  0.040486  0.182065  0.013845  0.030568  0.022305   \n",
       "sbj6  2.651512e-02  0.542510  0.051630  0.311476  0.043668  0.715695   \n",
       "sbj7  7.627601e-02  0.028340  0.065217  0.090701  0.122271  0.063197   \n",
       "sbj8  7.419060e-01  0.020243  0.021739  0.013636  0.091703  0.022305   \n",
       "sbj9  7.954536e-02  0.121458  0.024457  0.243070  0.637420  0.060458   \n",
       "\n",
       "           475       476  \n",
       "sbj0  0.003484  0.017021  \n",
       "sbj1  0.019390  0.025532  \n",
       "sbj2  0.017582  0.028174  \n",
       "sbj3  0.243902  0.031400  \n",
       "sbj4  0.222360  0.012766  \n",
       "sbj5  0.031586  0.055319  \n",
       "sbj6  0.010453  0.476596  \n",
       "sbj7  0.014005  0.217021  \n",
       "sbj8  0.269990  0.055319  \n",
       "sbj9  0.167247  0.080851  \n",
       "\n",
       "[10 rows x 476 columns]"
      ]
     },
     "execution_count": 101,
     "metadata": {},
     "output_type": "execute_result"
    }
   ],
   "source": [
    "theta = model_artm.get_theta()\n",
    "theta"
   ]
  },
  {
   "cell_type": "markdown",
   "metadata": {},
   "source": [
    "Если бы у нас были новые батчи, по которым мы не строим модель, а хотим только получить матрицу theta, можно пользоваться методом transform."
   ]
  },
  {
   "cell_type": "code",
   "execution_count": 103,
   "metadata": {
    "collapsed": false
   },
   "outputs": [],
   "source": [
    "theta_test = model_artm.transform(batch_vectorizer)"
   ]
  },
  {
   "cell_type": "code",
   "execution_count": 104,
   "metadata": {
    "collapsed": false
   },
   "outputs": [
    {
     "data": {
      "text/html": [
       "<div>\n",
       "<table border=\"1\" class=\"dataframe\">\n",
       "  <thead>\n",
       "    <tr style=\"text-align: right;\">\n",
       "      <th></th>\n",
       "      <th>201</th>\n",
       "      <th>202</th>\n",
       "      <th>203</th>\n",
       "      <th>204</th>\n",
       "      <th>205</th>\n",
       "      <th>206</th>\n",
       "      <th>207</th>\n",
       "      <th>208</th>\n",
       "      <th>209</th>\n",
       "      <th>210</th>\n",
       "      <th>...</th>\n",
       "      <th>467</th>\n",
       "      <th>468</th>\n",
       "      <th>469</th>\n",
       "      <th>470</th>\n",
       "      <th>471</th>\n",
       "      <th>472</th>\n",
       "      <th>473</th>\n",
       "      <th>474</th>\n",
       "      <th>475</th>\n",
       "      <th>476</th>\n",
       "    </tr>\n",
       "  </thead>\n",
       "  <tbody>\n",
       "    <tr>\n",
       "      <th>sbj0</th>\n",
       "      <td>0.000000e+00</td>\n",
       "      <td>0.000000</td>\n",
       "      <td>1.054998e-13</td>\n",
       "      <td>0.025773</td>\n",
       "      <td>0.000000</td>\n",
       "      <td>0.005435</td>\n",
       "      <td>0.008621</td>\n",
       "      <td>0.003425</td>\n",
       "      <td>0.015464</td>\n",
       "      <td>0.016597</td>\n",
       "      <td>...</td>\n",
       "      <td>0.012354</td>\n",
       "      <td>0.019920</td>\n",
       "      <td>7.575760e-03</td>\n",
       "      <td>0.004049</td>\n",
       "      <td>0.035326</td>\n",
       "      <td>0.031818</td>\n",
       "      <td>0.043668</td>\n",
       "      <td>0.015735</td>\n",
       "      <td>0.003484</td>\n",
       "      <td>0.017021</td>\n",
       "    </tr>\n",
       "    <tr>\n",
       "      <th>sbj1</th>\n",
       "      <td>4.219405e-03</td>\n",
       "      <td>0.000000</td>\n",
       "      <td>1.321584e-02</td>\n",
       "      <td>0.015464</td>\n",
       "      <td>0.004276</td>\n",
       "      <td>0.005435</td>\n",
       "      <td>0.004310</td>\n",
       "      <td>0.094343</td>\n",
       "      <td>0.046631</td>\n",
       "      <td>0.024896</td>\n",
       "      <td>...</td>\n",
       "      <td>0.012245</td>\n",
       "      <td>0.011952</td>\n",
       "      <td>3.592672e-13</td>\n",
       "      <td>0.080972</td>\n",
       "      <td>0.024457</td>\n",
       "      <td>0.172502</td>\n",
       "      <td>0.000000</td>\n",
       "      <td>0.059480</td>\n",
       "      <td>0.021103</td>\n",
       "      <td>0.025532</td>\n",
       "    </tr>\n",
       "    <tr>\n",
       "      <th>sbj2</th>\n",
       "      <td>4.219406e-02</td>\n",
       "      <td>0.005076</td>\n",
       "      <td>2.223764e-02</td>\n",
       "      <td>0.036082</td>\n",
       "      <td>0.021277</td>\n",
       "      <td>0.076087</td>\n",
       "      <td>0.043103</td>\n",
       "      <td>0.041096</td>\n",
       "      <td>0.020803</td>\n",
       "      <td>0.013154</td>\n",
       "      <td>...</td>\n",
       "      <td>0.697033</td>\n",
       "      <td>0.020415</td>\n",
       "      <td>0.000000e+00</td>\n",
       "      <td>0.024292</td>\n",
       "      <td>0.475131</td>\n",
       "      <td>0.022727</td>\n",
       "      <td>0.021834</td>\n",
       "      <td>0.014870</td>\n",
       "      <td>0.017582</td>\n",
       "      <td>0.028198</td>\n",
       "    </tr>\n",
       "    <tr>\n",
       "      <th>sbj3</th>\n",
       "      <td>5.654010e-01</td>\n",
       "      <td>0.000000</td>\n",
       "      <td>8.810561e-03</td>\n",
       "      <td>0.030928</td>\n",
       "      <td>0.029787</td>\n",
       "      <td>0.036936</td>\n",
       "      <td>0.030172</td>\n",
       "      <td>0.013972</td>\n",
       "      <td>0.093839</td>\n",
       "      <td>0.004209</td>\n",
       "      <td>...</td>\n",
       "      <td>0.012278</td>\n",
       "      <td>0.031872</td>\n",
       "      <td>4.166668e-02</td>\n",
       "      <td>0.028340</td>\n",
       "      <td>0.105978</td>\n",
       "      <td>0.022953</td>\n",
       "      <td>0.004367</td>\n",
       "      <td>0.018587</td>\n",
       "      <td>0.243903</td>\n",
       "      <td>0.031377</td>\n",
       "    </tr>\n",
       "    <tr>\n",
       "      <th>sbj4</th>\n",
       "      <td>2.733638e-09</td>\n",
       "      <td>0.000000</td>\n",
       "      <td>4.405281e-03</td>\n",
       "      <td>0.000000</td>\n",
       "      <td>0.004255</td>\n",
       "      <td>0.016834</td>\n",
       "      <td>0.009484</td>\n",
       "      <td>0.030822</td>\n",
       "      <td>0.436665</td>\n",
       "      <td>0.000000</td>\n",
       "      <td>...</td>\n",
       "      <td>0.012245</td>\n",
       "      <td>0.003984</td>\n",
       "      <td>5.024269e-11</td>\n",
       "      <td>0.109312</td>\n",
       "      <td>0.013999</td>\n",
       "      <td>0.077273</td>\n",
       "      <td>0.004499</td>\n",
       "      <td>0.007435</td>\n",
       "      <td>0.222343</td>\n",
       "      <td>0.012766</td>\n",
       "    </tr>\n",
       "    <tr>\n",
       "      <th>sbj5</th>\n",
       "      <td>2.869197e-01</td>\n",
       "      <td>0.964467</td>\n",
       "      <td>8.454222e-01</td>\n",
       "      <td>0.046392</td>\n",
       "      <td>0.893289</td>\n",
       "      <td>0.743327</td>\n",
       "      <td>0.073276</td>\n",
       "      <td>0.080315</td>\n",
       "      <td>0.020619</td>\n",
       "      <td>0.041494</td>\n",
       "      <td>...</td>\n",
       "      <td>0.098304</td>\n",
       "      <td>0.027888</td>\n",
       "      <td>2.651516e-02</td>\n",
       "      <td>0.040486</td>\n",
       "      <td>0.182065</td>\n",
       "      <td>0.013845</td>\n",
       "      <td>0.030568</td>\n",
       "      <td>0.022305</td>\n",
       "      <td>0.031587</td>\n",
       "      <td>0.055319</td>\n",
       "    </tr>\n",
       "    <tr>\n",
       "      <th>sbj6</th>\n",
       "      <td>2.109703e-02</td>\n",
       "      <td>0.010152</td>\n",
       "      <td>3.524224e-02</td>\n",
       "      <td>0.144330</td>\n",
       "      <td>0.008511</td>\n",
       "      <td>0.034425</td>\n",
       "      <td>0.167240</td>\n",
       "      <td>0.136986</td>\n",
       "      <td>0.206186</td>\n",
       "      <td>0.042109</td>\n",
       "      <td>...</td>\n",
       "      <td>0.073630</td>\n",
       "      <td>0.036109</td>\n",
       "      <td>2.651516e-02</td>\n",
       "      <td>0.542510</td>\n",
       "      <td>0.051630</td>\n",
       "      <td>0.312023</td>\n",
       "      <td>0.043668</td>\n",
       "      <td>0.715615</td>\n",
       "      <td>0.010453</td>\n",
       "      <td>0.476596</td>\n",
       "    </tr>\n",
       "    <tr>\n",
       "      <th>sbj7</th>\n",
       "      <td>5.063287e-02</td>\n",
       "      <td>0.005076</td>\n",
       "      <td>2.220808e-02</td>\n",
       "      <td>0.494845</td>\n",
       "      <td>0.012953</td>\n",
       "      <td>0.043478</td>\n",
       "      <td>0.099138</td>\n",
       "      <td>0.458630</td>\n",
       "      <td>0.020619</td>\n",
       "      <td>0.045643</td>\n",
       "      <td>...</td>\n",
       "      <td>0.028571</td>\n",
       "      <td>0.111554</td>\n",
       "      <td>7.627939e-02</td>\n",
       "      <td>0.028340</td>\n",
       "      <td>0.065217</td>\n",
       "      <td>0.090701</td>\n",
       "      <td>0.122271</td>\n",
       "      <td>0.063197</td>\n",
       "      <td>0.014005</td>\n",
       "      <td>0.217021</td>\n",
       "    </tr>\n",
       "    <tr>\n",
       "      <th>sbj8</th>\n",
       "      <td>1.687762e-02</td>\n",
       "      <td>0.010152</td>\n",
       "      <td>1.321584e-02</td>\n",
       "      <td>0.118557</td>\n",
       "      <td>0.000000</td>\n",
       "      <td>0.005435</td>\n",
       "      <td>0.301724</td>\n",
       "      <td>0.013699</td>\n",
       "      <td>0.036082</td>\n",
       "      <td>0.289076</td>\n",
       "      <td>...</td>\n",
       "      <td>0.012437</td>\n",
       "      <td>0.107570</td>\n",
       "      <td>7.419024e-01</td>\n",
       "      <td>0.020243</td>\n",
       "      <td>0.021739</td>\n",
       "      <td>0.013636</td>\n",
       "      <td>0.091703</td>\n",
       "      <td>0.022305</td>\n",
       "      <td>0.268292</td>\n",
       "      <td>0.055319</td>\n",
       "    </tr>\n",
       "    <tr>\n",
       "      <th>sbj9</th>\n",
       "      <td>1.265822e-02</td>\n",
       "      <td>0.005076</td>\n",
       "      <td>3.524224e-02</td>\n",
       "      <td>0.087629</td>\n",
       "      <td>0.025651</td>\n",
       "      <td>0.032609</td>\n",
       "      <td>0.262931</td>\n",
       "      <td>0.126712</td>\n",
       "      <td>0.103093</td>\n",
       "      <td>0.522822</td>\n",
       "      <td>...</td>\n",
       "      <td>0.040903</td>\n",
       "      <td>0.628735</td>\n",
       "      <td>7.954549e-02</td>\n",
       "      <td>0.121458</td>\n",
       "      <td>0.024457</td>\n",
       "      <td>0.242523</td>\n",
       "      <td>0.637422</td>\n",
       "      <td>0.060472</td>\n",
       "      <td>0.167247</td>\n",
       "      <td>0.080851</td>\n",
       "    </tr>\n",
       "  </tbody>\n",
       "</table>\n",
       "<p>10 rows × 476 columns</p>\n",
       "</div>"
      ],
      "text/plain": [
       "               201       202           203       204       205       206  \\\n",
       "sbj0  0.000000e+00  0.000000  1.054998e-13  0.025773  0.000000  0.005435   \n",
       "sbj1  4.219405e-03  0.000000  1.321584e-02  0.015464  0.004276  0.005435   \n",
       "sbj2  4.219406e-02  0.005076  2.223764e-02  0.036082  0.021277  0.076087   \n",
       "sbj3  5.654010e-01  0.000000  8.810561e-03  0.030928  0.029787  0.036936   \n",
       "sbj4  2.733638e-09  0.000000  4.405281e-03  0.000000  0.004255  0.016834   \n",
       "sbj5  2.869197e-01  0.964467  8.454222e-01  0.046392  0.893289  0.743327   \n",
       "sbj6  2.109703e-02  0.010152  3.524224e-02  0.144330  0.008511  0.034425   \n",
       "sbj7  5.063287e-02  0.005076  2.220808e-02  0.494845  0.012953  0.043478   \n",
       "sbj8  1.687762e-02  0.010152  1.321584e-02  0.118557  0.000000  0.005435   \n",
       "sbj9  1.265822e-02  0.005076  3.524224e-02  0.087629  0.025651  0.032609   \n",
       "\n",
       "           207       208       209       210    ...          467       468  \\\n",
       "sbj0  0.008621  0.003425  0.015464  0.016597    ...     0.012354  0.019920   \n",
       "sbj1  0.004310  0.094343  0.046631  0.024896    ...     0.012245  0.011952   \n",
       "sbj2  0.043103  0.041096  0.020803  0.013154    ...     0.697033  0.020415   \n",
       "sbj3  0.030172  0.013972  0.093839  0.004209    ...     0.012278  0.031872   \n",
       "sbj4  0.009484  0.030822  0.436665  0.000000    ...     0.012245  0.003984   \n",
       "sbj5  0.073276  0.080315  0.020619  0.041494    ...     0.098304  0.027888   \n",
       "sbj6  0.167240  0.136986  0.206186  0.042109    ...     0.073630  0.036109   \n",
       "sbj7  0.099138  0.458630  0.020619  0.045643    ...     0.028571  0.111554   \n",
       "sbj8  0.301724  0.013699  0.036082  0.289076    ...     0.012437  0.107570   \n",
       "sbj9  0.262931  0.126712  0.103093  0.522822    ...     0.040903  0.628735   \n",
       "\n",
       "               469       470       471       472       473       474  \\\n",
       "sbj0  7.575760e-03  0.004049  0.035326  0.031818  0.043668  0.015735   \n",
       "sbj1  3.592672e-13  0.080972  0.024457  0.172502  0.000000  0.059480   \n",
       "sbj2  0.000000e+00  0.024292  0.475131  0.022727  0.021834  0.014870   \n",
       "sbj3  4.166668e-02  0.028340  0.105978  0.022953  0.004367  0.018587   \n",
       "sbj4  5.024269e-11  0.109312  0.013999  0.077273  0.004499  0.007435   \n",
       "sbj5  2.651516e-02  0.040486  0.182065  0.013845  0.030568  0.022305   \n",
       "sbj6  2.651516e-02  0.542510  0.051630  0.312023  0.043668  0.715615   \n",
       "sbj7  7.627939e-02  0.028340  0.065217  0.090701  0.122271  0.063197   \n",
       "sbj8  7.419024e-01  0.020243  0.021739  0.013636  0.091703  0.022305   \n",
       "sbj9  7.954549e-02  0.121458  0.024457  0.242523  0.637422  0.060472   \n",
       "\n",
       "           475       476  \n",
       "sbj0  0.003484  0.017021  \n",
       "sbj1  0.021103  0.025532  \n",
       "sbj2  0.017582  0.028198  \n",
       "sbj3  0.243903  0.031377  \n",
       "sbj4  0.222343  0.012766  \n",
       "sbj5  0.031587  0.055319  \n",
       "sbj6  0.010453  0.476596  \n",
       "sbj7  0.014005  0.217021  \n",
       "sbj8  0.268292  0.055319  \n",
       "sbj9  0.167247  0.080851  \n",
       "\n",
       "[10 rows x 476 columns]"
      ]
     },
     "execution_count": 104,
     "metadata": {},
     "output_type": "execute_result"
    }
   ],
   "source": [
    "theta_test"
   ]
  },
  {
   "cell_type": "code",
   "execution_count": null,
   "metadata": {
    "collapsed": true
   },
   "outputs": [],
   "source": []
  }
 ],
 "metadata": {
  "kernelspec": {
   "display_name": "Python 2",
   "language": "python",
   "name": "python2"
  },
  "language_info": {
   "codemirror_mode": {
    "name": "ipython",
    "version": 2
   },
   "file_extension": ".py",
   "mimetype": "text/x-python",
   "name": "python",
   "nbconvert_exporter": "python",
   "pygments_lexer": "ipython2",
   "version": "2.7.11"
  }
 },
 "nbformat": 4,
 "nbformat_minor": 0
}

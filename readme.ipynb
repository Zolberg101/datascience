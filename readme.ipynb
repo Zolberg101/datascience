{
 "cells": [
  {
   "cell_type": "markdown",
   "metadata": {},
   "source": [
    "# Data Science\n",
    "\n",
    "## Блок 1: Python\n",
    "\n",
    "- теория\n",
    "    - [1 - Введение](CH1\\books\\1 - Vvedenie.pdf)\n",
    "    - [2 - Программирование на Pyton](CH1\\books\\2 - Programmirovanie-na-Python.pdf)\n",
    "    - [3 - Функции](CH1\\books\\3 - функции.pdf)\n",
    "    - [4 - Линейная алгебра](CH1\\books\\4 - линейная алгебра.pdf)\n",
    "    - [5 - Матрицы и матричные операции](CH1\\books\\5 - Матрицы и матричные операции.pdf)\n",
    "    - [6 - Методы оптимизации](CH1\\books\\6 - Методы оптимизации.pdf)\n",
    "    - [7 - Функции многих переменных](CH1\\books\\7 - функции многих переменных.pdf)\n",
    "    - [8 - Вероятность и случайные величины](CH1\\books\\8 - Вероятность и случайные величины.pdf)\n",
    "\n",
    "\n",
    "- практикум\n",
    "\n",
    "    - [01 - Введение в Python](CH1\\templates\\1 - introduction_to_ipython.ipynb)\n",
    "    - [02 - Типы](CH1\\templates\\2 - Types-in-Python.ipynb)\n",
    "    - [03 - Конструкции](CH1\\templates\\3 - Constructions-in-Python.ipynb)\n",
    "    - [04 - Работа с файлами - чтение](CH1\\templates\\4 - 0 - ipython_files_data_reading.ipynb)\n",
    "    - [05 - Работа с файлами - запись ](CH1\\templates\\5 - ipython_files_data_writing.ipynb)\n",
    "    - [06 - Pandas dataframe](CH1\\templates\\6 - 0 - pandas_dataframe.ipynb)\n",
    "    - [07 - Pandas индксация и выделение данных](CH1\\templates\\7 - 0 - pandas_indexing_selection.ipynb)\n",
    "    - [08 - NymPy,SciPy,Matplotlib](CH1\\templates\\8  - NumPy_-SciPy_-Matplotlib-intro.ipynb)\n",
    "    - [09 - SciPy оптимизация](CH1\\templates\\9 - SciPy-Optimization.ipynb)\n",
    "    - [10 - Векторы](CH1\\templates\\10 - vector_operations.ipynb)\n",
    "    - [11 - Матрицы](CH1\\templates\\11 - matrix_operations.ipynb)\n",
    "    - [12 - Распределения, генерация, плотности](CH1\\templates\\12 - statistics_and_variables.ipynb)\n",
    "    - [13 - Распределения, генерация, плотности](CH1\\templates\\13 - sample_distribution_evaluation.ipynb)\n",
    "\n"
   ]
  },
  {
   "cell_type": "markdown",
   "metadata": {
    "collapsed": true
   },
   "source": [
    "## Блок 2: Алгоритмы машинного обучения\n",
    "\n",
    "- теория\n",
    "    - [01 - Знакомство с машинным обучением](CH2\\books\\1_znakomstvo-s-machinym-obucheniem-Slides.pdf)\n",
    "    - [02 - Линейные модели](CH2\\books\\2_lineynye-modeli-Slides.pdf)\n",
    "    - [03 - Проблема переобучения](CH2\\books\\3_problema-pereobucheniya-Slides.pdf)\n",
    "    - [04 - Метрики качества](CH2\\books\\4_metriki-Slides.pdf)\n",
    "    - [05 - Статистический взгляд](CH2\\books\\5_statisticheskij_vzgljad.pdf)\n",
    "    - [06 - Практические рекомендации по линейным моделям](CH2\\books\\6_Prakticheskii_rekomendacii_po_linejnym_modeljam-Slides.pdf)\n",
    "    - [07 - Решающие деревья](CH2\\books\\7_reshaushie-derevya-Slides.pdf)\n",
    "    - [08 - Композиции деревьев](CH2\\books\\8_composici-dereviev-Slides.pdf)\n",
    "    - [09 - Градиентный бустинг](CH2\\books\\9_xgboost.pdf)\n",
    "    - [10 - Композиции простых лагоритмов](CH2\\books\\10_boosting-Slides.pdf)\n",
    "    - [11 - Однослойная нейронная сеть](CH2\\books\\11_neural-Slides.pdf)\n",
    "    - [12 - Баесовский классификатор ](CH2\\books\\12_bayes-classification-Slides.pdf)\n",
    "    - [13 - Метод ближайших соседей](CH2\\books\\13_knn-Slides.pdf)\n",
    "    - [14 - Теорема Байеса](CH2\\books\\14_bayes-theorem-Slides.pdf)\n",
    "\n",
    "- практика\n",
    "    - [01 - Генерация данных](CH2\\templates\\01_sklearn.datasets.ipynb)\n",
    "    - [02 - Кросс-валидация](CH2\\templates\\02_sklearn.cross_validation.ipynb)\n",
    "    - [03 - Линейные модели ч.1](CH2\\templates\\03_sklearn.linear_model_part1.ipynb)\n",
    "    - [04 - Линейные модели ч.2](CH2\\templates\\04_sklearn.linear_model_part2.ipynb)\n",
    "    - [05 - Метрики качества](CH2\\templates\\05_sklearn.metrics.ipynb)\n",
    "    - [06 - Параметрические сетки моделей](CH2\\templates\\06_sklearn.grid_search.ipynb)\n",
    "    - [07 - Пример реализации модели ч.1](CH2\\templates\\07_sklearn.case_part1.ipynb)\n",
    "    - [08 - Пример раелизации модели ч.2](CH2\\templates\\08_sklearn.case_part2.ipynb)\n",
    "    - [09 - Деревья](CH2\\templates\\09_sklearn.decision_trees.ipynb)\n",
    "    - [10 - Случайный лес](CH2\\templates\\10_sklearn.random_forest.ipynb)\n",
    "    - [11 - XGBoost](CH2\\templates\\11_sklearn.rf_vs_gb.ipynb)\n",
    "\n",
    "- задачи\n",
    "    - [01 - Линейная регрессия и основные библиотеки для работы](CH2\\homework\\01\\code.ipynb)\n",
    "    - [02 - ЛР и Стохастический линейный спуск](CH2\\homework\\02\\PA_linreg_stochastic_grad_descent1.ipynb)\n",
    "    - [03 - ЛР переобучение и регуляризация](CH2\\homework\\03\\newOverfittingTask.ipynb)\n",
    "    - [04 - Метрики качества бинарной классификации](CH2\\homework\\04\\MetricsPA.ipynb)\n",
    "    - [05 - Предобработка данных и логистическая регрессия](CH2\\homework\\05\\Preprocessing_LR.ipynb)\n",
    "    - [06 - Подбор параметров для решающих деревьев](CH2\\homework\\06\\homework-6.ipynb)\n",
    "    - [07 - Градиентный бустинг](CH2\\homework\\07\\xgbost-csore.ipynb)\n",
    "    - [08 - Оценка качества вина](CH2\\homework\\08\\quality_wine.ipynb)\n",
    "    - [09 - Нейронная сеть зависимость обучающей способности от количества нейронов](CH2\\homework\\08\\task_nn.ipynb)\n",
    "    - [10 - Байесовский классификатор оценка качества](CH2\\homework\\09\\bayes.ipynb)\n",
    "    - [11 - Оценка качества работы метрических классификаторов](CH2\\homework\\10\\Untitled.ipynb)\n"
   ]
  },
  {
   "cell_type": "markdown",
   "metadata": {},
   "source": [
    "## Блок 3: Поиск структуры в данных"
   ]
  },
  {
   "cell_type": "markdown",
   "metadata": {},
   "source": [
    "- теория\n",
    "    - [01 -  Введение в кластеризацию](CH3\\books\\1.1.Vvedenie_v_klasterizatsiyu.pdf)\n",
    "    - [02 - Подробнее о методах кластеризации](CH3\\books\\1.2.Podrobnee_o_metodah_klasterizatsii.pdf)\n",
    "    - [03 - Понижение размерности и отбор признаков](CH3\\books\\2.1.Ponizhenie_razmernosti_i_otbor_priznakov.pdf)\n",
    "    - [04 - Матричные разложения](CH3\\books\\2.2.Matrichnyye_razlozheniya.pdf)\n",
    "    - [05 - Поиск аномалий](CH3\\books\\3.1.Poisk_anomaliy.pdf)\n",
    "    - [06 - Визуализация данных](CH3\\books\\3.2.Vizualizatsiya_dannyh.pdf)\n",
    "    - [07 - Тематическое моделирование ч.1](CH3\\books\\4.1.Tematicheskoye_modelirovanie_1.pdf)\n",
    "    - [08 - Тематическое моделирование ч.2](CH3\\books\\4.2.Tematicheskoye_modelirovanie_2.pdf)\n",
    "    \n",
    "- практика    \n",
    "    - [01 - Пример кластеризации текстов](CH3\\templates\\1_TextsClusteringExample.ipynb)\n",
    "    - [02 - Визуализация данных, кластеризация](CH3\\templates\\2_sklearn.data_visualization.ipynb)\n",
    "    - [03 - Тематическое моделирование BigArtm](CH3\\templates\\BigARTM.ipynb)\n",
    "    - [04 - Кластеризация MeanShift](CH3\\templates\\MeanShift.ipynb)\n",
    "    \n",
    "- задачи\n",
    "    - [01 - Кластеризация MeanShift](CH3\\homeworks\\01\\MeanShift.ipynb)\n",
    "    - [02 - Метод главных компонент](CH3\\homeworks\\02\\1_PCA.ipynb)\n",
    "    - [03 - Визуальный анализ данных](CH3\\homeworks\\03\\VisualizationPeerReview.ipynb)\n",
    "    - [04 - LDA - Латентное распределение Дирихле в тематическом моделировании](CH3\\homeworks\\04\\CookingLDA_PA.ipynb)\n",
    "    - [05 - BigArtm - тематическое моделирование](CH3\\homeworks\\05\\PostnaukaPeerReview.ipynb)"
   ]
  },
  {
   "cell_type": "markdown",
   "metadata": {
    "collapsed": true
   },
   "source": [
    "## Блок 4: Построение выводов"
   ]
  },
  {
   "cell_type": "markdown",
   "metadata": {},
   "source": [
    "- теория\n",
    "    - [01 - Доверительные интервалы](CH4\\books\\1.2.Doveritel_nye_intervaly.pdf)\n",
    "    - [02 - Проверка гипотез](CH4\\books\\1.3.Proverka_gipotez.pdf)\n",
    "    - [03 - Параметрические критерии](CH4\\books\\2.2.Parametricheskie_kriterii.pdf)\n",
    "    - [04 - Непараметрические критерии](CH4\\books\\2.3.Neparametricheskie_kriterii.pdf)\n",
    "    - [05 - Коррелляции](CH4\\books\\3.2.Korrelyacii.pdf)\n",
    "    - [06 - Множественная проверка гипотез](CH4\\books\\3.3.Mnozhestvennaya_proverka_gipotez.pdf)\n",
    "    - [07 - Регрессия](CH4\\books\\CH4\\books\\3.4.Regressiya.pdf)\n",
    "    \n",
    "- практика\n",
    "    - [01 - Доверительные интервалы для среднего](CH4\\templates\\01_stat.mean_conf_int.ipynb)\n",
    "    - [02 - Доверительные интервалы для доли](CH4\\templates\\02_stat.proporion_conf_int.ipynb)\n",
    "    - [03 - Доверительные интервалы для двух долей](CH4\\templates\\03_stat.two_proporions_conf_int_upd.ipynb)\n",
    "    - [04 - Доверительные интервалы на основе бутстрепа](CH4\\templates\\04_stat.bootstrap_intervals.ipynb)\n",
    "    - [05 - Биномиальный критерий для доли](CH4\\templates\\05_stat.binomial_test.ipynb)\n",
    "    - [06 - Критерии согласия Пирсона (хи-квадрат)](CH4\\templates\\06_stat.hi2_test.ipynb)\n",
    "    - [07 - Применение критериев Стьюдента](CH4\\templates\\07 - stat.student_tests.ipynb)\n",
    "    - [08 - Проверка гипотез о долях](CH4\\templates\\08 - stat.two_proportions_diff_test.ipynb)\n",
    "    - [09 - Одновыборочные непараметрические критерии](CH4\\templates\\09_stat.non_parametric_tests_1sample.ipynb)\n",
    "    - [10 - Двухвыборочные непараметрические критерии (связанные выборки)](CH4\\templates\\10_stat.non_parametric_tests_rel.ipynb)\n",
    "    - [11 - Двухвыборочные непараметрические критерии (независимые выборки)](CH4\\templates\\11_stat.non_parametric_tests_ind.ipynb)\n",
    "    - [12 - Поиск взаимосвязей с помощью корреляции](CH4\\templates\\12_stat.correlation.ipynb)\n",
    "    - [13 - Поправки на множественную проверку при корреляционном анализе](CH4\\templates\\13_stat.multiple_hypothesis_testing.ipynb)\n",
    "    - [14 - Оценка зависимости с помощью регрессии](CH4\\templates\\14_stat.regression.ipynb)\n",
    "    \n",
    "-  задачи\n",
    "    - [Интервальная оценка среднего](CH4\\homeworks\\01.ipynb)\n",
    "    - [Доверительный интервал для доли](CH4\\homeworks\\02.ipynb)\n",
    "    - [Доверительные интервалы для 2х долей](CH4\\homeworks\\13.ipynb)\n",
    "    - [Биномиальный критерий для доли](CH4\\homeworks\\03.ipynb)\n",
    "    - [Критерии Стьюдента](CH4\\homeworks\\04.ipynb)\n",
    "    - [Проверка гипотез о долях](CH4\\homeworks\\05.ipynb)\n",
    "    - [Непараметрические критерии, критерий Вилкоксона, Z- критерий](CH4\\homeworks\\06.ipynb)\n",
    "    - [Критерии согласия Пирсона](CH4\\homeworks\\07.ipynb)\n",
    "    - [Критерий знаковых рангов](CH4\\homeworks\\08.ipynb)\n",
    "    - [Тест Бройша Пегана](CH4\\homeworks\\09.ipynb)\n",
    "    - [Множественная проверка гипотез](CH4\\homeworks\\10.ipynb)\n",
    "    - [Корреляция Пирсона, ](CH4\\homeworks\\11.ipynb)\n",
    "    - [Множественная проверка гипотез](CH4\\homeworks\\12.ipynb)"
   ]
  },
  {
   "cell_type": "markdown",
   "metadata": {},
   "source": [
    "## Блок: 5 Прикладные задачи анализа данных"
   ]
  },
  {
   "cell_type": "markdown",
   "metadata": {},
   "source": [
    "- теория\n",
    "    - [Прогнозирование временных рядов](CH5\\books\\1_1_Prognozirovanie-vremennyh-ryadov.pdf)\n",
    "    - [Анализ поведения пользователей](CH5\\books\\1_2_Analiz-povedeniya-pol_zovatelej.rar)\n",
    "    - [Компьютерное зрение](CH5\\books\\2_1_Komp_yuternoe-zrenie.pdf)\n",
    "    - [Нейронные сети для анализа изображений](CH5\\books\\2-2.Nejronnye-seti-dlya-analiza-izobrazhenij.pdf)\n",
    "    - [Практические задачи компьютерного зрения](CH5\\books\\2-3.Prakticheskie-zadachi-komp_yuternogo-zreniya.pdf)\n",
    "    - [Примеры задач анализа текстов](CH5\\books\\3-3.-Primery-zadach-analiza-tekstov.rar)\n",
    "    - [Рекомендательные системы](CH5\\books\\4-2.-Rekomendatel_nye-sistemy.rar)\n",
    "    - [Текстовые данные и работа с ними](CH5\\books\\week3_lesson1.pdf)\n",
    "    - [Продвинутые методы анализа текстов](CH5\\books\\week3_lesson2.pdf)\n",
    "    - [Ранжирование](CH5\\books\\week4_lesson1.pdf)\n",
    "    \n",
    "- практика\n",
    "    - [Прогнозирование временных рядов](CH5\\templates\\wines.ipynb)\n",
    "    - [Сентимент анализ](CH5\\templates\\SimpleSentiment.ipynb)\n",
    "    \n",
    "- задачи\n",
    "    - [SMS спам фильтр](CH5\\homeworks\\SMSSpamFilter.ipynb)\n",
    "    - [Прогнозирование средней зарплаты Россиян](CH5\\homeworks\\time-line-predictions.ipynb)\n",
    "    - [Рекомендательные системы](CH5\\homeworks\\Рекомендателльные системы v.3.1.ipynb)"
   ]
  },
  {
   "cell_type": "code",
   "execution_count": null,
   "metadata": {
    "collapsed": true
   },
   "outputs": [],
   "source": []
  }
 ],
 "metadata": {
  "kernelspec": {
   "display_name": "Python 2",
   "language": "python",
   "name": "python2"
  },
  "language_info": {
   "codemirror_mode": {
    "name": "ipython",
    "version": 2
   },
   "file_extension": ".py",
   "mimetype": "text/x-python",
   "name": "python",
   "nbconvert_exporter": "python",
   "pygments_lexer": "ipython2",
   "version": "2.7.13"
  }
 },
 "nbformat": 4,
 "nbformat_minor": 2
}

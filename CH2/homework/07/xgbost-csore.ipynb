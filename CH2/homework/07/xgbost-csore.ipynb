{
 "cells": [
  {
   "cell_type": "code",
   "execution_count": 9,
   "metadata": {
    "collapsed": false
   },
   "outputs": [],
   "source": [
    "import numpy as np\n",
    "from sklearn import datasets\n",
    "from sklearn.tree import DecisionTreeRegressor\n",
    "from sklearn.metrics import mean_squared_error\n",
    "from sklearn.ensemble import GradientBoostingRegressor\n",
    "from sklearn.cross_validation import cross_val_score\n",
    "from sklearn.linear_model import LinearRegression\n",
    "\n",
    "%matplotlib inline\n",
    "import matplotlib.pyplot as plt"
   ]
  },
  {
   "cell_type": "code",
   "execution_count": 55,
   "metadata": {
    "collapsed": false
   },
   "outputs": [
    {
     "name": "stdout",
     "output_type": "stream",
     "text": [
      "0.00258447429932\n"
     ]
    }
   ],
   "source": [
    "ds = datasets.load_boston()\n",
    "X = ds['data']\n",
    "y = ds['target']\n",
    "X_train = X[:int(len(X)*0.75)]\n",
    "y_train = y[:int(len(X)*0.75)]\n",
    "X_test = X[int(len(X)*0.75):]\n",
    "y_test = y[int(len(X)*0.75):]\n",
    "\n",
    "\n",
    "base_algorithms_list = []\n",
    "coefficients_list = np.array([])\n",
    "\n",
    "y_temp = y_train\n",
    "X_temp = X_train\n",
    "\n",
    "def DerevateSquaredError(y_pred,y):\n",
    "    sx = []\n",
    "    for i,(y_predi,yi) in enumerate(zip(y_pred,y)):\n",
    "        sx = np.append(sx,-(y_predi-yi))\n",
    "    return  sx\n",
    "\n",
    "def gbm_predict(X):\n",
    "    return [sum([coeff * algo.predict([x])[0] for algo, coeff in zip(base_algorithms_list, coefficients_list)]) for x in X]\n",
    "\n",
    "# начальный вектор сдвигов после 1 обучения пока 10 итераций\n",
    "for n in range(0,50):\n",
    "    #создал модель\n",
    "    base_algorithms_list = np.append(base_algorithms_list,DecisionTreeRegressor(random_state=42, max_depth=5))\n",
    "    # создал коэффициент\n",
    "    coefficients_list = np.append(coefficients_list,0.9)\n",
    "    # произвел обучение\n",
    "    base_algorithms_list[n].fit(X_temp,y_temp)\n",
    "    #получил предсказание\n",
    "    prediction = gbm_predict(X_temp)\n",
    "    # вычисляем новое значение сдвига\n",
    "    y_temp = DerevateSquaredError(prediction,y_train)\n",
    "    \n",
    "print mean_squared_error(y_train,prediction)**0.5"
   ]
  },
  {
   "cell_type": "code",
   "execution_count": 56,
   "metadata": {
    "collapsed": true
   },
   "outputs": [],
   "source": [
    "def write_answer_2(ans):\n",
    "    with open(\"dtc_answer2.txt\", \"w\") as fout:\n",
    "        fout.write(str(ans))"
   ]
  },
  {
   "cell_type": "code",
   "execution_count": 57,
   "metadata": {
    "collapsed": true
   },
   "outputs": [],
   "source": [
    "write_answer_2(mean_squared_error(y_train,prediction)**0.5)"
   ]
  },
  {
   "cell_type": "code",
   "execution_count": 58,
   "metadata": {
    "collapsed": false
   },
   "outputs": [
    {
     "name": "stdout",
     "output_type": "stream",
     "text": [
      "5.47665097417\n"
     ]
    }
   ],
   "source": [
    "prediction = gbm_predict(X_test)\n",
    "print mean_squared_error(y_test,prediction)**0.5"
   ]
  },
  {
   "cell_type": "code",
   "execution_count": 59,
   "metadata": {
    "collapsed": true
   },
   "outputs": [],
   "source": [
    "write_answer_2(mean_squared_error(y_test,prediction)**0.5)"
   ]
  },
  {
   "cell_type": "code",
   "execution_count": 60,
   "metadata": {
    "collapsed": false
   },
   "outputs": [
    {
     "name": "stdout",
     "output_type": "stream",
     "text": [
      "0.928266320729\n"
     ]
    }
   ],
   "source": [
    "base_algorithms_list = []\n",
    "coefficients_list = np.array([])\n",
    "y_temp = y_train\n",
    "X_temp = X_train\n",
    "# начальный вектор сдвигов после 1 обучения пока 10 итераций\n",
    "for n in range(0,50):\n",
    "    #создал модель\n",
    "    base_algorithms_list = np.append(base_algorithms_list,DecisionTreeRegressor(random_state=42, max_depth=5))\n",
    "    # создал коэффициент\n",
    "    coefficients_list = np.append(coefficients_list,0.9 / (1.0 + n))\n",
    "    # произвел обучение\n",
    "    base_algorithms_list[n].fit(X_temp,y_temp)\n",
    "    #получил предсказание\n",
    "    prediction = gbm_predict(X_temp)\n",
    "    # вычисляем новое значение сдвига\n",
    "    y_temp = DerevateSquaredError(prediction,y_train)\n",
    "    \n",
    "print mean_squared_error(y_train,prediction)**0.5"
   ]
  },
  {
   "cell_type": "code",
   "execution_count": 61,
   "metadata": {
    "collapsed": false
   },
   "outputs": [
    {
     "name": "stdout",
     "output_type": "stream",
     "text": [
      "4.81089328026\n"
     ]
    }
   ],
   "source": [
    "prediction = gbm_predict(X_test)\n",
    "print mean_squared_error(y_test,prediction)**0.5"
   ]
  },
  {
   "cell_type": "code",
   "execution_count": 62,
   "metadata": {
    "collapsed": true
   },
   "outputs": [],
   "source": [
    "def write_answer_3(ans):\n",
    "    with open(\"dtc_answer3.txt\", \"w\") as fout:\n",
    "        fout.write(str(ans))\n",
    "write_answer_3(mean_squared_error(y_test,prediction)**0.5)"
   ]
  },
  {
   "cell_type": "code",
   "execution_count": 63,
   "metadata": {
    "collapsed": false
   },
   "outputs": [
    {
     "data": {
      "text/plain": [
       "[<matplotlib.lines.Line2D at 0x7f6488a7cad0>]"
      ]
     },
     "execution_count": 63,
     "metadata": {},
     "output_type": "execute_result"
    },
    {
     "data": {
      "image/png": "[encoded data removed]",
      "text/plain": [
       "<matplotlib.figure.Figure at 0x7f6488d58cd0>"
      ]
     },
     "metadata": {},
     "output_type": "display_data"
    }
   ],
   "source": [
    "xs = []\n",
    "ys = []\n",
    "for x in np.arange(1, 100, 2):\n",
    "    r = GradientBoostingRegressor(n_estimators=x, random_state=42)\n",
    "    r.fit(X_train, y_train)\n",
    "    prediction = r.predict(X_test)\n",
    "\n",
    "   \n",
    "    #print \"count trees:\", n , \"ошибка\", mean_squared_error(y_test,prediction)\n",
    "    xs.append(x)\n",
    "    ys.append(cross_val_score(r, X_test, y_test).mean())\n",
    "    #ys.append(mean_squared_error(y_test,prediction))\n",
    "    \n",
    "plt.plot(xs, ys)"
   ]
  },
  {
   "cell_type": "code",
   "execution_count": 64,
   "metadata": {
    "collapsed": false
   },
   "outputs": [
    {
     "data": {
      "text/plain": [
       "[<matplotlib.lines.Line2D at 0x7f6488a5de90>]"
      ]
     },
     "execution_count": 64,
     "metadata": {},
     "output_type": "execute_result"
    },
    {
     "data": {
      "image/png": "[encoded data removed]",
      "text/plain": [
       "<matplotlib.figure.Figure at 0x7f6488ab80d0>"
      ]
     },
     "metadata": {},
     "output_type": "display_data"
    }
   ],
   "source": [
    "xs = []\n",
    "ys = []\n",
    "for x in np.arange(1,20, 1):\n",
    "    r = GradientBoostingRegressor(max_depth=x, random_state=42)\n",
    "    r.fit(X_train, y_train)\n",
    "    prediction = r.predict(X_test)\n",
    "    xs.append(x)\n",
    "    ys.append(cross_val_score(r, X_test, y_test).mean())\n",
    "    #ys.append(mean_squared_error(y_test,prediction))\n",
    "    \n",
    "plt.plot(xs, ys)"
   ]
  },
  {
   "cell_type": "markdown",
   "metadata": {},
   "source": [
    "1. С увеличением числа деревьев начиная с некоторого момента качество работы градиентного бустинга не меняется существенно.\n",
    "2. С увеличением числа деревьев начиная с некоторого момента градиентный бустинг начинает переобучаться.\n",
    "3. С ростом глубины деревьев, начиная с некоторого момента, качество работы градиентного бустинга на тестовой выборке начинает ухудшаться\n",
    "4. С ростом глубины деревьев, начиная с некоторого момента, качество работы градиентного бустинга перестает существенно изменяться\n"
   ]
  },
  {
   "cell_type": "code",
   "execution_count": 65,
   "metadata": {
    "collapsed": false
   },
   "outputs": [],
   "source": [
    "#1 3 4\n",
    "#1 3\n",
    "def write_answer_4(a1,a2):\n",
    "    answers = [a1, a2]\n",
    "    with open(\"dtc_answer4.txt\", \"w\") as fout:\n",
    "        fout.write(\" \".join([str(num) for num in answers]))\n",
    "        \n",
    "write_answer_4(2,3)"
   ]
  },
  {
   "cell_type": "markdown",
   "metadata": {},
   "source": [
    "В самом деле, градиентный бустинг все больше подгоняется под данные с ростом числа деревьев, а рост глубины деревьев только ускоряет этот процесс. Начиная с некоторого момента алгоритм будет все больше переобучаться."
   ]
  },
  {
   "cell_type": "code",
   "execution_count": 67,
   "metadata": {
    "collapsed": false
   },
   "outputs": [
    {
     "name": "stdout",
     "output_type": "stream",
     "text": [
      "8.27046803494\n"
     ]
    }
   ],
   "source": [
    "estimator = LinearRegression()\n",
    "estimator.fit(X_train,y_train)\n",
    "prediction = estimator.predict(X_test)\n",
    "print mean_squared_error(y_test,prediction)**0.5\n"
   ]
  },
  {
   "cell_type": "code",
   "execution_count": 68,
   "metadata": {
    "collapsed": true
   },
   "outputs": [],
   "source": [
    "def write_answer_5(ans):\n",
    "    with open(\"dtc_answer5.txt\", \"w\") as fout:\n",
    "        fout.write(str(ans))\n",
    "write_answer_5(mean_squared_error(y_test,prediction)**0.5)"
   ]
  },
  {
   "cell_type": "code",
   "execution_count": null,
   "metadata": {
    "collapsed": true
   },
   "outputs": [],
   "source": []
  }
 ],
 "metadata": {
  "kernelspec": {
   "display_name": "Python 2",
   "language": "python",
   "name": "python2"
  },
  "language_info": {
   "codemirror_mode": {
    "name": "ipython",
    "version": 2
   },
   "file_extension": ".py",
   "mimetype": "text/x-python",
   "name": "python",
   "nbconvert_exporter": "python",
   "pygments_lexer": "ipython2",
   "version": "2.7.11"
  }
 },
 "nbformat": 4,
 "nbformat_minor": 0
}

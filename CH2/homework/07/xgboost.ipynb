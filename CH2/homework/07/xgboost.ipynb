{
 "cells": [
  {
   "cell_type": "code",
   "execution_count": 2,
   "metadata": {
    "collapsed": false
   },
   "outputs": [],
   "source": [
    "import numpy as np\n",
    "from sklearn import datasets\n",
    "from sklearn.tree import DecisionTreeRegressor\n",
    "from sklearn.metrics import mean_squared_error\n",
    "from sklearn.ensemble import GradientBoostingRegressor\n",
    "from sklearn.cross_validation import cross_val_score\n",
    "from sklearn.linear_model import LinearRegression\n",
    "\n",
    "%matplotlib inline\n",
    "import matplotlib.pyplot as plt"
   ]
  },
  {
   "cell_type": "code",
   "execution_count": 3,
   "metadata": {
    "collapsed": false
   },
   "outputs": [],
   "source": [
    "ds = datasets.load_boston()\n",
    "X = ds['data']\n",
    "y = ds['target']\n",
    "X_train = X[:int(len(X)*0.75)]\n",
    "y_train = y[:int(len(X)*0.75)]\n",
    "X_test = X[int(len(X)*0.75):]\n",
    "y_test = y[int(len(X)*0.75):]"
   ]
  },
  {
   "cell_type": "code",
   "execution_count": 6,
   "metadata": {
    "collapsed": false
   },
   "outputs": [
    {
     "data": {
      "text/plain": [
       "[<matplotlib.lines.Line2D at 0x7f20a03f2810>]"
      ]
     },
     "execution_count": 6,
     "metadata": {},
     "output_type": "execute_result"
    },
    {
     "data": {
      "image/png": "[encoded data removed]",
      "text/plain": [
       "<matplotlib.figure.Figure at 0x7f20a04e1b50>"
      ]
     },
     "metadata": {},
     "output_type": "display_data"
    }
   ],
   "source": [
    "xs = []\n",
    "ys = []\n",
    "for x in np.arange(1, 200, 5):\n",
    "    r = GradientBoostingRegressor(n_estimators=x)\n",
    "    r.fit(X_train, y_train)\n",
    "   \n",
    "    xs.append(x)\n",
    "    ys.append(cross_val_score(r, X_test, y_test).mean())\n",
    "    \n",
    "plt.plot(xs, ys)"
   ]
  },
  {
   "cell_type": "code",
   "execution_count": 5,
   "metadata": {
    "collapsed": false
   },
   "outputs": [
    {
     "data": {
      "text/plain": [
       "[<matplotlib.lines.Line2D at 0x7f20a04a9dd0>]"
      ]
     },
     "execution_count": 5,
     "metadata": {},
     "output_type": "execute_result"
    },
    {
     "data": {
      "image/png": "[encoded data removed]",
      "text/plain": [
       "<matplotlib.figure.Figure at 0x7f20a2c85790>"
      ]
     },
     "metadata": {},
     "output_type": "display_data"
    }
   ],
   "source": [
    "xs = []\n",
    "ys = []\n",
    "for x in np.arange(1, 50, 1):\n",
    "    r = GradientBoostingRegressor(max_depth=x)\n",
    "    r.fit(X_train, y_train)\n",
    "    \n",
    "    xs.append(x)\n",
    "    ys.append(cross_val_score(r, X_test, y_test).mean())\n",
    "    \n",
    "plt.plot(xs, ys)"
   ]
  },
  {
   "cell_type": "markdown",
   "metadata": {
    "collapsed": true
   },
   "source": [
    "1) С увеличением числа деревьев начиная с некоторого момента качество работы градиентного бустинга не меняется существенно.\n",
    "\n",
    "2) С увеличением числа деревьев начиная с некоторого момента градиентный бустинг начинает переобучаться.\n",
    "\n",
    "3) С ростом глубины деревьев, начиная с некоторого момента, качество работы градиентного бустинга на тестовой выборке начинает ухудшаться\n",
    "\n",
    "4) С ростом глубины деревьев, начиная с некоторого момента, качество работы градиентного бустинга перестает существенно изменяться"
   ]
  },
  {
   "cell_type": "code",
   "execution_count": null,
   "metadata": {
    "collapsed": true
   },
   "outputs": [],
   "source": [
    "#2 4 \n",
    "def write_answer_3(ans):\n",
    "    with open(\"dtc_answer3.txt\", \"w\") as fout:\n",
    "        fout.write(str(ans))\n",
    "write_answer_3(mean_squared_error(y_test,prediction)**0.5)"
   ]
  }
 ],
 "metadata": {
  "kernelspec": {
   "display_name": "Python 2",
   "language": "python",
   "name": "python2"
  },
  "language_info": {
   "codemirror_mode": {
    "name": "ipython",
    "version": 2
   },
   "file_extension": ".py",
   "mimetype": "text/x-python",
   "name": "python",
   "nbconvert_exporter": "python",
   "pygments_lexer": "ipython2",
   "version": "2.7.11"
  }
 },
 "nbformat": 4,
 "nbformat_minor": 0
}

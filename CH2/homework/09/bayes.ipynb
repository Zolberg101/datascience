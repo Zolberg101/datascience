{
 "cells": [
  {
   "cell_type": "code",
   "execution_count": 72,
   "metadata": {
    "collapsed": false
   },
   "outputs": [],
   "source": [
    "from matplotlib.colors import ListedColormap\n",
    "from sklearn import cross_validation, datasets, linear_model, metrics, naive_bayes\n",
    "from pandas import DataFrame as pd\n",
    "\n",
    "import numpy as np"
   ]
  },
  {
   "cell_type": "code",
   "execution_count": 73,
   "metadata": {
    "collapsed": false
   },
   "outputs": [
    {
     "name": "stdout",
     "output_type": "stream",
     "text": [
      "Populating the interactive namespace from numpy and matplotlib\n"
     ]
    }
   ],
   "source": [
    "%pylab inline"
   ]
  },
  {
   "cell_type": "code",
   "execution_count": 74,
   "metadata": {
    "collapsed": false
   },
   "outputs": [
    {
     "name": "stdout",
     "output_type": "stream",
     "text": [
      "['images', 'data', 'target_names', 'DESCR', 'target']\n",
      "['target_names', 'data', 'target', 'DESCR', 'feature_names']\n"
     ]
    }
   ],
   "source": [
    "digits = datasets.load_digits()\n",
    "print digits.keys()\n",
    "breast_cancer = datasets.load_breast_cancer()\n",
    "print breast_cancer.keys()"
   ]
  },
  {
   "cell_type": "code",
   "execution_count": 75,
   "metadata": {
    "collapsed": false
   },
   "outputs": [
    {
     "name": "stdout",
     "output_type": "stream",
     "text": [
      "[[  0.   0.   5.  13.   9.   1.   0.   0.   0.   0.  13.  15.  10.  15.\n",
      "    5.   0.   0.   3.  15.   2.   0.  11.   8.   0.   0.   4.  12.   0.\n",
      "    0.   8.   8.   0.   0.   5.   8.   0.   0.   9.   8.   0.   0.   4.\n",
      "   11.   0.   1.  12.   7.   0.   0.   2.  14.   5.  10.  12.   0.   0.\n",
      "    0.   0.   6.  13.  10.   0.   0.   0.]] [0] (1797, 64) (1797,)\n",
      "[[  1.79900000e+01   1.03800000e+01   1.22800000e+02   1.00100000e+03\n",
      "    1.18400000e-01   2.77600000e-01   3.00100000e-01   1.47100000e-01\n",
      "    2.41900000e-01   7.87100000e-02   1.09500000e+00   9.05300000e-01\n",
      "    8.58900000e+00   1.53400000e+02   6.39900000e-03   4.90400000e-02\n",
      "    5.37300000e-02   1.58700000e-02   3.00300000e-02   6.19300000e-03\n",
      "    2.53800000e+01   1.73300000e+01   1.84600000e+02   2.01900000e+03\n",
      "    1.62200000e-01   6.65600000e-01   7.11900000e-01   2.65400000e-01\n",
      "    4.60100000e-01   1.18900000e-01]] [0] (569, 30) (569,)\n"
     ]
    }
   ],
   "source": [
    "print digits.data[:1], digits.target[:1], digits.data.shape, digits.target.shape\n",
    "print breast_cancer.data[:1], breast_cancer.target[:1], breast_cancer.data.shape, breast_cancer.target.shape"
   ]
  },
  {
   "cell_type": "code",
   "execution_count": 76,
   "metadata": {
    "collapsed": false
   },
   "outputs": [],
   "source": [
    "digits_train_data, digits_test_data, digits_train_labels, digits_test_labels = cross_validation.train_test_split(digits.data, digits.target,\n",
    "                                                                                     test_size = 0.3, random_state = 1)\n",
    "cancer_train_data, cancer_test_data, cancer_train_labels, cancer_test_labels = cross_validation.train_test_split(breast_cancer.data, breast_cancer.target,\n",
    "                                                                                     test_size = 0.3, random_state = 1)"
   ]
  },
  {
   "cell_type": "code",
   "execution_count": 77,
   "metadata": {
    "collapsed": false,
    "scrolled": true
   },
   "outputs": [
    {
     "name": "stdout",
     "output_type": "stream",
     "text": [
      "BERN mean: 0.825823650778, std: 0.0149708363488\n",
      "BERN CAN mean: 0.627420402859, std: 0.0149708363488\n",
      "MULTI mean: 0.870877148974, std: 0.00910143439872\n",
      "MULTI CAN mean: 0.894579040193, std: 0.0126992744185\n",
      "GAUS mean: 0.818600380355, std: 0.0138101320277\n",
      "GAUS CAN mean: 0.936749280609, std: 0.0148212576317\n"
     ]
    }
   ],
   "source": [
    "# BernoulliNB(), MultinomialNB и GaussianNB\n",
    "clf_bern = naive_bayes.BernoulliNB()\n",
    "clf_multi = naive_bayes.MultinomialNB()\n",
    "clf_gaussian = naive_bayes.GaussianNB()\n",
    "\n",
    "clf_bern_can = naive_bayes.BernoulliNB()\n",
    "clf_multi_can = naive_bayes.MultinomialNB()\n",
    "clf_gaussian_can = naive_bayes.GaussianNB()\n",
    "\n",
    "\n",
    "bern_scoring = cross_validation.cross_val_score(clf_bern,digits.data, digits.target)\n",
    "print 'BERN','mean: {}, std: {}'.format(bern_scoring.mean(), bern_scoring.std())\n",
    "\n",
    "bern_scoring_can = cross_validation.cross_val_score(clf_bern_can,breast_cancer.data,breast_cancer.target)\n",
    "print 'BERN CAN','mean: {}, std: {}'.format(bern_scoring_can.mean(), bern_scoring.std())\n",
    "\n",
    "multi_scoring = cross_validation.cross_val_score(clf_multi,digits.data, digits.target)\n",
    "print 'MULTI','mean: {}, std: {}'.format(multi_scoring.mean(), multi_scoring.std())\n",
    "\n",
    "multi_scoring_can = cross_validation.cross_val_score(clf_multi_can,breast_cancer.data,breast_cancer.target)\n",
    "print 'MULTI CAN','mean: {}, std: {}'.format(multi_scoring_can.mean(), multi_scoring_can.std())\n",
    "\n",
    "gauss_scoring = cross_validation.cross_val_score(clf_gaussian,digits.data, digits.target)\n",
    "print 'GAUS','mean: {}, std: {}'.format(gauss_scoring.mean(), gauss_scoring.std())\n",
    "\n",
    "gauss_scoring_can = cross_validation.cross_val_score(clf_gaussian_can,breast_cancer.data,breast_cancer.target)\n",
    "print 'GAUS CAN','mean: {}, std: {}'.format(gauss_scoring_can.mean(), gauss_scoring_can.std())"
   ]
  },
  {
   "cell_type": "markdown",
   "metadata": {},
   "source": [
    "Вопрос 1\n",
    "Каким получилось максимальное качество классификации на датасете breast_cancer?\n",
    "\n",
    "Вопрос 2\n",
    "Каким получилось максимальное качество классификации на датасете digits?\n",
    "\n",
    "Вопрос 3\n",
    "Выберите верные утверждения и запишите их номера через пробел (в порядке возрастания номера):\n",
    "\n",
    "1. На вещественных признаках лучше всего сработал наивный байесовский классификатор с распределением Бернулли\n",
    "2. На вещественных признаках лучше всего сработал наивный байесовский классификатор с мультиномиальным распределением\n",
    "3. Мультиномиальное распределение лучше показало себя на выборке с целыми неотрицательными значениями признаков\n",
    "4. На вещественных признаках лучше всего сработало нормальное распределение"
   ]
  },
  {
   "cell_type": "code",
   "execution_count": 81,
   "metadata": {
    "collapsed": true
   },
   "outputs": [],
   "source": [
    "def write_answer_1(ans):\n",
    "    with open(\"dtc_answer1.txt\", \"w\") as fout:\n",
    "        fout.write(str(ans))\n",
    "write_answer_1(0.936749280609)\n",
    "\n",
    "def write_answer_2(ans):\n",
    "    with open(\"dtc_answer2.txt\", \"w\") as fout:\n",
    "        fout.write(str(ans))\n",
    "write_answer_2(0.870877148974)\n",
    "\n",
    "def write_answer_3(a1,a2):\n",
    "    answers = [a1, a2]\n",
    "    with open(\"dtc_answer3.txt\", \"w\") as fout:\n",
    "        fout.write(\" \".join([str(num) for num in answers]))\n",
    "        \n",
    "write_answer_3(3,4)"
   ]
  },
  {
   "cell_type": "code",
   "execution_count": 80,
   "metadata": {
    "collapsed": false
   },
   "outputs": [
    {
     "name": "stdout",
     "output_type": "stream",
     "text": [
      "[ 0.91578947  0.94736842  0.94708995]\n"
     ]
    }
   ],
   "source": [
    "print gauss_scoring_can"
   ]
  },
  {
   "cell_type": "code",
   "execution_count": null,
   "metadata": {
    "collapsed": true
   },
   "outputs": [],
   "source": []
  }
 ],
 "metadata": {
  "kernelspec": {
   "display_name": "Python 2",
   "language": "python",
   "name": "python2"
  },
  "language_info": {
   "codemirror_mode": {
    "name": "ipython",
    "version": 2
   },
   "file_extension": ".py",
   "mimetype": "text/x-python",
   "name": "python",
   "nbconvert_exporter": "python",
   "pygments_lexer": "ipython2",
   "version": "2.7.13"
  }
 },
 "nbformat": 4,
 "nbformat_minor": 0
}
